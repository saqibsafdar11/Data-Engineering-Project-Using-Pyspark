{
 "cells": [
  {
   "cell_type": "markdown",
   "metadata": {},
   "source": [
    "# Data Engineering Activity\n",
    "\n",
    "## Available Data\n",
    "I have access to the following datasets:\n",
    "\n",
    "- **dim_Organisation**: Contains school records for various Academies within the same school group.\n",
    "- **dim_Student**: Includes core information about each student.\n",
    "- **dim_StudentExtended**: Provides additional details for each student.\n",
    "- **fact_AttendanceSession**: Records daily attendance for each student, divided into two sessions: AM and PM. A student's attendance percentage is calculated as the sum of `is_present` divided by the sum of `is_possible`.\n",
    "- **dim_Date**: A CSV file serving as a date dimension, with `FullDate` as the date column.\n",
    "\n",
    "## Activity Brief\n",
    "\n",
    "My task is to create summary analytics to assist the Data Analyst in building an Attendance Report. I will follow these steps:\n",
    "\n",
    "1. **Data Loading**\n",
    "    - I will create a Jupyter Notebook to load the parquet files and the CSV into DataFrames.\n",
    "    - I will use an environment of my choice (e.g., Databricks Community Edition, VSCode with Jupyter Extension).\n",
    "\n",
    "2. **Data Exploration**\n",
    "    - I will determine the key relationships between the tables.\n",
    "\n",
    "3. **Summary Table Creation**\n",
    "    - I will produce a single summary table that includes the attendance percentage for each school on a weekly basis, categorized by the student's Year Group.\n",
    "    - I will use my judgement to select the appropriate columns to include.\n",
    "\n",
    "4. **Analytics**\n",
    "    - I will print or display summary statistics about the data within the Notebook.\n",
    "\n",
    "5. **Exporting Results**\n",
    "    - I will write the summary table to `fact_AttendanceSummary` in Parquet format.\n",
    "\n",
    "\n"
   ]
  },
  {
   "cell_type": "markdown",
   "metadata": {},
   "source": [
    "### Data Engineering Activity - Outline of Approach\n",
    "\n",
    "\n",
    "I will use **PySpark**, given the large size of the dataset, which contains approximately 16 million rows. I will follow these steps to complete the task:\n",
    "\n",
    "1. **Import Libraries**: Load the necessary PySpark libraries.\n",
    "2. **Write Methods**: write methods of tasks which I will repeatedly use\n",
    "3. **View the data**: Import the dataset into a PySpark DataFrame. Conduct an initial exploration to understand the structure, data types, and key attributes of the dataset.  \n",
    "4. **Join the data**: Merge the tables to create a single DataFrame containing all relevant information.  \n",
    "5. **Inspect Distinct Values**: Check the unique values in each column to identify any inconsistencies or missing values. \n",
    "6. **Select Relevant Columns**: Choose the necessary columns for the analysis.\n",
    "7. **Data Integrity Check**: Ensure data integrity by feature engineering a key to ensure each pupil has two entrices for each day. \n",
    "8. **Calculate Attendance Percentage**: Calculate the attendance percentage for each student based on the attendance records.Create a summary table containing the attendance percentage for each school on a weekly basis, grouped by the **Year Group** of the students.  \n",
    "9. **Investigate Null Values**: Analyse the distribution of null values in the dataset and decide on the appropriate handling strategy.\n",
    "10. **Write the Summary Table**: Display key summary statistics in the Notebook, including metrics such as the mean, median, minimum, maximum, and standard deviation of attendance percentages.  Export the summary table to `fact_AttendanceSummary` in **Parquet** format for further analysis and reporting.\n",
    "11. **Notes for Data Analyst**: Provide additional notes or insights that may be useful for the Data Analyst when building the Attendance Report.\n",
    "\n",
    "Each section is labelled accordingly with a markdown header for clarity and ease of navigation."
   ]
  },
  {
   "cell_type": "code",
   "execution_count": 1,
   "metadata": {},
   "outputs": [],
   "source": [
    "# SparkSession is the entry point to Spark SQL\n",
    "\n",
    "from pyspark.sql import SparkSession \n",
    "\n",
    "# Create a SparkSession and set memory for the driver\n",
    "spark = SparkSession.builder \\\n",
    "    .appName(\"MyApp\") \\\n",
    "    .config(\"spark.driver.memory\", \"8g\") \\\n",
    "    .getOrCreate()\n"
   ]
  },
  {
   "cell_type": "code",
   "execution_count": 2,
   "metadata": {},
   "outputs": [],
   "source": [
    "# Load CSV files into Spark DataFrames and infer schema to avoid specifying it manually\n",
    "df_date_spark = spark.read \\\n",
    "    .option(\"header\", True) \\\n",
    "    .option(\"inferSchema\", True) \\\n",
    "    .csv(\"data/dim_Date.csv\")\n",
    "\n",
    "# Load parquet files into Spark DataFrames \n",
    "df_attendancesessions_spark = spark.read.parquet(\"data/fact_AttendanceSession\")\n",
    "df_organisation_spark = spark.read.parquet(\"data/dim_Organisation\")\n",
    "df_student_spark = spark.read.parquet(\"data/dim_Student\")\n",
    "df_studentextended_spark = spark.read.parquet(\"data/dim_StudentExtended\")\n"
   ]
  },
  {
   "cell_type": "markdown",
   "metadata": {},
   "source": [
    "#### 1. Import Libraries "
   ]
  },
  {
   "cell_type": "code",
   "execution_count": 3,
   "metadata": {},
   "outputs": [],
   "source": [
    "from pyspark.sql import DataFrame\n",
    "from pyspark.sql import functions as F\n",
    "from pyspark.sql.functions import countDistinct\n",
    "from functools import reduce\n",
    "\n"
   ]
  },
  {
   "cell_type": "markdown",
   "metadata": {},
   "source": [
    "#### 2. Methods"
   ]
  },
  {
   "cell_type": "code",
   "execution_count": 4,
   "metadata": {},
   "outputs": [],
   "source": [
    "\n",
    "\n",
    "def show_df_missing_breakdown(df: DataFrame) -> None:\n",
    "    \"\"\"\n",
    "    Prints:\n",
    "      - The DataFrame size (rows, columns)\n",
    "      - For each column:\n",
    "        * number of NULLs\n",
    "        * number of empty strings\n",
    "        * number of 'NA' / 'NaN' (case-insensitive) as strings\n",
    "        * number of numeric NaNs (for numeric columns)\n",
    "        * total missing (sum of above)\n",
    "        * percentage missing\n",
    "    \"\"\"\n",
    "    total_rows = df.count()\n",
    "    total_cols = len(df.columns)\n",
    "\n",
    "    # Prepare expressions for counting different \"missing\" types for each column\n",
    "    agg_exprs = []\n",
    "    for field in df.schema.fields:\n",
    "        col_name = field.name\n",
    "        # Check if column is numeric (so we can safely use F.isnan)\n",
    "        is_numeric = field.dataType.typeName() in (\n",
    "            \"double\", \"float\", \"decimal\", \n",
    "            \"integer\", \"long\", \"short\", \"byte\"\n",
    "        )\n",
    "\n",
    "        # Count NULLs\n",
    "        null_count_expr = F.sum(\n",
    "            F.when(F.col(col_name).isNull(), 1).otherwise(0)\n",
    "        ).alias(col_name + \"_nullCount\")\n",
    "\n",
    "        # Count empty strings\n",
    "        empty_count_expr = F.sum(\n",
    "            F.when(F.col(col_name).cast(\"string\") == \"\", 1).otherwise(0)\n",
    "        ).alias(col_name + \"_emptyCount\")\n",
    "\n",
    "        # Count string 'NA' or 'NaN' (case-insensitive)\n",
    "        na_str_expr = F.sum(\n",
    "            F.when(\n",
    "                F.upper(F.col(col_name).cast(\"string\")).isin(\"NA\", \"NAN\"), \n",
    "                1\n",
    "            ).otherwise(0)\n",
    "        ).alias(col_name + \"_naStrCount\")\n",
    "\n",
    "        # Count numeric NaN (only for numeric columns)\n",
    "        if is_numeric:\n",
    "            nan_numeric_expr = F.sum(\n",
    "                F.when(F.isnan(F.col(col_name)), 1).otherwise(0)\n",
    "            ).alias(col_name + \"_nanNumericCount\")\n",
    "        else:\n",
    "            # For non-numeric columns, this will always be 0\n",
    "            nan_numeric_expr = F.lit(0).alias(col_name + \"_nanNumericCount\")\n",
    "\n",
    "        # Collect all expressions\n",
    "        agg_exprs.extend([\n",
    "            null_count_expr, empty_count_expr, na_str_expr, nan_numeric_expr\n",
    "        ])\n",
    "\n",
    "    # Perform a single pass to get all missing counts\n",
    "    agg_df = df.select(agg_exprs)\n",
    "    result_row = agg_df.collect()[0].asDict()  # single row with all counts\n",
    "\n",
    "    # Print header\n",
    "    print(f\"DataFrame has {total_rows} rows and {total_cols} columns.\\n\")\n",
    "    print(\n",
    "        \"Column                             \"\n",
    "        \"Null  EmptyStr  NA/NaNStr  NumericNaN  TotalMissing  %Missing\"\n",
    "    )\n",
    "    print(\"-\" * 70)\n",
    "\n",
    "    # Loop over columns and print breakdown\n",
    "    for field in df.schema.fields:\n",
    "        c = field.name\n",
    "        null_count = result_row[c + \"_nullCount\"]\n",
    "        empty_count = result_row[c + \"_emptyCount\"]\n",
    "        na_str_count = result_row[c + \"_naStrCount\"]\n",
    "        nan_numeric_count = result_row[c + \"_nanNumericCount\"]\n",
    "\n",
    "        total_missing = null_count + empty_count + na_str_count + nan_numeric_count\n",
    "        pct_missing = (total_missing / total_rows * 100) if total_rows else 0.0\n",
    "\n",
    "        print(\n",
    "            f\"{c:34s}\"\n",
    "            f\"{null_count:5d}\"\n",
    "            f\"{empty_count:10d}\"\n",
    "            f\"{na_str_count:10d}\"\n",
    "            f\"{nan_numeric_count:12d}\"\n",
    "            f\"{total_missing:13d}\"\n",
    "            f\"{pct_missing:10.2f}%\"\n",
    "        )\n"
   ]
  },
  {
   "cell_type": "code",
   "execution_count": 5,
   "metadata": {},
   "outputs": [],
   "source": [
    "\n",
    "def show_distinct_counts(df: DataFrame, top_n: int = 20) -> None:\n",
    "    \"\"\"\n",
    "    Displays the number of distinct values in each column of the DataFrame\n",
    "    and lists the top_n columns with the highest distinct counts.\n",
    "    \n",
    "    Additionally, creates and displays a DataFrame containing all columns with their distinct counts.\n",
    "    \n",
    "    Parameters:\n",
    "    df (DataFrame): The Spark DataFrame to analyze.\n",
    "    top_n (int): The number of top columns to display based on distinct counts.\n",
    "    \"\"\"\n",
    "    # Calculate distinct counts for each column\n",
    "    distinct_counts = df.agg(*[countDistinct(c).alias(c) for c in df.columns]).collect()[0].asDict()\n",
    "    \n",
    "    # Sort columns by distinct count in descending order\n",
    "    sorted_counts = sorted(distinct_counts.items(), key=lambda x: x[1], reverse=True)\n",
    "    \n",
    "    # Display the top_n columns\n",
    "    print(f\"{'Column':34s} {'Distinct Count'}\")\n",
    "    print(\"-\" * 50)\n",
    "    for col, cnt in sorted_counts[:top_n]:\n",
    "        print(f\"{col:34s} {cnt}\")\n",
    "    \n",
    "    # Create a DataFrame of all distinct counts\n",
    "    df_distinct_counts = spark.createDataFrame(sorted_counts, [\"Column\", \"Distinct_Count\"])\n",
    "    \n",
    "    # Show the DataFrame of distinct counts\n",
    "    print(\"\\nAll Column Distinct Counts:\")\n",
    "    df_distinct_counts.show(truncate=False)"
   ]
  },
  {
   "cell_type": "code",
   "execution_count": 6,
   "metadata": {},
   "outputs": [],
   "source": [
    "from pyspark.sql import SparkSession, DataFrame, functions as F\n",
    "\n",
    "def show_distinct_counts_approx(df: DataFrame, top_n: int = 20, rsd: float = 0.05) -> None:\n",
    "    \"\"\"\n",
    "    Displays the approximate number of distinct values in each column of the DataFrame\n",
    "    and lists the top_n columns with the highest distinct counts.\n",
    "\n",
    "    Additionally, creates and displays a DataFrame containing all columns with \n",
    "    their approximate distinct counts, but only shows the top_n rows to reduce \n",
    "    the chance of memory/network issues.\n",
    "\n",
    "    Parameters:\n",
    "    -----------\n",
    "    df : DataFrame\n",
    "        The Spark DataFrame to analyze.\n",
    "    top_n : int\n",
    "        The number of top columns to display based on distinct counts.\n",
    "    rsd : float\n",
    "        Relative Standard Deviation for approx_count_distinct. \n",
    "        Lower = more accurate but more memory usage. Typical default is 0.05.\n",
    "    \"\"\"\n",
    "\n",
    "    # Build a list of approx_count_distinct expressions for each column\n",
    "    approx_exprs = [\n",
    "        F.approx_count_distinct(F.col(c), rsd=rsd).alias(c)\n",
    "        for c in df.columns\n",
    "    ]\n",
    "\n",
    "    # Collect the single row of approximate distinct counts as a dict\n",
    "    #  e.g. {'colA': 123, 'colB': 999, ...}\n",
    "    approx_counts_row = df.agg(*approx_exprs).collect()[0].asDict()\n",
    "\n",
    "    # Convert that dict into a list of (column, distinct_count) tuples and sort\n",
    "    sorted_counts = sorted(approx_counts_row.items(), key=lambda x: x[1], reverse=True)\n",
    "\n",
    "    # Print header\n",
    "    print(f\"{'Column':34s} {'Approx Distinct Count'}\")\n",
    "    print(\"-\" * 60)\n",
    "\n",
    "    # Show only the top_n columns in console\n",
    "    for col_name, cnt in sorted_counts[:top_n]:\n",
    "        print(f\"{col_name:34s} {cnt}\")\n",
    "\n",
    "    # Create a small DataFrame from the sorted counts\n",
    "    # Each row: (column_name, approx_distinct_count)\n",
    "    spark = SparkSession.builder.getOrCreate()\n",
    "    df_approx_counts = spark.createDataFrame(\n",
    "        sorted_counts, [\"Column\", \"ApproxDistinctCount\"]\n",
    "    )\n",
    "\n",
    "    # Show only the top_n rows, so we don't blow up memory\n",
    "    print(\"\\nAll Column Approx Distinct Counts (showing top_n only):\")\n",
    "    df_approx_counts.limit(top_n).show(truncate=False)\n"
   ]
  },
  {
   "cell_type": "markdown",
   "metadata": {},
   "source": [
    "#### 3. View the Data "
   ]
  },
  {
   "cell_type": "code",
   "execution_count": 7,
   "metadata": {},
   "outputs": [
    {
     "name": "stdout",
     "output_type": "stream",
     "text": [
      "+---------------+--------------+------------+--------------+-----------------+-------------------+--------------------------+-----------+-----------------------+----------+------------------------------+-------------------------------------+-------------+---------------------+--------------------+--------------------+----------+---------------+--------------------+--------------------+----------+--------+--------------------+--------------------+--------------------+\n",
      "|      Ethnicity|Ethnicity_Code|Ever_In_Care|First_Language|Free_School_Meals|Free_School_Meals_6|Gifted_And_Talented_Status|In_LEA_Care|Pupil_Premium_Indicator|SEN_Status|English_As_Additional_Language|English_As_Additional_Language_Status|Child_In_Need|Child_Protection_Plan|    Enrolment_Status|  studentextendedkey|Year_Group|Current_NC_Year|      Admission_Date|        Leaving_Date|Is_Current|Postcode|     organisationkey|          studentkey|        partitionkey|\n",
      "+---------------+--------------+------------+--------------+-----------------+-------------------+--------------------------+-----------+-----------------------+----------+------------------------------+-------------------------------------+-------------+---------------------+--------------------+--------------------+----------+---------------+--------------------+--------------------+----------+--------+--------------------+--------------------+--------------------+\n",
      "|White - British|          WBRI|       False|           Twi|            False|              False|                     False|      False|                  False|         K|                          True|                                 None|         None|                 None| SINGLE REGISTRATION|698f7ea5-b203-4b7...|         8|              8|2023-09-04 00:00:...|                NULL|         1|        |02ef2e04-5a06-4f1...|0002c6c1-11bd-4a4...|02ef2e04-5a06-4f1...|\n",
      "|           None|          None|       False|         Czech|            False|              False|                      None|      False|                  False|      None|                          None|                                 None|         None|                 None| SINGLE REGISTRATION|2a45058a-19e6-456...|      NULL|             11|2018-09-03 00:00:...|2023-07-21 00:00:...|         0|    NULL|02ef2e04-5a06-4f1...|002e1bf1-f48f-4a8...|02ef2e04-5a06-4f1...|\n",
      "|           None|          None|       False|       Chuvash|             True|               True|                      None|      False|                  False|         E|                          None|                                 None|         None|                 None| SINGLE REGISTRATION|9eb6ff76-8423-433...|      NULL|             11|2022-03-11 00:00:...|2023-07-21 00:00:...|         0|    NULL|02ef2e04-5a06-4f1...|0050d3ad-83b5-423...|02ef2e04-5a06-4f1...|\n",
      "|White - British|          WBRI|       False|        Avaric|             True|               True|                     False|      False|                   True|         N|                         False|                                 None|         None|                 None| SINGLE REGISTRATION|f22766a0-7879-443...|        11|             11|2020-09-02 00:00:...|                NULL|         1|        |02ef2e04-5a06-4f1...|005a306c-5498-4e9...|02ef2e04-5a06-4f1...|\n",
      "|           None|          None|       False|      Kashmiri|             True|               True|                      None|      False|                  False|      None|                          None|                                 None|         None|                 None| SINGLE REGISTRATION|7b6cec4f-d8eb-41d...|      NULL|              7|2022-09-01 00:00:...|2023-07-21 00:00:...|         0|    NULL|02ef2e04-5a06-4f1...|00c5ecab-5abd-44d...|02ef2e04-5a06-4f1...|\n",
      "|           None|          None|       False|       Sinhala|            False|              False|                      None|      False|                  False|      None|                          None|                                 None|         None|                 None| SINGLE REGISTRATION|65fcbe4a-8aea-44a...|      NULL|             11|2019-09-04 00:00:...|2024-07-19 00:00:...|         0|    NULL|02ef2e04-5a06-4f1...|014259e3-3a38-47b...|02ef2e04-5a06-4f1...|\n",
      "|           None|          None|       False|     Limburgan|             True|               True|                      None|      False|                  False|      None|                          None|                                 None|         None|                 None| SINGLE REGISTRATION|b347906d-0ab0-4d6...|      NULL|             11|2018-09-05 00:00:...|2023-07-21 00:00:...|         0|    NULL|02ef2e04-5a06-4f1...|01537764-8020-48b...|02ef2e04-5a06-4f1...|\n",
      "|White - British|          WBRI|       False|        Polish|             True|               True|                     False|      False|                   True|         K|                         False|                                 None|         None|                 None|MAIN - DUAL REGIS...|7f2a01a0-b022-400...|        10|             10|2021-09-02 00:00:...|                NULL|         1|        |02ef2e04-5a06-4f1...|0161e596-cb57-496...|02ef2e04-5a06-4f1...|\n",
      "|           None|          None|       False|   Marshallese|             True|               True|                      None|      False|                  False|      None|                          None|                                 None|         None|                 None| SINGLE REGISTRATION|14bbf585-14b4-467...|      NULL|             13|2022-09-12 00:00:...|2024-07-19 00:00:...|         0|    NULL|02ef2e04-5a06-4f1...|018ca9b0-f733-499...|02ef2e04-5a06-4f1...|\n",
      "|           None|          None|       False|       Swahili|            False|              False|                      None|      False|                  False|      None|                          None|                                 None|         None|                 None| SINGLE REGISTRATION|12496112-264c-4f9...|      NULL|             10|2022-07-13 00:00:...|2023-02-02 00:00:...|         0|    NULL|02ef2e04-5a06-4f1...|01ce8216-c473-493...|02ef2e04-5a06-4f1...|\n",
      "|White - British|          WBRI|       False|         Czech|            False|              False|                     False|      False|                  False|      None|                         False|                                 None|         None|                 None| SINGLE REGISTRATION|d1addc33-37b6-471...|        12|             12|2019-09-04 00:00:...|                NULL|         1|        |02ef2e04-5a06-4f1...|020f522f-9124-439...|02ef2e04-5a06-4f1...|\n",
      "|White - British|          WBRI|       False|          Komi|            False|              False|                     False|      False|                  False|      None|                         False|                                 None|         None|                 None| SINGLE REGISTRATION|c7b32f84-eb86-442...|         8|              8|2023-09-04 00:00:...|                NULL|         1|        |02ef2e04-5a06-4f1...|02fed00e-ea3b-410...|02ef2e04-5a06-4f1...|\n",
      "|White - British|          WBRI|       False|       Avestan|            False|              False|                     False|      False|                  False|      None|                         False|                                 None|         None|                 None| SINGLE REGISTRATION|3c05c911-6761-40a...|        11|             11|2020-09-02 00:00:...|                NULL|         1|        |02ef2e04-5a06-4f1...|03072296-5767-471...|02ef2e04-5a06-4f1...|\n",
      "|White - British|          WBRI|       False|     Afrikaans|            False|              False|                     False|      False|                  False|         N|                         False|                                 None|         None|                 None| SINGLE REGISTRATION|d427f831-0661-466...|         8|              8|2023-09-04 00:00:...|                NULL|         1|        |02ef2e04-5a06-4f1...|03205882-edb6-404...|02ef2e04-5a06-4f1...|\n",
      "|White - British|          WBRI|       False|        Ndonga|            False|              False|                     False|      False|                  False|      None|                          None|                                 None|         None|                 None| SINGLE REGISTRATION|cef8427a-0678-48f...|         7|              7|2024-09-03 00:00:...|                NULL|         1|        |02ef2e04-5a06-4f1...|03ec0a03-0777-4e0...|02ef2e04-5a06-4f1...|\n",
      "|White - British|          WBRI|       False|         Shona|             True|               True|                     False|      False|                   True|         K|                          None|                                 None|         None|                 None| SINGLE REGISTRATION|fe1e9b6d-27cc-439...|         7|              7|2024-09-03 00:00:...|                NULL|         1|        |02ef2e04-5a06-4f1...|03ee9045-6362-466...|02ef2e04-5a06-4f1...|\n",
      "|White - British|          WBRI|       False|        Kanuri|             True|               True|                     False|      False|                   True|      None|                          None|                                 None|         None|                 None| SINGLE REGISTRATION|f3a46beb-f099-424...|         7|              7|2024-09-03 00:00:...|                NULL|         1|        |02ef2e04-5a06-4f1...|04514d6d-2d2b-4c5...|02ef2e04-5a06-4f1...|\n",
      "|           None|          None|       False|  Luba-Katanga|            False|              False|                      None|      False|                  False|      None|                          None|                                 None|         None|                 None| SINGLE REGISTRATION|d507fd59-8d58-4b3...|      NULL|             11|2020-09-07 00:00:...|2024-07-19 00:00:...|         0|    NULL|02ef2e04-5a06-4f1...|0473fd58-7fca-4f6...|02ef2e04-5a06-4f1...|\n",
      "|           None|          None|       False|       Kurdish|            False|              False|                      None|      False|                  False|      None|                          None|                                 None|         None|                 None| SINGLE REGISTRATION|53add9d6-6094-480...|      NULL|             11|2019-09-04 00:00:...|2024-07-19 00:00:...|         0|    NULL|02ef2e04-5a06-4f1...|047976ba-9ab4-467...|02ef2e04-5a06-4f1...|\n",
      "|           None|          None|       False|          Urdu|            False|              False|                      None|      False|                  False|      None|                          None|                                 None|         None|                 None| SINGLE REGISTRATION|46bdc252-b71c-449...|      NULL|             13|2016-09-05 00:00:...|2023-07-21 00:00:...|         0|    NULL|02ef2e04-5a06-4f1...|047c84da-d860-47e...|02ef2e04-5a06-4f1...|\n",
      "+---------------+--------------+------------+--------------+-----------------+-------------------+--------------------------+-----------+-----------------------+----------+------------------------------+-------------------------------------+-------------+---------------------+--------------------+--------------------+----------+---------------+--------------------+--------------------+----------+--------+--------------------+--------------------+--------------------+\n",
      "only showing top 20 rows\n",
      "\n"
     ]
    }
   ],
   "source": [
    "# Show the first 20 rows of the DataFrames\n",
    "df_studentextended_spark.show()"
   ]
  },
  {
   "cell_type": "markdown",
   "metadata": {},
   "source": [
    "I will the missing value method defined earlier to provide information on size and missing values in the data."
   ]
  },
  {
   "cell_type": "code",
   "execution_count": 8,
   "metadata": {},
   "outputs": [
    {
     "name": "stdout",
     "output_type": "stream",
     "text": [
      "DataFrame has 16937 rows and 25 columns.\n",
      "\n",
      "Column                             Null  EmptyStr  NA/NaNStr  NumericNaN  TotalMissing  %Missing\n",
      "----------------------------------------------------------------------\n",
      "Ethnicity                             0         0         0           0            0      0.00%\n",
      "Ethnicity_Code                        0         0         0           0            0      0.00%\n",
      "Ever_In_Care                          0         0         0           0            0      0.00%\n",
      "First_Language                        0         0         0           0            0      0.00%\n",
      "Free_School_Meals                     0         0         0           0            0      0.00%\n",
      "Free_School_Meals_6                   0         0         0           0            0      0.00%\n",
      "Gifted_And_Talented_Status            0         0         0           0            0      0.00%\n",
      "In_LEA_Care                           0         0         0           0            0      0.00%\n",
      "Pupil_Premium_Indicator               0         0         0           0            0      0.00%\n",
      "SEN_Status                            0         0         0           0            0      0.00%\n",
      "English_As_Additional_Language        0         0         0           0            0      0.00%\n",
      "English_As_Additional_Language_Status    0         0         0           0            0      0.00%\n",
      "Child_In_Need                         0         0         0           0            0      0.00%\n",
      "Child_Protection_Plan                 0         0         0           0            0      0.00%\n",
      "Enrolment_Status                      0         0         0           0            0      0.00%\n",
      "studentextendedkey                    0         0         0           0            0      0.00%\n",
      "Year_Group                         5637         0         0           0         5637     33.28%\n",
      "Current_NC_Year                       0         0         0           0            0      0.00%\n",
      "Admission_Date                        0         0         0           0            0      0.00%\n",
      "Leaving_Date                       7699         0      3475           0        11174     65.97%\n",
      "Is_Current                            0         0         0           0            0      0.00%\n",
      "Postcode                           5759     11178         0           0        16937    100.00%\n",
      "organisationkey                       0         0         0           0            0      0.00%\n",
      "studentkey                            0         0         0           0            0      0.00%\n",
      "partitionkey                          0         0         0           0            0      0.00%\n"
     ]
    }
   ],
   "source": [
    "show_df_missing_breakdown(df_studentextended_spark)"
   ]
  },
  {
   "cell_type": "markdown",
   "metadata": {},
   "source": [
    "Initial obersevations:\n",
    " - Three keys are available in the data: student_id, organisation_id, date\n",
    " - Dateframe df includes students who are current and have left the school\n",
    " - National currlculum year (age based) and year group are available - are NULL if the student has left the school"
   ]
  },
  {
   "cell_type": "code",
   "execution_count": 9,
   "metadata": {},
   "outputs": [
    {
     "name": "stdout",
     "output_type": "stream",
     "text": [
      "+--------+--------------+-------------+-------+------------+------+------+-------------+--------------------+--------------------+---+--------------------+\n",
      "|Forename|Legal_Forename|Legal_Surname|Surname|Middle_Names|   Sex|Gender|Date_Of_Birth|     organisationkey|          studentkey|UPN|        partitionkey|\n",
      "+--------+--------------+-------------+-------+------------+------+------+-------------+--------------------+--------------------+---+--------------------+\n",
      "| Deborah|        XXXXXX|       XXXXXX|   Wong|      XXXXXX|FEMALE|  None|   2000-01-01|02ef2e04-5a06-4f1...|0002c6c1-11bd-4a4...|  0|02ef2e04-5a06-4f1...|\n",
      "|Michelle|        XXXXXX|       XXXXXX|  Glenn|      XXXXXX|FEMALE|  None|   2000-01-01|02ef2e04-5a06-4f1...|002e1bf1-f48f-4a8...|  7|02ef2e04-5a06-4f1...|\n",
      "|  Alyssa|        XXXXXX|       XXXXXX|Schmidt|      XXXXXX|  MALE|  None|   2000-01-01|02ef2e04-5a06-4f1...|0050d3ad-83b5-423...| 14|02ef2e04-5a06-4f1...|\n",
      "|    Juan|        XXXXXX|       XXXXXX|Ramirez|      XXXXXX|FEMALE|  None|   2000-01-01|02ef2e04-5a06-4f1...|005a306c-5498-4e9...| 15|02ef2e04-5a06-4f1...|\n",
      "|   Karen|        XXXXXX|       XXXXXX|Goodwin|      XXXXXX|FEMALE|  None|   2000-01-01|02ef2e04-5a06-4f1...|00c5ecab-5abd-44d...| 25|02ef2e04-5a06-4f1...|\n",
      "|  Stacey|        XXXXXX|       XXXXXX|  Potts|      XXXXXX|FEMALE|  None|   2000-01-01|02ef2e04-5a06-4f1...|013b3548-b4a8-430...| 45|02ef2e04-5a06-4f1...|\n",
      "|   Karen|        XXXXXX|       XXXXXX|Mullins|      XXXXXX|FEMALE|  None|   2000-01-01|02ef2e04-5a06-4f1...|014259e3-3a38-47b...| 47|02ef2e04-5a06-4f1...|\n",
      "|  Ronald|        XXXXXX|       XXXXXX|Simmons|      XXXXXX|  MALE|  None|   2000-01-01|02ef2e04-5a06-4f1...|01537764-8020-48b...| 51|02ef2e04-5a06-4f1...|\n",
      "|  Dwayne|        XXXXXX|       XXXXXX| Thomas|      XXXXXX|FEMALE|  None|   2000-01-01|02ef2e04-5a06-4f1...|0161e596-cb57-496...| 56|02ef2e04-5a06-4f1...|\n",
      "|  Alisha|        XXXXXX|       XXXXXX|    Fox|      XXXXXX|FEMALE|  None|   2000-01-01|02ef2e04-5a06-4f1...|018ca9b0-f733-499...| 61|02ef2e04-5a06-4f1...|\n",
      "|  Yvonne|        XXXXXX|       XXXXXX|    Key|      XXXXXX|  MALE|  None|   2000-01-01|02ef2e04-5a06-4f1...|01ce8216-c473-493...| 72|02ef2e04-5a06-4f1...|\n",
      "|   Jared|        XXXXXX|       XXXXXX|  Clark|      XXXXXX|  MALE|  None|   2000-01-01|02ef2e04-5a06-4f1...|020f522f-9124-439...| 87|02ef2e04-5a06-4f1...|\n",
      "|  Andrew|        XXXXXX|       XXXXXX|Johnson|      XXXXXX|FEMALE|  None|   2000-01-01|02ef2e04-5a06-4f1...|02fed00e-ea3b-410...|122|02ef2e04-5a06-4f1...|\n",
      "|  Denise|        XXXXXX|       XXXXXX|Pearson|      XXXXXX|  MALE|  None|   2000-01-01|02ef2e04-5a06-4f1...|03072296-5767-471...|123|02ef2e04-5a06-4f1...|\n",
      "|   Jacob|        XXXXXX|       XXXXXX|  Lopez|      XXXXXX|FEMALE|  None|   2000-01-01|02ef2e04-5a06-4f1...|03205882-edb6-404...|127|02ef2e04-5a06-4f1...|\n",
      "|  Austin|        XXXXXX|       XXXXXX|Johnson|      XXXXXX|  MALE|  None|   2000-01-01|02ef2e04-5a06-4f1...|03ec0a03-0777-4e0...|152|02ef2e04-5a06-4f1...|\n",
      "| Deborah|        XXXXXX|       XXXXXX|  Lucas|      XXXXXX|FEMALE|  None|   2000-01-01|02ef2e04-5a06-4f1...|03ee9045-6362-466...|153|02ef2e04-5a06-4f1...|\n",
      "|   Caleb|        XXXXXX|       XXXXXX|  Brown|      XXXXXX|  MALE|  None|   2000-01-01|02ef2e04-5a06-4f1...|044b01be-6766-407...|165|02ef2e04-5a06-4f1...|\n",
      "|  Alicia|        XXXXXX|       XXXXXX|    Fox|      XXXXXX|  MALE|  None|   2000-01-01|02ef2e04-5a06-4f1...|04514d6d-2d2b-4c5...|166|02ef2e04-5a06-4f1...|\n",
      "|   Sarah|        XXXXXX|       XXXXXX|Hickman|      XXXXXX|  MALE|  None|   2000-01-01|02ef2e04-5a06-4f1...|0473fd58-7fca-4f6...|169|02ef2e04-5a06-4f1...|\n",
      "+--------+--------------+-------------+-------+------------+------+------+-------------+--------------------+--------------------+---+--------------------+\n",
      "only showing top 20 rows\n",
      "\n"
     ]
    }
   ],
   "source": [
    "df_student_spark.show()"
   ]
  },
  {
   "cell_type": "code",
   "execution_count": 10,
   "metadata": {},
   "outputs": [
    {
     "name": "stdout",
     "output_type": "stream",
     "text": [
      "DataFrame has 16937 rows and 12 columns.\n",
      "\n",
      "Column                             Null  EmptyStr  NA/NaNStr  NumericNaN  TotalMissing  %Missing\n",
      "----------------------------------------------------------------------\n",
      "Forename                              0         0         0           0            0      0.00%\n",
      "Legal_Forename                        0         0         0           0            0      0.00%\n",
      "Legal_Surname                         0         0         0           0            0      0.00%\n",
      "Surname                               0         0         0           0            0      0.00%\n",
      "Middle_Names                          0         0         0           0            0      0.00%\n",
      "Sex                                   0         0         0           0            0      0.00%\n",
      "Gender                                0         0         0           0            0      0.00%\n",
      "Date_Of_Birth                         0         0         0           0            0      0.00%\n",
      "organisationkey                       0         0         0           0            0      0.00%\n",
      "studentkey                            0         0         0           0            0      0.00%\n",
      "UPN                                   0         0         0           0            0      0.00%\n",
      "partitionkey                          0         0         0           0            0      0.00%\n"
     ]
    }
   ],
   "source": [
    "show_df_missing_breakdown(df_student_spark)"
   ]
  },
  {
   "cell_type": "markdown",
   "metadata": {},
   "source": [
    "Initial observations:\n",
    "- XXXXX used to keep data confidential - \n",
    "- gender and sex are the same - Gender can be dropped as it contains XXXXX\n",
    "- Same with legal_forename and forename, legal_surname and surname\n",
    "\n"
   ]
  },
  {
   "cell_type": "code",
   "execution_count": 11,
   "metadata": {},
   "outputs": [
    {
     "name": "stdout",
     "output_type": "stream",
     "text": [
      "+-----------------+--------------------+-------+-----------------+--------------------+----------+-----+-------------------+------------+---+--------------------+\n",
      "|Organisation_Name|Establishment_Number|LA_Code|Organisation_Type|     organisationkey|addresskey|UKPRN|Organisation_Status|last_updated|URN|        partitionkey|\n",
      "+-----------------+--------------------+-------+-----------------+--------------------+----------+-----+-------------------+------------+---+--------------------+\n",
      "|        Academy 4|              XXXXXX| XXXXXX|        SECONDARY|02ef2e04-5a06-4f1...|          |     |             Active|            |  3|02ef2e04-5a06-4f1...|\n",
      "|        Academy 9|              XXXXXX| XXXXXX|      ALL THROUGH|068cf4c6-2526-430...|          |     |             Active|            |  8|068cf4c6-2526-430...|\n",
      "|        Academy 7|              XXXXXX| XXXXXX|        SECONDARY|2d9ba2ce-d6e9-49b...|          |     |             Active|            |  6|2d9ba2ce-d6e9-49b...|\n",
      "|        Academy 2|              XXXXXX| XXXXXX|        SECONDARY|5ce8e936-d2c9-407...|          |     |             Active|            |  1|5ce8e936-d2c9-407...|\n",
      "|        Academy 5|              XXXXXX| XXXXXX|        SECONDARY|5ed661db-d767-4fd...|          |     |             Active|            |  4|5ed661db-d767-4fd...|\n",
      "|        Academy 3|              XXXXXX| XXXXXX|        SECONDARY|6942470f-ce34-415...|          |     |             Active|            |  2|6942470f-ce34-415...|\n",
      "|        Academy 6|              XXXXXX| XXXXXX|        SECONDARY|73ed72bc-efea-4cd...|          |     |             Active|            |  5|73ed72bc-efea-4cd...|\n",
      "|        Academy 1|              XXXXXX| XXXXXX|        SECONDARY|f7d73a58-e94b-450...|          |     |             Active|            |  0|f7d73a58-e94b-450...|\n",
      "|        Academy 8|              XXXXXX| XXXXXX|        SECONDARY|f87939c4-fbdb-47b...|          |     |             Active|            |  7|f87939c4-fbdb-47b...|\n",
      "+-----------------+--------------------+-------+-----------------+--------------------+----------+-----+-------------------+------------+---+--------------------+\n",
      "\n"
     ]
    }
   ],
   "source": [
    "df_organisation_spark.show()"
   ]
  },
  {
   "cell_type": "code",
   "execution_count": 12,
   "metadata": {},
   "outputs": [
    {
     "name": "stdout",
     "output_type": "stream",
     "text": [
      "DataFrame has 9 rows and 11 columns.\n",
      "\n",
      "Column                             Null  EmptyStr  NA/NaNStr  NumericNaN  TotalMissing  %Missing\n",
      "----------------------------------------------------------------------\n",
      "Organisation_Name                     0         0         0           0            0      0.00%\n",
      "Establishment_Number                  0         0         0           0            0      0.00%\n",
      "LA_Code                               0         0         0           0            0      0.00%\n",
      "Organisation_Type                     0         0         0           0            0      0.00%\n",
      "organisationkey                       0         0         0           0            0      0.00%\n",
      "addresskey                            0         9         0           0            9    100.00%\n",
      "UKPRN                                 0         9         0           0            9    100.00%\n",
      "Organisation_Status                   0         0         0           0            0      0.00%\n",
      "last_updated                          0         9         0           0            9    100.00%\n",
      "URN                                   0         0         0           0            0      0.00%\n",
      "partitionkey                          0         0         0           0            0      0.00%\n"
     ]
    }
   ],
   "source": [
    "show_df_missing_breakdown(df_organisation_spark)"
   ]
  },
  {
   "cell_type": "markdown",
   "metadata": {},
   "source": [
    "Initial observations:\n",
    "- Assumption XXXX used to keep data confidential - e.g. LA Code; these columns can be kept for use of the script with other data"
   ]
  },
  {
   "cell_type": "code",
   "execution_count": 13,
   "metadata": {},
   "outputs": [
    {
     "name": "stdout",
     "output_type": "stream",
     "text": [
      "+----------+----+-------+--------------------+------+---------+-----------+---------+---------+----------+-----+-----------+----------+-------------+--------------------+--------------------+--------------------+\n",
      "|      Date|Mark|Session|attendancesessionkey|is_aea|is_attend|is_auth_abs|is_late_L|is_late_U|is_missing|is_nr|is_possible|is_present|is_unauth_abs|     organisationkey|          studentkey|        partitionkey|\n",
      "+----------+----+-------+--------------------+------+---------+-----------+---------+---------+----------+-----+-----------+----------+-------------+--------------------+--------------------+--------------------+\n",
      "|2023-11-13|   /|     AM|162ff625-c9d6-49e...|   0.0|      1.0|        0.0|      0.0|      0.0|       0.0|  0.0|        1.0|       1.0|          0.0|02ef2e04-5a06-4f1...|52b4e8e3-4481-44e...|02ef2e04-5a06-4f1...|\n",
      "|2023-09-19|   \\|     PM|e42a0825-379b-449...|   0.0|      1.0|        0.0|      0.0|      0.0|       0.0|  0.0|        1.0|       1.0|          0.0|02ef2e04-5a06-4f1...|70b88e12-aeef-421...|02ef2e04-5a06-4f1...|\n",
      "|2024-09-12|   /|     AM|f57c3e6b-bdf9-4fc...|   0.0|      1.0|        0.0|      0.0|      0.0|       0.0|  0.0|        1.0|       1.0|          0.0|02ef2e04-5a06-4f1...|04514d6d-2d2b-4c5...|02ef2e04-5a06-4f1...|\n",
      "|2024-08-11|   #|     PM|26b1d017-8aad-4c8...|   0.0|      0.0|        0.0|      0.0|      0.0|       0.0|  1.0|        0.0|       0.0|          0.0|02ef2e04-5a06-4f1...|1cd5b534-6d90-4c9...|02ef2e04-5a06-4f1...|\n",
      "|2024-11-15|   \\|     PM|fd9bfcd2-1ece-4af...|   0.0|      1.0|        0.0|      0.0|      0.0|       0.0|  0.0|        1.0|       1.0|          0.0|02ef2e04-5a06-4f1...|e0c0c52d-2fed-41f...|02ef2e04-5a06-4f1...|\n",
      "|2024-10-09|   G|     PM|c47eb79a-25d6-4f6...|   0.0|      0.0|        0.0|      0.0|      0.0|       0.0|  0.0|        1.0|       0.0|          1.0|02ef2e04-5a06-4f1...|a7566208-63f6-47d...|02ef2e04-5a06-4f1...|\n",
      "|2024-09-29|   #|     AM|279194f7-a9f3-466...|   0.0|      0.0|        0.0|      0.0|      0.0|       0.0|  1.0|        0.0|       0.0|          0.0|02ef2e04-5a06-4f1...|a7566208-63f6-47d...|02ef2e04-5a06-4f1...|\n",
      "|2024-08-21|   #|     PM|7407a9bd-b3c9-442...|   0.0|      0.0|        0.0|      0.0|      0.0|       0.0|  1.0|        0.0|       0.0|          0.0|02ef2e04-5a06-4f1...|52b4e8e3-4481-44e...|02ef2e04-5a06-4f1...|\n",
      "|2024-11-09|   #|     PM|419a11be-d200-487...|   0.0|      0.0|        0.0|      0.0|      0.0|       0.0|  1.0|        0.0|       0.0|          0.0|02ef2e04-5a06-4f1...|e0c0c52d-2fed-41f...|02ef2e04-5a06-4f1...|\n",
      "|2024-08-27|   #|     PM|6e41dcf5-de47-460...|   0.0|      0.0|        0.0|      0.0|      0.0|       0.0|  1.0|        0.0|       0.0|          0.0|02ef2e04-5a06-4f1...|70b88e12-aeef-421...|02ef2e04-5a06-4f1...|\n",
      "|2024-11-27|   \\|     PM|0fcbbd41-6da8-417...|   0.0|      1.0|        0.0|      0.0|      0.0|       0.0|  0.0|        1.0|       1.0|          0.0|02ef2e04-5a06-4f1...|70b88e12-aeef-421...|02ef2e04-5a06-4f1...|\n",
      "|2024-11-05|   \\|     PM|4e4ed7f7-4e45-40e...|   0.0|      1.0|        0.0|      0.0|      0.0|       0.0|  0.0|        1.0|       1.0|          0.0|02ef2e04-5a06-4f1...|52b4e8e3-4481-44e...|02ef2e04-5a06-4f1...|\n",
      "|2024-10-20|   #|     PM|4b7a62a1-a080-40e...|   0.0|      0.0|        0.0|      0.0|      0.0|       0.0|  1.0|        0.0|       0.0|          0.0|02ef2e04-5a06-4f1...|a7566208-63f6-47d...|02ef2e04-5a06-4f1...|\n",
      "|2024-12-01|   #|     PM|f1a2d7b2-fd92-4a8...|   0.0|      0.0|        0.0|      0.0|      0.0|       0.0|  1.0|        0.0|       0.0|          0.0|02ef2e04-5a06-4f1...|70b88e12-aeef-421...|02ef2e04-5a06-4f1...|\n",
      "|2024-12-05|   \\|     PM|4eb4fa43-c672-49b...|   0.0|      1.0|        0.0|      0.0|      0.0|       0.0|  0.0|        1.0|       1.0|          0.0|02ef2e04-5a06-4f1...|52b4e8e3-4481-44e...|02ef2e04-5a06-4f1...|\n",
      "|2024-11-21|   /|     AM|3c0247c1-6fab-46b...|   0.0|      1.0|        0.0|      0.0|      0.0|       0.0|  0.0|        1.0|       1.0|          0.0|02ef2e04-5a06-4f1...|70b88e12-aeef-421...|02ef2e04-5a06-4f1...|\n",
      "|2024-10-09|   \\|     PM|4dcce057-d194-4ad...|   0.0|      1.0|        0.0|      0.0|      0.0|       0.0|  0.0|        1.0|       1.0|          0.0|02ef2e04-5a06-4f1...|52b4e8e3-4481-44e...|02ef2e04-5a06-4f1...|\n",
      "|2024-10-23|   #|     PM|c5f0ffc9-4389-4b9...|   0.0|      0.0|        0.0|      0.0|      0.0|       0.0|  1.0|        0.0|       0.0|          0.0|02ef2e04-5a06-4f1...|1cd5b534-6d90-4c9...|02ef2e04-5a06-4f1...|\n",
      "|2024-11-07|   /|     AM|9aa4ab25-0db6-43d...|   0.0|      1.0|        0.0|      0.0|      0.0|       0.0|  0.0|        1.0|       1.0|          0.0|02ef2e04-5a06-4f1...|52b4e8e3-4481-44e...|02ef2e04-5a06-4f1...|\n",
      "|2024-12-04|   \\|     PM|01baeddc-5bc6-48d...|   0.0|      1.0|        0.0|      0.0|      0.0|       0.0|  0.0|        1.0|       1.0|          0.0|02ef2e04-5a06-4f1...|1cd5b534-6d90-4c9...|02ef2e04-5a06-4f1...|\n",
      "+----------+----+-------+--------------------+------+---------+-----------+---------+---------+----------+-----+-----------+----------+-------------+--------------------+--------------------+--------------------+\n",
      "only showing top 20 rows\n",
      "\n"
     ]
    }
   ],
   "source": [
    "df_attendancesessions_spark.show()"
   ]
  },
  {
   "cell_type": "code",
   "execution_count": 14,
   "metadata": {},
   "outputs": [
    {
     "name": "stdout",
     "output_type": "stream",
     "text": [
      "DataFrame has 16311626 rows and 17 columns.\n",
      "\n",
      "Column                             Null  EmptyStr  NA/NaNStr  NumericNaN  TotalMissing  %Missing\n",
      "----------------------------------------------------------------------\n",
      "Date                                  0         0         0           0            0      0.00%\n",
      "Mark                                  0         0         0           0            0      0.00%\n",
      "Session                               0         0         0           0            0      0.00%\n",
      "attendancesessionkey                  0         0         0           0            0      0.00%\n",
      "is_aea                              506         0         0           0          506      0.00%\n",
      "is_attend                           506         0         0           0          506      0.00%\n",
      "is_auth_abs                         506         0         0           0          506      0.00%\n",
      "is_late_L                           506         0         0           0          506      0.00%\n",
      "is_late_U                           506         0         0           0          506      0.00%\n",
      "is_missing                          506         0         0           0          506      0.00%\n",
      "is_nr                               506         0         0           0          506      0.00%\n",
      "is_possible                         506         0         0           0          506      0.00%\n",
      "is_present                          506         0         0           0          506      0.00%\n",
      "is_unauth_abs                       506         0         0           0          506      0.00%\n",
      "organisationkey                       0         0         0           0            0      0.00%\n",
      "studentkey                            0         0         0           0            0      0.00%\n",
      "partitionkey                          0         0         0           0            0      0.00%\n"
     ]
    }
   ],
   "source": [
    "show_df_missing_breakdown(df_attendancesessions_spark)"
   ]
  },
  {
   "cell_type": "markdown",
   "metadata": {},
   "source": [
    "Initial observations:\n",
    "- Df has 16,000,000 rows! \n",
    "- 3 keys: student_id, organisation_id, date\n",
    "- date can be used to join with the date dimension - via new column datekey"
   ]
  },
  {
   "cell_type": "code",
   "execution_count": 15,
   "metadata": {},
   "outputs": [],
   "source": [
    "from pyspark.sql import functions as F\n",
    "\n",
    "#Creat a new column datekey in the df_attendancesessions_spark which will take the value of the Date column without the \"-\" character.\n",
    "#This can act as key to join the df_attendancesessions_spark with the df_date_spark\n",
    "\n",
    "df_attendancesessions_spark = df_attendancesessions_spark.withColumn(\n",
    "    \"datekey\",\n",
    "    F.regexp_replace(\"Date\", \"-\", \"\").cast(\"int\")\n",
    ")"
   ]
  },
  {
   "cell_type": "code",
   "execution_count": 16,
   "metadata": {},
   "outputs": [
    {
     "name": "stdout",
     "output_type": "stream",
     "text": [
      "+----------+----+-------+--------------------+------+---------+-----------+---------+---------+----------+-----+-----------+----------+-------------+--------------------+--------------------+--------------------+--------+\n",
      "|      Date|Mark|Session|attendancesessionkey|is_aea|is_attend|is_auth_abs|is_late_L|is_late_U|is_missing|is_nr|is_possible|is_present|is_unauth_abs|     organisationkey|          studentkey|        partitionkey| datekey|\n",
      "+----------+----+-------+--------------------+------+---------+-----------+---------+---------+----------+-----+-----------+----------+-------------+--------------------+--------------------+--------------------+--------+\n",
      "|2023-11-13|   /|     AM|162ff625-c9d6-49e...|   0.0|      1.0|        0.0|      0.0|      0.0|       0.0|  0.0|        1.0|       1.0|          0.0|02ef2e04-5a06-4f1...|52b4e8e3-4481-44e...|02ef2e04-5a06-4f1...|20231113|\n",
      "|2023-09-19|   \\|     PM|e42a0825-379b-449...|   0.0|      1.0|        0.0|      0.0|      0.0|       0.0|  0.0|        1.0|       1.0|          0.0|02ef2e04-5a06-4f1...|70b88e12-aeef-421...|02ef2e04-5a06-4f1...|20230919|\n",
      "|2024-09-12|   /|     AM|f57c3e6b-bdf9-4fc...|   0.0|      1.0|        0.0|      0.0|      0.0|       0.0|  0.0|        1.0|       1.0|          0.0|02ef2e04-5a06-4f1...|04514d6d-2d2b-4c5...|02ef2e04-5a06-4f1...|20240912|\n",
      "|2024-08-11|   #|     PM|26b1d017-8aad-4c8...|   0.0|      0.0|        0.0|      0.0|      0.0|       0.0|  1.0|        0.0|       0.0|          0.0|02ef2e04-5a06-4f1...|1cd5b534-6d90-4c9...|02ef2e04-5a06-4f1...|20240811|\n",
      "|2024-11-15|   \\|     PM|fd9bfcd2-1ece-4af...|   0.0|      1.0|        0.0|      0.0|      0.0|       0.0|  0.0|        1.0|       1.0|          0.0|02ef2e04-5a06-4f1...|e0c0c52d-2fed-41f...|02ef2e04-5a06-4f1...|20241115|\n",
      "|2024-10-09|   G|     PM|c47eb79a-25d6-4f6...|   0.0|      0.0|        0.0|      0.0|      0.0|       0.0|  0.0|        1.0|       0.0|          1.0|02ef2e04-5a06-4f1...|a7566208-63f6-47d...|02ef2e04-5a06-4f1...|20241009|\n",
      "|2024-09-29|   #|     AM|279194f7-a9f3-466...|   0.0|      0.0|        0.0|      0.0|      0.0|       0.0|  1.0|        0.0|       0.0|          0.0|02ef2e04-5a06-4f1...|a7566208-63f6-47d...|02ef2e04-5a06-4f1...|20240929|\n",
      "|2024-08-21|   #|     PM|7407a9bd-b3c9-442...|   0.0|      0.0|        0.0|      0.0|      0.0|       0.0|  1.0|        0.0|       0.0|          0.0|02ef2e04-5a06-4f1...|52b4e8e3-4481-44e...|02ef2e04-5a06-4f1...|20240821|\n",
      "|2024-11-09|   #|     PM|419a11be-d200-487...|   0.0|      0.0|        0.0|      0.0|      0.0|       0.0|  1.0|        0.0|       0.0|          0.0|02ef2e04-5a06-4f1...|e0c0c52d-2fed-41f...|02ef2e04-5a06-4f1...|20241109|\n",
      "|2024-08-27|   #|     PM|6e41dcf5-de47-460...|   0.0|      0.0|        0.0|      0.0|      0.0|       0.0|  1.0|        0.0|       0.0|          0.0|02ef2e04-5a06-4f1...|70b88e12-aeef-421...|02ef2e04-5a06-4f1...|20240827|\n",
      "|2024-11-27|   \\|     PM|0fcbbd41-6da8-417...|   0.0|      1.0|        0.0|      0.0|      0.0|       0.0|  0.0|        1.0|       1.0|          0.0|02ef2e04-5a06-4f1...|70b88e12-aeef-421...|02ef2e04-5a06-4f1...|20241127|\n",
      "|2024-11-05|   \\|     PM|4e4ed7f7-4e45-40e...|   0.0|      1.0|        0.0|      0.0|      0.0|       0.0|  0.0|        1.0|       1.0|          0.0|02ef2e04-5a06-4f1...|52b4e8e3-4481-44e...|02ef2e04-5a06-4f1...|20241105|\n",
      "|2024-10-20|   #|     PM|4b7a62a1-a080-40e...|   0.0|      0.0|        0.0|      0.0|      0.0|       0.0|  1.0|        0.0|       0.0|          0.0|02ef2e04-5a06-4f1...|a7566208-63f6-47d...|02ef2e04-5a06-4f1...|20241020|\n",
      "|2024-12-01|   #|     PM|f1a2d7b2-fd92-4a8...|   0.0|      0.0|        0.0|      0.0|      0.0|       0.0|  1.0|        0.0|       0.0|          0.0|02ef2e04-5a06-4f1...|70b88e12-aeef-421...|02ef2e04-5a06-4f1...|20241201|\n",
      "|2024-12-05|   \\|     PM|4eb4fa43-c672-49b...|   0.0|      1.0|        0.0|      0.0|      0.0|       0.0|  0.0|        1.0|       1.0|          0.0|02ef2e04-5a06-4f1...|52b4e8e3-4481-44e...|02ef2e04-5a06-4f1...|20241205|\n",
      "|2024-11-21|   /|     AM|3c0247c1-6fab-46b...|   0.0|      1.0|        0.0|      0.0|      0.0|       0.0|  0.0|        1.0|       1.0|          0.0|02ef2e04-5a06-4f1...|70b88e12-aeef-421...|02ef2e04-5a06-4f1...|20241121|\n",
      "|2024-10-09|   \\|     PM|4dcce057-d194-4ad...|   0.0|      1.0|        0.0|      0.0|      0.0|       0.0|  0.0|        1.0|       1.0|          0.0|02ef2e04-5a06-4f1...|52b4e8e3-4481-44e...|02ef2e04-5a06-4f1...|20241009|\n",
      "|2024-10-23|   #|     PM|c5f0ffc9-4389-4b9...|   0.0|      0.0|        0.0|      0.0|      0.0|       0.0|  1.0|        0.0|       0.0|          0.0|02ef2e04-5a06-4f1...|1cd5b534-6d90-4c9...|02ef2e04-5a06-4f1...|20241023|\n",
      "|2024-11-07|   /|     AM|9aa4ab25-0db6-43d...|   0.0|      1.0|        0.0|      0.0|      0.0|       0.0|  0.0|        1.0|       1.0|          0.0|02ef2e04-5a06-4f1...|52b4e8e3-4481-44e...|02ef2e04-5a06-4f1...|20241107|\n",
      "|2024-12-04|   \\|     PM|01baeddc-5bc6-48d...|   0.0|      1.0|        0.0|      0.0|      0.0|       0.0|  0.0|        1.0|       1.0|          0.0|02ef2e04-5a06-4f1...|1cd5b534-6d90-4c9...|02ef2e04-5a06-4f1...|20241204|\n",
      "+----------+----+-------+--------------------+------+---------+-----------+---------+---------+----------+-----+-----------+----------+-------------+--------------------+--------------------+--------------------+--------+\n",
      "only showing top 20 rows\n",
      "\n"
     ]
    }
   ],
   "source": [
    "df_attendancesessions_spark.show() #check the new column datekey\n",
    "\n"
   ]
  },
  {
   "cell_type": "code",
   "execution_count": 17,
   "metadata": {},
   "outputs": [
    {
     "name": "stdout",
     "output_type": "stream",
     "text": [
      "+--------+----------+-----------------+--------------------+--------------------+-------------------+------------------+----------------------------------+---------------------------------+-------------------+---------------+-------------+---------------------+------------------+----------------+-------------------------+---------+---------------------+---------+-------------------+---------------+------------+-------------------+------------------------+-----------+------------+-------------------+-------------------+----------------+---------------+------------------+----------+-----------+-------------+-------------------+-------------+-------------+--------+----------+----------+----------+-----------+-------------+----------------+---------+---------+---------+----------------+-------------+----------------+------------------+-------------+-------------------------+------------------+-----------------+-----------------------+\n",
      "| DateKey|  FullDate|MonthNumberOfYear|MonthNumberOfQuarter|ISOYearAndWeekNumber|ISOWeekNumberOfYear|SSWeekNumberOfYear|ISOWeekNumberOfQuarter_454_Pattern|SSWeekNumberOfQuarter_454_Pattern|SSWeekNumberOfMonth|DayNumberOfYear|DaysSince1900|DayNumberOfFiscalYear|DayNumberOfQuarter|DayNumberOfMonth|DayNumberOfWeek_Sun_Start|MonthName|MonthNameAbbreviation|  DayName|DayNameAbbreviation|DayNumberOfWeek|AcademicYear|AcademicMonthNumber|AcademicWeekNumberOfYear|TermSession|CalendarYear|  CalendarYearMonth|    CalendarYearQtr|CalendarSemester|CalendarQuarter|CalendarWeekNumber|FiscalYear|FiscalMonth|FiscalQuarter|    FiscalYearMonth|FiscalYearQtr|QuarterNumber|YYYYMMDD|MM/DD/YYYY|YYYY/MM/DD|YYYY-MM-DD|  MonDDYYYY|IsCurrentYear|IsLastDayOfMonth|IsWeekday|IsWeekend|IsWorkday|IsFederalHoliday|IsBankHoliday|IsCompanyHoliday|AcademicYearPeriod|WeekStartDate|WeekCommencing DD/MM/YYYY|WeekCommencingName|Year Month Number|DayNumberofAcademicYear|\n",
      "+--------+----------+-----------------+--------------------+--------------------+-------------------+------------------+----------------------------------+---------------------------------+-------------------+---------------+-------------+---------------------+------------------+----------------+-------------------------+---------+---------------------+---------+-------------------+---------------+------------+-------------------+------------------------+-----------+------------+-------------------+-------------------+----------------+---------------+------------------+----------+-----------+-------------+-------------------+-------------+-------------+--------+----------+----------+----------+-----------+-------------+----------------+---------+---------+---------+----------------+-------------+----------------+------------------+-------------+-------------------------+------------------+-----------------+-----------------------+\n",
      "|19400101|01/01/1940|                1|                   1|             1940W01|                  1|                 1|                                 1|                                1|                  1|              1|        14610|                  123|                 1|               1|                        2|  January|                  Jan|   Monday|                Mon|              1|   1939/1940|                  5|                      19|     Term 2|        1940|1940-01-01 00:00:00|1940-01-01 00:00:00|               1|              1|                 1|      1940|          5|            2|1940-05-01 00:00:00|     1940Q02 |          161|19400101|01/01/1940|01/01/1940|01/01/1940|Jan 01 1940|            0|               N|        Y|        N|        Y|               N|            N|               N|      1939/1940-05|   01/01/1940|               01/01/1940|    w/c 01/01/1940|            23281|                    122|\n",
      "|19400102|02/01/1940|                1|                   1|             1940W01|                  1|                 1|                                 1|                                1|                  1|              2|        14611|                  124|                 2|               2|                        3|  January|                  Jan|  Tuesday|                Tue|              2|   1939/1940|                  5|                      19|     Term 2|        1940|1940-01-01 00:00:00|1940-01-01 00:00:00|               1|              1|                 1|      1940|          5|            2|1940-05-01 00:00:00|     1940Q02 |          161|19400102|01/02/1940|02/01/1940|02/01/1940|Jan 02 1940|            0|               N|        Y|        N|        Y|               N|            N|               N|      1939/1940-05|   01/01/1940|               01/01/1940|    w/c 01/01/1940|            23281|                    123|\n",
      "|19400103|03/01/1940|                1|                   1|             1940W01|                  1|                 1|                                 1|                                1|                  1|              3|        14612|                  125|                 3|               3|                        4|  January|                  Jan|Wednesday|                Wed|              3|   1939/1940|                  5|                      19|     Term 2|        1940|1940-01-01 00:00:00|1940-01-01 00:00:00|               1|              1|                 1|      1940|          5|            2|1940-05-01 00:00:00|     1940Q02 |          161|19400103|01/03/1940|03/01/1940|03/01/1940|Jan 03 1940|            0|               N|        Y|        N|        Y|               N|            N|               N|      1939/1940-05|   01/01/1940|               01/01/1940|    w/c 01/01/1940|            23281|                    124|\n",
      "|19400104|04/01/1940|                1|                   1|             1940W01|                  1|                 1|                                 1|                                1|                  1|              4|        14613|                  126|                 4|               4|                        5|  January|                  Jan| Thursday|                Thu|              4|   1939/1940|                  5|                      19|     Term 2|        1940|1940-01-01 00:00:00|1940-01-01 00:00:00|               1|              1|                 1|      1940|          5|            2|1940-05-01 00:00:00|     1940Q02 |          161|19400104|01/04/1940|04/01/1940|04/01/1940|Jan 04 1940|            0|               N|        Y|        N|        Y|               N|            N|               N|      1939/1940-05|   01/01/1940|               01/01/1940|    w/c 01/01/1940|            23281|                    125|\n",
      "|19400105|05/01/1940|                1|                   1|             1940W01|                  1|                 1|                                 1|                                1|                  1|              5|        14614|                  127|                 5|               5|                        6|  January|                  Jan|   Friday|                Fri|              5|   1939/1940|                  5|                      19|     Term 2|        1940|1940-01-01 00:00:00|1940-01-01 00:00:00|               1|              1|                 1|      1940|          5|            2|1940-05-01 00:00:00|     1940Q02 |          161|19400105|01/05/1940|05/01/1940|05/01/1940|Jan 05 1940|            0|               N|        Y|        N|        Y|               N|            N|               N|      1939/1940-05|   01/01/1940|               01/01/1940|    w/c 01/01/1940|            23281|                    126|\n",
      "|19400106|06/01/1940|                1|                   1|             1940W01|                  1|                 1|                                 1|                                1|                  1|              6|        14615|                  128|                 6|               6|                        7|  January|                  Jan| Saturday|                Sat|              6|   1939/1940|                  5|                      19|     Term 3|        1940|1940-01-01 00:00:00|1940-01-01 00:00:00|               1|              1|                 1|      1940|          5|            2|1940-05-01 00:00:00|     1940Q02 |          161|19400106|01/06/1940|06/01/1940|06/01/1940|Jan 06 1940|            0|               N|        N|        Y|        N|               N|            N|               N|      1939/1940-05|   01/01/1940|               01/01/1940|    w/c 01/01/1940|            23281|                    127|\n",
      "|19400107|07/01/1940|                1|                   1|             1940W01|                  1|                 2|                                 1|                                2|                  2|              7|        14616|                  129|                 7|               7|                        1|  January|                  Jan|   Sunday|                Sun|              7|   1939/1940|                  5|                      19|     Term 3|        1940|1940-01-01 00:00:00|1940-01-01 00:00:00|               1|              1|                 2|      1940|          5|            2|1940-05-01 00:00:00|     1940Q02 |          161|19400107|01/07/1940|07/01/1940|07/01/1940|Jan 07 1940|            0|               N|        N|        Y|        N|               N|            N|               N|      1939/1940-05|   01/01/1940|               01/01/1940|    w/c 01/01/1940|            23281|                    128|\n",
      "|19400108|08/01/1940|                1|                   1|             1940W02|                  2|                 2|                                 2|                                2|                  2|              8|        14617|                  130|                 8|               8|                        2|  January|                  Jan|   Monday|                Mon|              1|   1939/1940|                  5|                      20|     Term 3|        1940|1940-01-01 00:00:00|1940-01-01 00:00:00|               1|              1|                 2|      1940|          5|            2|1940-05-01 00:00:00|     1940Q02 |          161|19400108|01/08/1940|08/01/1940|08/01/1940|Jan 08 1940|            0|               N|        Y|        N|        Y|               N|            N|               N|      1939/1940-05|   08/01/1940|               08/01/1940|    w/c 08/01/1940|            23281|                    129|\n",
      "|19400109|09/01/1940|                1|                   1|             1940W02|                  2|                 2|                                 2|                                2|                  2|              9|        14618|                  131|                 9|               9|                        3|  January|                  Jan|  Tuesday|                Tue|              2|   1939/1940|                  5|                      20|     Term 3|        1940|1940-01-01 00:00:00|1940-01-01 00:00:00|               1|              1|                 2|      1940|          5|            2|1940-05-01 00:00:00|     1940Q02 |          161|19400109|01/09/1940|09/01/1940|09/01/1940|Jan 09 1940|            0|               N|        Y|        N|        Y|               N|            N|               N|      1939/1940-05|   08/01/1940|               08/01/1940|    w/c 08/01/1940|            23281|                    130|\n",
      "|19400110|10/01/1940|                1|                   1|             1940W02|                  2|                 2|                                 2|                                2|                  2|             10|        14619|                  132|                10|              10|                        4|  January|                  Jan|Wednesday|                Wed|              3|   1939/1940|                  5|                      20|     Term 3|        1940|1940-01-01 00:00:00|1940-01-01 00:00:00|               1|              1|                 2|      1940|          5|            2|1940-05-01 00:00:00|     1940Q02 |          161|19400110|01/10/1940|10/01/1940|10/01/1940|Jan 10 1940|            0|               N|        Y|        N|        Y|               N|            N|               N|      1939/1940-05|   08/01/1940|               08/01/1940|    w/c 08/01/1940|            23281|                    131|\n",
      "|19400111|11/01/1940|                1|                   1|             1940W02|                  2|                 2|                                 2|                                2|                  2|             11|        14620|                  133|                11|              11|                        5|  January|                  Jan| Thursday|                Thu|              4|   1939/1940|                  5|                      20|     Term 3|        1940|1940-01-01 00:00:00|1940-01-01 00:00:00|               1|              1|                 2|      1940|          5|            2|1940-05-01 00:00:00|     1940Q02 |          161|19400111|01/11/1940|11/01/1940|11/01/1940|Jan 11 1940|            0|               N|        Y|        N|        Y|               N|            N|               N|      1939/1940-05|   08/01/1940|               08/01/1940|    w/c 08/01/1940|            23281|                    132|\n",
      "|19400112|12/01/1940|                1|                   1|             1940W02|                  2|                 2|                                 2|                                2|                  2|             12|        14621|                  134|                12|              12|                        6|  January|                  Jan|   Friday|                Fri|              5|   1939/1940|                  5|                      20|     Term 3|        1940|1940-01-01 00:00:00|1940-01-01 00:00:00|               1|              1|                 2|      1940|          5|            2|1940-05-01 00:00:00|     1940Q02 |          161|19400112|01/12/1940|12/01/1940|12/01/1940|Jan 12 1940|            0|               N|        Y|        N|        Y|               N|            N|               N|      1939/1940-05|   08/01/1940|               08/01/1940|    w/c 08/01/1940|            23281|                    133|\n",
      "|19400113|13/01/1940|                1|                   1|             1940W02|                  2|                 2|                                 2|                                2|                  2|             13|        14622|                  135|                13|              13|                        7|  January|                  Jan| Saturday|                Sat|              6|   1939/1940|                  5|                      20|     Term 3|        1940|1940-01-01 00:00:00|1940-01-01 00:00:00|               1|              1|                 2|      1940|          5|            2|1940-05-01 00:00:00|     1940Q02 |          161|19400113|01/13/1940|13/01/1940|13/01/1940|Jan 13 1940|            0|               N|        N|        Y|        N|               N|            N|               N|      1939/1940-05|   08/01/1940|               08/01/1940|    w/c 08/01/1940|            23281|                    134|\n",
      "|19400114|14/01/1940|                1|                   1|             1940W02|                  2|                 3|                                 2|                                3|                  3|             14|        14623|                  136|                14|              14|                        1|  January|                  Jan|   Sunday|                Sun|              7|   1939/1940|                  5|                      20|     Term 3|        1940|1940-01-01 00:00:00|1940-01-01 00:00:00|               1|              1|                 3|      1940|          5|            2|1940-05-01 00:00:00|     1940Q02 |          161|19400114|01/14/1940|14/01/1940|14/01/1940|Jan 14 1940|            0|               N|        N|        Y|        N|               N|            N|               N|      1939/1940-05|   08/01/1940|               08/01/1940|    w/c 08/01/1940|            23281|                    135|\n",
      "|19400115|15/01/1940|                1|                   1|             1940W03|                  3|                 3|                                 3|                                3|                  3|             15|        14624|                  137|                15|              15|                        2|  January|                  Jan|   Monday|                Mon|              1|   1939/1940|                  5|                      21|     Term 3|        1940|1940-01-01 00:00:00|1940-01-01 00:00:00|               1|              1|                 3|      1940|          5|            2|1940-05-01 00:00:00|     1940Q02 |          161|19400115|01/15/1940|15/01/1940|15/01/1940|Jan 15 1940|            0|               N|        Y|        N|        Y|               N|            N|               N|      1939/1940-05|   15/01/1940|               15/01/1940|    w/c 15/01/1940|            23281|                    136|\n",
      "|19400116|16/01/1940|                1|                   1|             1940W03|                  3|                 3|                                 3|                                3|                  3|             16|        14625|                  138|                16|              16|                        3|  January|                  Jan|  Tuesday|                Tue|              2|   1939/1940|                  5|                      21|     Term 3|        1940|1940-01-01 00:00:00|1940-01-01 00:00:00|               1|              1|                 3|      1940|          5|            2|1940-05-01 00:00:00|     1940Q02 |          161|19400116|01/16/1940|16/01/1940|16/01/1940|Jan 16 1940|            0|               N|        Y|        N|        Y|               N|            N|               N|      1939/1940-05|   15/01/1940|               15/01/1940|    w/c 15/01/1940|            23281|                    137|\n",
      "|19400117|17/01/1940|                1|                   1|             1940W03|                  3|                 3|                                 3|                                3|                  3|             17|        14626|                  139|                17|              17|                        4|  January|                  Jan|Wednesday|                Wed|              3|   1939/1940|                  5|                      21|     Term 3|        1940|1940-01-01 00:00:00|1940-01-01 00:00:00|               1|              1|                 3|      1940|          5|            2|1940-05-01 00:00:00|     1940Q02 |          161|19400117|01/17/1940|17/01/1940|17/01/1940|Jan 17 1940|            0|               N|        Y|        N|        Y|               N|            N|               N|      1939/1940-05|   15/01/1940|               15/01/1940|    w/c 15/01/1940|            23281|                    138|\n",
      "|19400118|18/01/1940|                1|                   1|             1940W03|                  3|                 3|                                 3|                                3|                  3|             18|        14627|                  140|                18|              18|                        5|  January|                  Jan| Thursday|                Thu|              4|   1939/1940|                  5|                      21|     Term 3|        1940|1940-01-01 00:00:00|1940-01-01 00:00:00|               1|              1|                 3|      1940|          5|            2|1940-05-01 00:00:00|     1940Q02 |          161|19400118|01/18/1940|18/01/1940|18/01/1940|Jan 18 1940|            0|               N|        Y|        N|        Y|               N|            N|               N|      1939/1940-05|   15/01/1940|               15/01/1940|    w/c 15/01/1940|            23281|                    139|\n",
      "|19400119|19/01/1940|                1|                   1|             1940W03|                  3|                 3|                                 3|                                3|                  3|             19|        14628|                  141|                19|              19|                        6|  January|                  Jan|   Friday|                Fri|              5|   1939/1940|                  5|                      21|     Term 3|        1940|1940-01-01 00:00:00|1940-01-01 00:00:00|               1|              1|                 3|      1940|          5|            2|1940-05-01 00:00:00|     1940Q02 |          161|19400119|01/19/1940|19/01/1940|19/01/1940|Jan 19 1940|            0|               N|        Y|        N|        Y|               N|            N|               N|      1939/1940-05|   15/01/1940|               15/01/1940|    w/c 15/01/1940|            23281|                    140|\n",
      "|19400120|20/01/1940|                1|                   1|             1940W03|                  3|                 3|                                 3|                                3|                  3|             20|        14629|                  142|                20|              20|                        7|  January|                  Jan| Saturday|                Sat|              6|   1939/1940|                  5|                      21|     Term 3|        1940|1940-01-01 00:00:00|1940-01-01 00:00:00|               1|              1|                 3|      1940|          5|            2|1940-05-01 00:00:00|     1940Q02 |          161|19400120|01/20/1940|20/01/1940|20/01/1940|Jan 20 1940|            0|               N|        N|        Y|        N|               N|            N|               N|      1939/1940-05|   15/01/1940|               15/01/1940|    w/c 15/01/1940|            23281|                    141|\n",
      "+--------+----------+-----------------+--------------------+--------------------+-------------------+------------------+----------------------------------+---------------------------------+-------------------+---------------+-------------+---------------------+------------------+----------------+-------------------------+---------+---------------------+---------+-------------------+---------------+------------+-------------------+------------------------+-----------+------------+-------------------+-------------------+----------------+---------------+------------------+----------+-----------+-------------+-------------------+-------------+-------------+--------+----------+----------+----------+-----------+-------------+----------------+---------+---------+---------+----------------+-------------+----------------+------------------+-------------+-------------------------+------------------+-----------------+-----------------------+\n",
      "only showing top 20 rows\n",
      "\n"
     ]
    }
   ],
   "source": [
    "df_date_spark.show() #check the df_date_spark"
   ]
  },
  {
   "cell_type": "code",
   "execution_count": 18,
   "metadata": {},
   "outputs": [
    {
     "name": "stdout",
     "output_type": "stream",
     "text": [
      "DataFrame has 36891 rows and 56 columns.\n",
      "\n",
      "Column                             Null  EmptyStr  NA/NaNStr  NumericNaN  TotalMissing  %Missing\n",
      "----------------------------------------------------------------------\n",
      "DateKey                               0         0         0           0            0      0.00%\n",
      "FullDate                              0         0         0           0            0      0.00%\n",
      "MonthNumberOfYear                     0         0         0           0            0      0.00%\n",
      "MonthNumberOfQuarter                  0         0         0           0            0      0.00%\n",
      "ISOYearAndWeekNumber                  0         0         0           0            0      0.00%\n",
      "ISOWeekNumberOfYear                   0         0         0           0            0      0.00%\n",
      "SSWeekNumberOfYear                    0         0         0           0            0      0.00%\n",
      "ISOWeekNumberOfQuarter_454_Pattern    0         0         0           0            0      0.00%\n",
      "SSWeekNumberOfQuarter_454_Pattern     0         0         0           0            0      0.00%\n",
      "SSWeekNumberOfMonth                   0         0         0           0            0      0.00%\n",
      "DayNumberOfYear                       0         0         0           0            0      0.00%\n",
      "DaysSince1900                         0         0         0           0            0      0.00%\n",
      "DayNumberOfFiscalYear                 0         0         0           0            0      0.00%\n",
      "DayNumberOfQuarter                    0         0         0           0            0      0.00%\n",
      "DayNumberOfMonth                      0         0         0           0            0      0.00%\n",
      "DayNumberOfWeek_Sun_Start             0         0         0           0            0      0.00%\n",
      "MonthName                             0         0         0           0            0      0.00%\n",
      "MonthNameAbbreviation                 0         0         0           0            0      0.00%\n",
      "DayName                               0         0         0           0            0      0.00%\n",
      "DayNameAbbreviation                   0         0         0           0            0      0.00%\n",
      "DayNumberOfWeek                       0         0         0           0            0      0.00%\n",
      "AcademicYear                          0         0         0           0            0      0.00%\n",
      "AcademicMonthNumber                   0         0         0           0            0      0.00%\n",
      "AcademicWeekNumberOfYear              0         0         0           0            0      0.00%\n",
      "TermSession                           0         0         0           0            0      0.00%\n",
      "CalendarYear                          0         0         0           0            0      0.00%\n",
      "CalendarYearMonth                     0         0         0           0            0      0.00%\n",
      "CalendarYearQtr                       0         0         0           0            0      0.00%\n",
      "CalendarSemester                      0         0         0           0            0      0.00%\n",
      "CalendarQuarter                       0         0         0           0            0      0.00%\n",
      "CalendarWeekNumber                    0         0         0           0            0      0.00%\n",
      "FiscalYear                            0         0         0           0            0      0.00%\n",
      "FiscalMonth                           0         0         0           0            0      0.00%\n",
      "FiscalQuarter                         0         0         0           0            0      0.00%\n",
      "FiscalYearMonth                       0         0         0           0            0      0.00%\n",
      "FiscalYearQtr                         0         0         0           0            0      0.00%\n",
      "QuarterNumber                         0         0         0           0            0      0.00%\n",
      "YYYYMMDD                              0         0         0           0            0      0.00%\n",
      "MM/DD/YYYY                            0         0         0           0            0      0.00%\n",
      "YYYY/MM/DD                            0         0         0           0            0      0.00%\n",
      "YYYY-MM-DD                            0         0         0           0            0      0.00%\n",
      "MonDDYYYY                             0         0         0           0            0      0.00%\n",
      "IsCurrentYear                         0         0         0           0            0      0.00%\n",
      "IsLastDayOfMonth                      0         0         0           0            0      0.00%\n",
      "IsWeekday                             0         0         0           0            0      0.00%\n",
      "IsWeekend                             0         0         0           0            0      0.00%\n",
      "IsWorkday                             0         0         0           0            0      0.00%\n",
      "IsFederalHoliday                      0         0         0           0            0      0.00%\n",
      "IsBankHoliday                         0         0         0           0            0      0.00%\n",
      "IsCompanyHoliday                      0         0         0           0            0      0.00%\n",
      "AcademicYearPeriod                    0         0         0           0            0      0.00%\n",
      "WeekStartDate                         0         0         0           0            0      0.00%\n",
      "WeekCommencing DD/MM/YYYY             0         0         0           0            0      0.00%\n",
      "WeekCommencingName                    0         0         0           0            0      0.00%\n",
      "Year Month Number                     0         0         0           0            0      0.00%\n",
      "DayNumberofAcademicYear               0         0         0           0            0      0.00%\n"
     ]
    }
   ],
   "source": [
    "show_df_missing_breakdown(df_date_spark)"
   ]
  },
  {
   "cell_type": "markdown",
   "metadata": {},
   "source": [
    "Initial observations:\n",
    "- Academic year is available in the data - good for academic year analysis\n",
    "- week start dates available as calendar week start date and academic week start date\n",
    "- datekey can be used to join with the date dimension"
   ]
  },
  {
   "cell_type": "markdown",
   "metadata": {},
   "source": [
    "#### 4. Join the data"
   ]
  },
  {
   "cell_type": "code",
   "execution_count": 19,
   "metadata": {},
   "outputs": [
    {
     "name": "stdout",
     "output_type": "stream",
     "text": [
      "+----------+--------+-----------+------------------------------------+----------+-------------+---------------+-------------+-------------+--------------+---------+---------------+--------------+-----------------+------------------------------------+------------------------------------+------------------------------------+-----------+---------------------+------------------------+-----------+---------------------+------------------------------------+--------------+---------+-----------------------+----------------+-------+------------------------------------+------------+------------------+-----------------+-----------+----------------+-------+----------+-----------------+------------------------------------+------------------------------------+----------+------------------------------------+--------------------------+-------------------+-----------------+-------------------+----------------------+------------------------+-------------------------------+----------------+----------------------------+---------------+-----------------------------------+------------------------------------------+------------------+--------------------------+---------------------+------------------------------------+---------------+--------------------+--------------------------+-----------------+---------------+-------------+------------------------------------+------------------------------------+------------------------------------+----------+-----------+--------------------+-----------------------+-----------------------+----------------------+---------------------+-------------------------------------+------------------------------------+----------------------+------------------+----------------+------------------------+---------------------+-------------------+----------------------------+------------+------------------------+----------+----------------------+------------------+---------------+----------------------+---------------------------+--------------+---------------+--------------------+-------------------+-------------------+------------------+---------------------+-------------+--------------+----------------+-------------------+----------------+----------------+-----------+-------------+-------------+-------------+------------+----------------+-------------------+------------+------------+------------+-------------------+----------------+-------------------+---------------------+----------------+----------------------------+---------------------+--------------------+--------------------------+\n",
      "|att_Date  |att_Mark|att_Session|att_attendancesessionkey            |att_is_aea|att_is_attend|att_is_auth_abs|att_is_late_L|att_is_late_U|att_is_missing|att_is_nr|att_is_possible|att_is_present|att_is_unauth_abs|att_organisationkey                 |att_studentkey                      |att_partitionkey                    |att_datekey|org_Organisation_Name|org_Establishment_Number|org_LA_Code|org_Organisation_Type|org_organisationkey                 |org_addresskey|org_UKPRN|org_Organisation_Status|org_last_updated|org_URN|org_partitionkey                    |stu_Forename|stu_Legal_Forename|stu_Legal_Surname|stu_Surname|stu_Middle_Names|stu_Sex|stu_Gender|stu_Date_Of_Birth|stu_organisationkey                 |stu_studentkey                      |stu_UPN   |stu_partitionkey                    |stex_Ethnicity            |stex_Ethnicity_Code|stex_Ever_In_Care|stex_First_Language|stex_Free_School_Meals|stex_Free_School_Meals_6|stex_Gifted_And_Talented_Status|stex_In_LEA_Care|stex_Pupil_Premium_Indicator|stex_SEN_Status|stex_English_As_Additional_Language|stex_English_As_Additional_Language_Status|stex_Child_In_Need|stex_Child_Protection_Plan|stex_Enrolment_Status|stex_studentextendedkey             |stex_Year_Group|stex_Current_NC_Year|stex_Admission_Date       |stex_Leaving_Date|stex_Is_Current|stex_Postcode|stex_organisationkey                |stex_studentkey                     |stex_partitionkey                   |dd_DateKey|dd_FullDate|dd_MonthNumberOfYear|dd_MonthNumberOfQuarter|dd_ISOYearAndWeekNumber|dd_ISOWeekNumberOfYear|dd_SSWeekNumberOfYear|dd_ISOWeekNumberOfQuarter_454_Pattern|dd_SSWeekNumberOfQuarter_454_Pattern|dd_SSWeekNumberOfMonth|dd_DayNumberOfYear|dd_DaysSince1900|dd_DayNumberOfFiscalYear|dd_DayNumberOfQuarter|dd_DayNumberOfMonth|dd_DayNumberOfWeek_Sun_Start|dd_MonthName|dd_MonthNameAbbreviation|dd_DayName|dd_DayNameAbbreviation|dd_DayNumberOfWeek|dd_AcademicYear|dd_AcademicMonthNumber|dd_AcademicWeekNumberOfYear|dd_TermSession|dd_CalendarYear|dd_CalendarYearMonth|dd_CalendarYearQtr |dd_CalendarSemester|dd_CalendarQuarter|dd_CalendarWeekNumber|dd_FiscalYear|dd_FiscalMonth|dd_FiscalQuarter|dd_FiscalYearMonth |dd_FiscalYearQtr|dd_QuarterNumber|dd_YYYYMMDD|dd_MM/DD/YYYY|dd_YYYY/MM/DD|dd_YYYY-MM-DD|dd_MonDDYYYY|dd_IsCurrentYear|dd_IsLastDayOfMonth|dd_IsWeekday|dd_IsWeekend|dd_IsWorkday|dd_IsFederalHoliday|dd_IsBankHoliday|dd_IsCompanyHoliday|dd_AcademicYearPeriod|dd_WeekStartDate|dd_WeekCommencing DD/MM/YYYY|dd_WeekCommencingName|dd_Year Month Number|dd_DayNumberofAcademicYear|\n",
      "+----------+--------+-----------+------------------------------------+----------+-------------+---------------+-------------+-------------+--------------+---------+---------------+--------------+-----------------+------------------------------------+------------------------------------+------------------------------------+-----------+---------------------+------------------------+-----------+---------------------+------------------------------------+--------------+---------+-----------------------+----------------+-------+------------------------------------+------------+------------------+-----------------+-----------+----------------+-------+----------+-----------------+------------------------------------+------------------------------------+----------+------------------------------------+--------------------------+-------------------+-----------------+-------------------+----------------------+------------------------+-------------------------------+----------------+----------------------------+---------------+-----------------------------------+------------------------------------------+------------------+--------------------------+---------------------+------------------------------------+---------------+--------------------+--------------------------+-----------------+---------------+-------------+------------------------------------+------------------------------------+------------------------------------+----------+-----------+--------------------+-----------------------+-----------------------+----------------------+---------------------+-------------------------------------+------------------------------------+----------------------+------------------+----------------+------------------------+---------------------+-------------------+----------------------------+------------+------------------------+----------+----------------------+------------------+---------------+----------------------+---------------------------+--------------+---------------+--------------------+-------------------+-------------------+------------------+---------------------+-------------+--------------+----------------+-------------------+----------------+----------------+-----------+-------------+-------------+-------------+------------+----------------+-------------------+------------+------------+------------+-------------------+----------------+-------------------+---------------------+----------------+----------------------------+---------------------+--------------------+--------------------------+\n",
      "|2022-01-03|#       |PM         |540c3b1b-21b6-44b7-8e4c-849455d15b65|0.0       |0.0          |0.0            |0.0          |0.0          |0.0           |1.0      |0.0            |0.0           |0.0              |068cf4c6-2526-430d-a23d-f482ba43887d|9fca452d-e3b8-4423-abda-597c5e3f73e5|068cf4c6-2526-430d-a23d-f482ba43887d|20220103   |Academy 9            |XXXXXX                  |XXXXXX     |ALL THROUGH          |068cf4c6-2526-430d-a23d-f482ba43887d|              |         |Active                 |                |8      |068cf4c6-2526-430d-a23d-f482ba43887d|Melissa     |XXXXXX            |XXXXXX           |Chase      |XXXXXX          |FEMALE |None      |2000-01-01       |068cf4c6-2526-430d-a23d-f482ba43887d|9fca452d-e3b8-4423-abda-597c5e3f73e5|6949      |068cf4c6-2526-430d-a23d-f482ba43887d|Any other mixed background|MOTH               |False            |Pali               |True                  |True                    |False                          |False           |True                        |None           |False                              |None                                      |None              |None                      |SINGLE REGISTRATION  |6a51ea88-0c44-4359-987d-394a76ee84f6|9              |9                   |2024-03-11 00:00:00.000000|NULL             |1              |             |068cf4c6-2526-430d-a23d-f482ba43887d|9fca452d-e3b8-4423-abda-597c5e3f73e5|068cf4c6-2526-430d-a23d-f482ba43887d|20220103  |03/01/2022 |1                   |1                      |2022W01                |1                     |2                    |1                                    |2                                   |2                     |3                 |44563           |125                     |3                    |3                  |2                           |January     |Jan                     |Monday    |Mon                   |1                 |2021/2022      |5                     |19                         |Term 2        |2022           |2022-01-01 00:00:00 |2022-01-01 00:00:00|1                  |1                 |2                    |2022         |5             |2               |2022-05-01 00:00:00|2022Q02         |489             |20220103   |01/03/2022   |03/01/2022   |03/01/2022   |Jan 03 2022 |0               |N                  |Y           |N           |Y           |N                  |Y               |N                  |2021/2022-05         |03/01/2022      |03/01/2022                  |w/c 03/01/2022       |24265               |124                       |\n",
      "|2022-02-14|#       |PM         |4bd91887-aebd-4932-be66-e8183062e1da|0.0       |0.0          |0.0            |0.0          |0.0          |0.0           |1.0      |0.0            |0.0           |0.0              |02ef2e04-5a06-4f18-97f1-d971a9a21585|b43ace14-50c5-4beb-8bf3-5f5904af4308|02ef2e04-5a06-4f18-97f1-d971a9a21585|20220214   |Academy 4            |XXXXXX                  |XXXXXX     |SECONDARY            |02ef2e04-5a06-4f18-97f1-d971a9a21585|              |         |Active                 |                |3      |02ef2e04-5a06-4f18-97f1-d971a9a21585|Alec        |XXXXXX            |XXXXXX           |Smith      |XXXXXX          |FEMALE |None      |2000-01-01       |02ef2e04-5a06-4f18-97f1-d971a9a21585|b43ace14-50c5-4beb-8bf3-5f5904af4308|8589938741|02ef2e04-5a06-4f18-97f1-d971a9a21585|White - British           |WBRI               |False            |Malayalam          |True                  |True                    |False                          |False           |True                        |K              |False                              |None                                      |None              |None                      |SINGLE REGISTRATION  |2c37f9d2-8724-408e-bff5-778aba4ede84|11             |11                  |2020-09-02 00:00:00.000000|NULL             |1              |             |02ef2e04-5a06-4f18-97f1-d971a9a21585|b43ace14-50c5-4beb-8bf3-5f5904af4308|02ef2e04-5a06-4f18-97f1-d971a9a21585|20220214  |14/02/2022 |2                   |2                      |2022W07                |7                     |8                    |7                                    |8                                   |3                     |45                |44605           |167                     |45                   |14                 |2                           |February    |Feb                     |Monday    |Mon                   |1                 |2021/2022      |6                     |25                         |Term 3        |2022           |2022-02-01 00:00:00 |2022-01-01 00:00:00|1                  |1                 |8                    |2022         |6             |2               |2022-06-01 00:00:00|2022Q02         |489             |20220214   |02/14/2022   |14/02/2022   |14/02/2022   |Feb 14 2022 |0               |N                  |Y           |N           |Y           |N                  |N               |N                  |2021/2022-06         |14/02/2022      |14/02/2022                  |w/c 14/02/2022       |24266               |166                       |\n",
      "|2022-02-25|/       |AM         |5d67e42c-d7c5-4db3-8f26-d780e18b7e67|0.0       |1.0          |0.0            |0.0          |0.0          |0.0           |0.0      |1.0            |1.0           |0.0              |5ce8e936-d2c9-4073-ae9e-40c529fc4e88|758d0015-8c72-4429-a610-1380c22405c7|5ce8e936-d2c9-4073-ae9e-40c529fc4e88|20220225   |Academy 2            |XXXXXX                  |XXXXXX     |SECONDARY            |5ce8e936-d2c9-4073-ae9e-40c529fc4e88|              |         |Active                 |                |1      |5ce8e936-d2c9-4073-ae9e-40c529fc4e88|Stephanie   |XXXXXX            |XXXXXX           |Lynn       |XXXXXX          |FEMALE |None      |2000-01-01       |5ce8e936-d2c9-4073-ae9e-40c529fc4e88|758d0015-8c72-4429-a610-1380c22405c7|5094      |5ce8e936-d2c9-4073-ae9e-40c529fc4e88|White - British           |WBRI               |False            |Corsican           |False                 |False                   |False                          |False           |False                       |None           |False                              |None                                      |None              |None                      |SINGLE REGISTRATION  |67f657c1-f529-48c8-81b9-834d9de437d1|11             |11                  |2020-09-03 00:00:00.000000|NULL             |1              |             |5ce8e936-d2c9-4073-ae9e-40c529fc4e88|758d0015-8c72-4429-a610-1380c22405c7|5ce8e936-d2c9-4073-ae9e-40c529fc4e88|20220225  |25/02/2022 |2                   |2                      |2022W08                |8                     |9                    |8                                    |9                                   |4                     |56                |44616           |178                     |56                   |25                 |6                           |February    |Feb                     |Friday    |Fri                   |5                 |2021/2022      |6                     |26                         |Term 4        |2022           |2022-02-01 00:00:00 |2022-01-01 00:00:00|1                  |1                 |9                    |2022         |6             |2               |2022-06-01 00:00:00|2022Q02         |489             |20220225   |02/25/2022   |25/02/2022   |25/02/2022   |Feb 25 2022 |0               |N                  |Y           |N           |Y           |N                  |N               |N                  |2021/2022-06         |21/02/2022      |21/02/2022                  |w/c 21/02/2022       |24266               |177                       |\n",
      "|2022-04-24|#       |PM         |957803c3-8b81-4b05-8c9c-0bb2eab485f3|0.0       |0.0          |0.0            |0.0          |0.0          |0.0           |1.0      |0.0            |0.0           |0.0              |5ce8e936-d2c9-4073-ae9e-40c529fc4e88|6f56a2e0-766c-488b-a305-8e524a461538|5ce8e936-d2c9-4073-ae9e-40c529fc4e88|20220424   |Academy 2            |XXXXXX                  |XXXXXX     |SECONDARY            |5ce8e936-d2c9-4073-ae9e-40c529fc4e88|              |         |Active                 |                |1      |5ce8e936-d2c9-4073-ae9e-40c529fc4e88|Felicia     |XXXXXX            |XXXXXX           |Vega       |XXXXXX          |MALE   |None      |2000-01-01       |5ce8e936-d2c9-4073-ae9e-40c529fc4e88|6f56a2e0-766c-488b-a305-8e524a461538|4834      |5ce8e936-d2c9-4073-ae9e-40c529fc4e88|White - British           |WBRI               |False            |Corsican           |False                 |False                   |False                          |False           |False                       |None           |False                              |None                                      |None              |None                      |SINGLE REGISTRATION  |b14e8b40-e401-4d55-bdfa-64bdf398ee82|10             |10                  |2021-09-01 00:00:00.000000|NULL             |1              |             |5ce8e936-d2c9-4073-ae9e-40c529fc4e88|6f56a2e0-766c-488b-a305-8e524a461538|5ce8e936-d2c9-4073-ae9e-40c529fc4e88|20220424  |24/04/2022 |4                   |1                      |2022W16                |16                    |18                   |3                                    |5                                   |5                     |114               |44674           |236                     |24                   |24                 |1                           |April       |Apr                     |Sunday    |Sun                   |7                 |2021/2022      |8                     |34                         |Term 5        |2022           |2022-04-01 00:00:00 |2022-02-01 00:00:00|1                  |2                 |18                   |2022         |8             |3               |2022-08-01 00:00:00|2022Q03         |490             |20220424   |04/24/2022   |24/04/2022   |24/04/2022   |Apr 24 2022 |0               |N                  |N           |Y           |N           |N                  |N               |N                  |2021/2022-08         |18/04/2022      |18/04/2022                  |w/c 18/04/2022       |24268               |235                       |\n",
      "|2022-05-09|/       |AM         |f02bf22a-bfbf-4c35-9f40-eda2777c9bc3|0.0       |1.0          |0.0            |0.0          |0.0          |0.0           |0.0      |1.0            |1.0           |0.0              |2d9ba2ce-d6e9-49b4-b8c0-d03c7f69d8d8|bc5d141b-fd82-42a5-bca1-cbfaf761f3ee|2d9ba2ce-d6e9-49b4-b8c0-d03c7f69d8d8|20220509   |Academy 7            |XXXXXX                  |XXXXXX     |SECONDARY            |2d9ba2ce-d6e9-49b4-b8c0-d03c7f69d8d8|              |         |Active                 |                |6      |2d9ba2ce-d6e9-49b4-b8c0-d03c7f69d8d8|Matthew     |XXXXXX            |XXXXXX           |Peterson   |XXXXXX          |MALE   |None      |2000-01-01       |2d9ba2ce-d6e9-49b4-b8c0-d03c7f69d8d8|bc5d141b-fd82-42a5-bca1-cbfaf761f3ee|8589938930|2d9ba2ce-d6e9-49b4-b8c0-d03c7f69d8d8|White - British           |WBRI               |False            |Hindi              |True                  |True                    |False                          |False           |True                        |E              |False                              |None                                      |None              |None                      |SINGLE REGISTRATION  |da8df805-a390-4121-8bd9-dca457a9f2be|11             |11                  |2020-09-01 00:00:00.000000|nan              |1              |             |2d9ba2ce-d6e9-49b4-b8c0-d03c7f69d8d8|bc5d141b-fd82-42a5-bca1-cbfaf761f3ee|2d9ba2ce-d6e9-49b4-b8c0-d03c7f69d8d8|20220509  |09/05/2022 |5                   |2                      |2022W19                |19                    |20                   |6                                    |7                                   |2                     |129               |44689           |251                     |39                   |9                  |2                           |May         |May                     |Monday    |Mon                   |1                 |2021/2022      |9                     |37                         |Term 5        |2022           |2022-05-01 00:00:00 |2022-02-01 00:00:00|1                  |2                 |20                   |2022         |9             |3               |2022-09-01 00:00:00|2022Q03         |490             |20220509   |05/09/2022   |09/05/2022   |09/05/2022   |May 09 2022 |0               |N                  |Y           |N           |Y           |N                  |N               |N                  |2021/2022-09         |09/05/2022      |09/05/2022                  |w/c 09/05/2022       |24269               |250                       |\n",
      "|2022-07-16|#       |PM         |d4a94308-d246-4b10-8bc3-507cb9b32702|0.0       |0.0          |0.0            |0.0          |0.0          |0.0           |1.0      |0.0            |0.0           |0.0              |2d9ba2ce-d6e9-49b4-b8c0-d03c7f69d8d8|bc5d141b-fd82-42a5-bca1-cbfaf761f3ee|2d9ba2ce-d6e9-49b4-b8c0-d03c7f69d8d8|20220716   |Academy 7            |XXXXXX                  |XXXXXX     |SECONDARY            |2d9ba2ce-d6e9-49b4-b8c0-d03c7f69d8d8|              |         |Active                 |                |6      |2d9ba2ce-d6e9-49b4-b8c0-d03c7f69d8d8|Matthew     |XXXXXX            |XXXXXX           |Peterson   |XXXXXX          |MALE   |None      |2000-01-01       |2d9ba2ce-d6e9-49b4-b8c0-d03c7f69d8d8|bc5d141b-fd82-42a5-bca1-cbfaf761f3ee|8589938930|2d9ba2ce-d6e9-49b4-b8c0-d03c7f69d8d8|White - British           |WBRI               |False            |Hindi              |True                  |True                    |False                          |False           |True                        |E              |False                              |None                                      |None              |None                      |SINGLE REGISTRATION  |da8df805-a390-4121-8bd9-dca457a9f2be|11             |11                  |2020-09-01 00:00:00.000000|nan              |1              |             |2d9ba2ce-d6e9-49b4-b8c0-d03c7f69d8d8|bc5d141b-fd82-42a5-bca1-cbfaf761f3ee|2d9ba2ce-d6e9-49b4-b8c0-d03c7f69d8d8|20220716  |16/07/2022 |7                   |1                      |2022W28                |28                    |29                   |2                                    |3                                   |3                     |197               |44757           |319                     |16                   |16                 |7                           |July        |Jul                     |Saturday  |Sat                   |6                 |2021/2022      |11                    |46                         |Term 6        |2022           |2022-07-01 00:00:00 |2022-03-01 00:00:00|2                  |3                 |29                   |2022         |11            |4               |2022-11-01 00:00:00|2022Q04         |491             |20220716   |07/16/2022   |16/07/2022   |16/07/2022   |Jul 16 2022 |0               |N                  |N           |Y           |N           |N                  |N               |N                  |2021/2022-11         |11/07/2022      |11/07/2022                  |w/c 11/07/2022       |24271               |318                       |\n",
      "|2022-07-16|#       |PM         |81393f62-8757-4f5c-a02e-5f5d3eeecd89|0.0       |0.0          |0.0            |0.0          |0.0          |0.0           |1.0      |0.0            |0.0           |0.0              |5ce8e936-d2c9-4073-ae9e-40c529fc4e88|758d0015-8c72-4429-a610-1380c22405c7|5ce8e936-d2c9-4073-ae9e-40c529fc4e88|20220716   |Academy 2            |XXXXXX                  |XXXXXX     |SECONDARY            |5ce8e936-d2c9-4073-ae9e-40c529fc4e88|              |         |Active                 |                |1      |5ce8e936-d2c9-4073-ae9e-40c529fc4e88|Stephanie   |XXXXXX            |XXXXXX           |Lynn       |XXXXXX          |FEMALE |None      |2000-01-01       |5ce8e936-d2c9-4073-ae9e-40c529fc4e88|758d0015-8c72-4429-a610-1380c22405c7|5094      |5ce8e936-d2c9-4073-ae9e-40c529fc4e88|White - British           |WBRI               |False            |Corsican           |False                 |False                   |False                          |False           |False                       |None           |False                              |None                                      |None              |None                      |SINGLE REGISTRATION  |67f657c1-f529-48c8-81b9-834d9de437d1|11             |11                  |2020-09-03 00:00:00.000000|NULL             |1              |             |5ce8e936-d2c9-4073-ae9e-40c529fc4e88|758d0015-8c72-4429-a610-1380c22405c7|5ce8e936-d2c9-4073-ae9e-40c529fc4e88|20220716  |16/07/2022 |7                   |1                      |2022W28                |28                    |29                   |2                                    |3                                   |3                     |197               |44757           |319                     |16                   |16                 |7                           |July        |Jul                     |Saturday  |Sat                   |6                 |2021/2022      |11                    |46                         |Term 6        |2022           |2022-07-01 00:00:00 |2022-03-01 00:00:00|2                  |3                 |29                   |2022         |11            |4               |2022-11-01 00:00:00|2022Q04         |491             |20220716   |07/16/2022   |16/07/2022   |16/07/2022   |Jul 16 2022 |0               |N                  |N           |Y           |N           |N                  |N               |N                  |2021/2022-11         |11/07/2022      |11/07/2022                  |w/c 11/07/2022       |24271               |318                       |\n",
      "|2022-07-17|#       |PM         |a10d1c02-a6cb-4851-be71-b05cd60070cc|0.0       |0.0          |0.0            |0.0          |0.0          |0.0           |1.0      |0.0            |0.0           |0.0              |5ce8e936-d2c9-4073-ae9e-40c529fc4e88|13fd1794-691a-4006-81a5-f03ee17600c5|5ce8e936-d2c9-4073-ae9e-40c529fc4e88|20220717   |Academy 2            |XXXXXX                  |XXXXXX     |SECONDARY            |5ce8e936-d2c9-4073-ae9e-40c529fc4e88|              |         |Active                 |                |1      |5ce8e936-d2c9-4073-ae9e-40c529fc4e88|Christopher |XXXXXX            |XXXXXX           |Miller     |XXXXXX          |MALE   |None      |2000-01-01       |5ce8e936-d2c9-4073-ae9e-40c529fc4e88|13fd1794-691a-4006-81a5-f03ee17600c5|871       |5ce8e936-d2c9-4073-ae9e-40c529fc4e88|White and Black African   |MWBA               |False            |Icelandic          |True                  |True                    |False                          |False           |False                       |None           |False                              |None                                      |None              |None                      |SINGLE REGISTRATION  |1cb351c1-4db8-4ec9-a13a-5134002c4809|13             |13                  |2018-09-03 00:00:00.000000|NULL             |1              |             |5ce8e936-d2c9-4073-ae9e-40c529fc4e88|13fd1794-691a-4006-81a5-f03ee17600c5|5ce8e936-d2c9-4073-ae9e-40c529fc4e88|20220717  |17/07/2022 |7                   |1                      |2022W28                |28                    |30                   |2                                    |4                                   |4                     |198               |44758           |320                     |17                   |17                 |1                           |July        |Jul                     |Sunday    |Sun                   |7                 |2021/2022      |11                    |46                         |Term 6        |2022           |2022-07-01 00:00:00 |2022-03-01 00:00:00|2                  |3                 |30                   |2022         |11            |4               |2022-11-01 00:00:00|2022Q04         |491             |20220717   |07/17/2022   |17/07/2022   |17/07/2022   |Jul 17 2022 |0               |N                  |N           |Y           |N           |N                  |N               |N                  |2021/2022-11         |11/07/2022      |11/07/2022                  |w/c 11/07/2022       |24271               |319                       |\n",
      "|2022-08-05|#       |PM         |4360be6b-8b0e-41cf-a37b-aaf0898f7ac8|0.0       |0.0          |0.0            |0.0          |0.0          |0.0           |1.0      |0.0            |0.0           |0.0              |f7d73a58-e94b-4505-b126-b5f73c66b48b|3aeb9831-4595-4722-8e3b-ac1b864f2c05|f7d73a58-e94b-4505-b126-b5f73c66b48b|20220805   |Academy 1            |XXXXXX                  |XXXXXX     |SECONDARY            |f7d73a58-e94b-4505-b126-b5f73c66b48b|              |         |Active                 |                |0      |f7d73a58-e94b-4505-b126-b5f73c66b48b|Rebecca     |XXXXXX            |XXXXXX           |Mckee      |XXXXXX          |FEMALE |None      |2000-01-01       |f7d73a58-e94b-4505-b126-b5f73c66b48b|3aeb9831-4595-4722-8e3b-ac1b864f2c05|2563      |f7d73a58-e94b-4505-b126-b5f73c66b48b|Pakistani                 |APKN               |False            |Ndonga             |False                 |False                   |False                          |False           |False                       |None           |False                              |None                                      |None              |None                      |SINGLE REGISTRATION  |c1f795ff-c506-45be-be61-ff9ad7fd900b|11             |11                  |2020-09-01 00:00:00.000000|NULL             |1              |             |f7d73a58-e94b-4505-b126-b5f73c66b48b|3aeb9831-4595-4722-8e3b-ac1b864f2c05|f7d73a58-e94b-4505-b126-b5f73c66b48b|20220805  |05/08/2022 |8                   |2                      |2022W31                |31                    |32                   |5                                    |6                                   |1                     |217               |44777           |339                     |36                   |5                  |6                           |August      |Aug                     |Friday    |Fri                   |5                 |2022/2023      |12                    |49                         |Term 6        |2022           |2022-08-01 00:00:00 |2022-03-01 00:00:00|2                  |3                 |32                   |2022         |12            |4               |2022-12-01 00:00:00|2022Q04         |491             |20220805   |08/05/2022   |05/08/2022   |05/08/2022   |Aug 05 2022 |0               |N                  |Y           |N           |Y           |N                  |N               |N                  |2021/2022-12         |01/08/2022      |01/08/2022                  |w/c 01/08/2022       |24272               |338                       |\n",
      "|2022-08-09|#       |PM         |137c1f50-47cb-42e7-bc3e-a898d4b3eb30|0.0       |0.0          |0.0            |0.0          |0.0          |0.0           |1.0      |0.0            |0.0           |0.0              |02ef2e04-5a06-4f18-97f1-d971a9a21585|b43ace14-50c5-4beb-8bf3-5f5904af4308|02ef2e04-5a06-4f18-97f1-d971a9a21585|20220809   |Academy 4            |XXXXXX                  |XXXXXX     |SECONDARY            |02ef2e04-5a06-4f18-97f1-d971a9a21585|              |         |Active                 |                |3      |02ef2e04-5a06-4f18-97f1-d971a9a21585|Alec        |XXXXXX            |XXXXXX           |Smith      |XXXXXX          |FEMALE |None      |2000-01-01       |02ef2e04-5a06-4f18-97f1-d971a9a21585|b43ace14-50c5-4beb-8bf3-5f5904af4308|8589938741|02ef2e04-5a06-4f18-97f1-d971a9a21585|White - British           |WBRI               |False            |Malayalam          |True                  |True                    |False                          |False           |True                        |K              |False                              |None                                      |None              |None                      |SINGLE REGISTRATION  |2c37f9d2-8724-408e-bff5-778aba4ede84|11             |11                  |2020-09-02 00:00:00.000000|NULL             |1              |             |02ef2e04-5a06-4f18-97f1-d971a9a21585|b43ace14-50c5-4beb-8bf3-5f5904af4308|02ef2e04-5a06-4f18-97f1-d971a9a21585|20220809  |09/08/2022 |8                   |2                      |2022W32                |32                    |33                   |6                                    |7                                   |2                     |221               |44781           |343                     |40                   |9                  |3                           |August      |Aug                     |Tuesday   |Tue                   |2                 |2022/2023      |12                    |50                         |Term 6        |2022           |2022-08-01 00:00:00 |2022-03-01 00:00:00|2                  |3                 |33                   |2022         |12            |4               |2022-12-01 00:00:00|2022Q04         |491             |20220809   |08/09/2022   |09/08/2022   |09/08/2022   |Aug 09 2022 |0               |N                  |Y           |N           |Y           |N                  |N               |N                  |2021/2022-12         |08/08/2022      |08/08/2022                  |w/c 08/08/2022       |24272               |342                       |\n",
      "|2022-09-02|#       |AM         |fcbbefce-25bf-4b4e-a8ce-a1dda69956b4|0.0       |0.0          |0.0            |0.0          |0.0          |0.0           |1.0      |0.0            |0.0           |0.0              |f7d73a58-e94b-4505-b126-b5f73c66b48b|3aeb9831-4595-4722-8e3b-ac1b864f2c05|f7d73a58-e94b-4505-b126-b5f73c66b48b|20220902   |Academy 1            |XXXXXX                  |XXXXXX     |SECONDARY            |f7d73a58-e94b-4505-b126-b5f73c66b48b|              |         |Active                 |                |0      |f7d73a58-e94b-4505-b126-b5f73c66b48b|Rebecca     |XXXXXX            |XXXXXX           |Mckee      |XXXXXX          |FEMALE |None      |2000-01-01       |f7d73a58-e94b-4505-b126-b5f73c66b48b|3aeb9831-4595-4722-8e3b-ac1b864f2c05|2563      |f7d73a58-e94b-4505-b126-b5f73c66b48b|Pakistani                 |APKN               |False            |Ndonga             |False                 |False                   |False                          |False           |False                       |None           |False                              |None                                      |None              |None                      |SINGLE REGISTRATION  |c1f795ff-c506-45be-be61-ff9ad7fd900b|11             |11                  |2020-09-01 00:00:00.000000|NULL             |1              |             |f7d73a58-e94b-4505-b126-b5f73c66b48b|3aeb9831-4595-4722-8e3b-ac1b864f2c05|f7d73a58-e94b-4505-b126-b5f73c66b48b|20220902  |02/09/2022 |9                   |3                      |2022W35                |35                    |36                   |9                                    |10                                  |1                     |245               |44805           |2                       |64                   |2                  |6                           |September   |Sep                     |Friday    |Fri                   |5                 |2022/2023      |1                     |1                          |Term 1        |2022           |2022-09-01 00:00:00 |2022-03-01 00:00:00|2                  |3                 |36                   |2023         |1             |1               |2023-01-01 00:00:00|2023Q01         |491             |20220902   |09/02/2022   |02/09/2022   |02/09/2022   |Sep 02 2022 |0               |N                  |Y           |N           |Y           |N                  |N               |N                  |2022/2023-01         |29/08/2022      |29/08/2022                  |w/c 29/08/2022       |24273               |1                         |\n",
      "|2022-10-26|#       |PM         |87fdbe23-fa6f-4f30-ad74-20e50cbb06fa|0.0       |0.0          |0.0            |0.0          |0.0          |0.0           |1.0      |0.0            |0.0           |0.0              |5ce8e936-d2c9-4073-ae9e-40c529fc4e88|758d0015-8c72-4429-a610-1380c22405c7|5ce8e936-d2c9-4073-ae9e-40c529fc4e88|20221026   |Academy 2            |XXXXXX                  |XXXXXX     |SECONDARY            |5ce8e936-d2c9-4073-ae9e-40c529fc4e88|              |         |Active                 |                |1      |5ce8e936-d2c9-4073-ae9e-40c529fc4e88|Stephanie   |XXXXXX            |XXXXXX           |Lynn       |XXXXXX          |FEMALE |None      |2000-01-01       |5ce8e936-d2c9-4073-ae9e-40c529fc4e88|758d0015-8c72-4429-a610-1380c22405c7|5094      |5ce8e936-d2c9-4073-ae9e-40c529fc4e88|White - British           |WBRI               |False            |Corsican           |False                 |False                   |False                          |False           |False                       |None           |False                              |None                                      |None              |None                      |SINGLE REGISTRATION  |67f657c1-f529-48c8-81b9-834d9de437d1|11             |11                  |2020-09-03 00:00:00.000000|NULL             |1              |             |5ce8e936-d2c9-4073-ae9e-40c529fc4e88|758d0015-8c72-4429-a610-1380c22405c7|5ce8e936-d2c9-4073-ae9e-40c529fc4e88|20221026  |26/10/2022 |10                  |1                      |2022W43                |43                    |44                   |4                                    |5                                   |5                     |299               |44859           |56                      |26                   |26                 |4                           |October     |Oct                     |Wednesday |Wed                   |3                 |2022/2023      |2                     |9                          |Term 1        |2022           |2022-10-01 00:00:00 |2022-04-01 00:00:00|2                  |4                 |44                   |2023         |2             |1               |2023-02-01 00:00:00|2023Q01         |492             |20221026   |10/26/2022   |26/10/2022   |26/10/2022   |Oct 26 2022 |0               |N                  |Y           |N           |Y           |N                  |N               |N                  |2022/2023-02         |24/10/2022      |24/10/2022                  |w/c 24/10/2022       |24274               |55                        |\n",
      "|2022-11-27|#       |PM         |016ba5b1-4d7d-4b9e-abe7-bc4d0ead1876|0.0       |0.0          |0.0            |0.0          |0.0          |0.0           |1.0      |0.0            |0.0           |0.0              |068cf4c6-2526-430d-a23d-f482ba43887d|9fca452d-e3b8-4423-abda-597c5e3f73e5|068cf4c6-2526-430d-a23d-f482ba43887d|20221127   |Academy 9            |XXXXXX                  |XXXXXX     |ALL THROUGH          |068cf4c6-2526-430d-a23d-f482ba43887d|              |         |Active                 |                |8      |068cf4c6-2526-430d-a23d-f482ba43887d|Melissa     |XXXXXX            |XXXXXX           |Chase      |XXXXXX          |FEMALE |None      |2000-01-01       |068cf4c6-2526-430d-a23d-f482ba43887d|9fca452d-e3b8-4423-abda-597c5e3f73e5|6949      |068cf4c6-2526-430d-a23d-f482ba43887d|Any other mixed background|MOTH               |False            |Pali               |True                  |True                    |False                          |False           |True                        |None           |False                              |None                                      |None              |None                      |SINGLE REGISTRATION  |6a51ea88-0c44-4359-987d-394a76ee84f6|9              |9                   |2024-03-11 00:00:00.000000|NULL             |1              |             |068cf4c6-2526-430d-a23d-f482ba43887d|9fca452d-e3b8-4423-abda-597c5e3f73e5|068cf4c6-2526-430d-a23d-f482ba43887d|20221127  |27/11/2022 |11                  |2                      |2022W47                |47                    |49                   |8                                    |10                                  |5                     |331               |44891           |88                      |58                   |27                 |1                           |November    |Nov                     |Sunday    |Sun                   |7                 |2022/2023      |3                     |13                         |Term 2        |2022           |2022-11-01 00:00:00 |2022-04-01 00:00:00|2                  |4                 |49                   |2023         |3             |1               |2023-03-01 00:00:00|2023Q01         |492             |20221127   |11/27/2022   |27/11/2022   |27/11/2022   |Nov 27 2022 |0               |N                  |N           |Y           |N           |N                  |N               |N                  |2022/2023-03         |21/11/2022      |21/11/2022                  |w/c 21/11/2022       |24275               |87                        |\n",
      "|2023-05-30|#       |AM         |c90fe864-ba70-4448-b5d2-90ae22cbdab8|0.0       |0.0          |0.0            |0.0          |0.0          |0.0           |1.0      |0.0            |0.0           |0.0              |73ed72bc-efea-4cde-bf4c-3db6538453d9|8c3cb921-d1ca-4de2-810f-ec488603fcc1|73ed72bc-efea-4cde-bf4c-3db6538453d9|20230530   |Academy 6            |XXXXXX                  |XXXXXX     |SECONDARY            |73ed72bc-efea-4cde-bf4c-3db6538453d9|              |         |Active                 |                |5      |73ed72bc-efea-4cde-bf4c-3db6538453d9|Timothy     |XXXXXX            |XXXXXX           |Castillo   |XXXXXX          |FEMALE |None      |2000-01-01       |73ed72bc-efea-4cde-bf4c-3db6538453d9|8c3cb921-d1ca-4de2-810f-ec488603fcc1|8589937817|73ed72bc-efea-4cde-bf4c-3db6538453d9|White Other               |WOTW               |False            |Irish              |False                 |False                   |False                          |False           |False                       |N              |True                               |None                                      |None              |None                      |SINGLE REGISTRATION  |e9272879-cd2f-4253-8b44-5b3d82423c71|Y10            |10                  |2021-09-02 00:00:00.000000|nan              |1              |             |73ed72bc-efea-4cde-bf4c-3db6538453d9|8c3cb921-d1ca-4de2-810f-ec488603fcc1|73ed72bc-efea-4cde-bf4c-3db6538453d9|20230530  |30/05/2023 |5                   |2                      |2023W22                |22                    |22                   |9                                    |9                                   |5                     |150               |45075           |272                     |60                   |30                 |3                           |May         |May                     |Tuesday   |Tue                   |2                 |2022/2023      |9                     |40                         |Term 5        |2023           |2023-05-01 00:00:00 |2023-02-01 00:00:00|1                  |2                 |22                   |2023         |9             |3               |2023-09-01 00:00:00|2023Q03         |494             |20230530   |05/30/2023   |30/05/2023   |30/05/2023   |May 30 2023 |0               |N                  |Y           |N           |Y           |N                  |N               |N                  |2022/2023-09         |29/05/2023      |29/05/2023                  |w/c 29/05/2023       |24281               |271                       |\n",
      "|2023-11-23|/       |AM         |c82d5492-cf8d-4666-971d-4fb2296eda71|0.0       |1.0          |0.0            |0.0          |0.0          |0.0           |0.0      |1.0            |1.0           |0.0              |5ed661db-d767-4fd5-818d-91d7856bd3d9|328f6259-68c1-4414-b01d-ab76f8a46150|5ed661db-d767-4fd5-818d-91d7856bd3d9|20231123   |Academy 5            |XXXXXX                  |XXXXXX     |SECONDARY            |5ed661db-d767-4fd5-818d-91d7856bd3d9|              |         |Active                 |                |4      |5ed661db-d767-4fd5-818d-91d7856bd3d9|Isaac       |XXXXXX            |XXXXXX           |White      |XXXXXX          |MALE   |None      |2000-01-01       |5ed661db-d767-4fd5-818d-91d7856bd3d9|328f6259-68c1-4414-b01d-ab76f8a46150|2180      |5ed661db-d767-4fd5-818d-91d7856bd3d9|White - British           |WBRI               |False            |Sindhi             |False                 |False                   |False                          |False           |False                       |N              |False                              |None                                      |None              |None                      |SINGLE REGISTRATION  |3d6c9c60-5302-4f3e-8825-fb52bbf1a37e|11             |11                  |2020-09-02 00:00:00.000000|nan              |1              |             |5ed661db-d767-4fd5-818d-91d7856bd3d9|328f6259-68c1-4414-b01d-ab76f8a46150|5ed661db-d767-4fd5-818d-91d7856bd3d9|20231123  |23/11/2023 |11                  |2                      |2023W47                |47                    |47                   |8                                    |8                                   |4                     |327               |45252           |84                      |54                   |23                 |5                           |November    |Nov                     |Thursday  |Thu                   |4                 |2023/2024      |3                     |13                         |Term 2        |2023           |2023-11-01 00:00:00 |2023-04-01 00:00:00|2                  |4                 |47                   |2024         |3             |1               |2024-03-01 00:00:00|2024Q01         |496             |20231123   |11/23/2023   |23/11/2023   |23/11/2023   |Nov 23 2023 |0               |N                  |Y           |N           |N           |Y                  |Y               |Y                  |2023/2024-03         |20/11/2023      |20/11/2023                  |w/c 20/11/2023       |24287               |83                        |\n",
      "|2024-01-26|\\       |PM         |60a52e69-3a56-45e3-b7dc-d34453ab8630|0.0       |1.0          |0.0            |0.0          |0.0          |0.0           |0.0      |1.0            |1.0           |0.0              |5ed661db-d767-4fd5-818d-91d7856bd3d9|2b44bd4a-7215-4792-a515-32857a4042e8|5ed661db-d767-4fd5-818d-91d7856bd3d9|20240126   |Academy 5            |XXXXXX                  |XXXXXX     |SECONDARY            |5ed661db-d767-4fd5-818d-91d7856bd3d9|              |         |Active                 |                |4      |5ed661db-d767-4fd5-818d-91d7856bd3d9|Raymond     |XXXXXX            |XXXXXX           |Sanders    |XXXXXX          |FEMALE |None      |2000-01-01       |5ed661db-d767-4fd5-818d-91d7856bd3d9|2b44bd4a-7215-4792-a515-32857a4042e8|1861      |5ed661db-d767-4fd5-818d-91d7856bd3d9|White - British           |WBRI               |False            |Navajo             |False                 |False                   |False                          |False           |False                       |N              |False                              |None                                      |None              |None                      |SINGLE REGISTRATION  |3780c18c-e18f-4bcd-b74f-895cb8f91c9b|10             |10                  |2021-09-01 00:00:00.000000|nan              |1              |             |5ed661db-d767-4fd5-818d-91d7856bd3d9|2b44bd4a-7215-4792-a515-32857a4042e8|5ed661db-d767-4fd5-818d-91d7856bd3d9|20240126  |26/01/2024 |1                   |1                      |2024W04                |4                     |4                    |4                                    |4                                   |4                     |26                |45316           |148                     |26                   |26                 |6                           |January     |Jan                     |Friday    |Fri                   |5                 |2023/2024      |5                     |22                         |Term 3        |2024           |2024-01-01 00:00:00 |2024-01-01 00:00:00|1                  |1                 |4                    |2024         |5             |2               |2024-05-01 00:00:00|2024Q02         |497             |20240126   |01/26/2024   |26/01/2024   |26/01/2024   |Jan 26 2024 |0               |N                  |Y           |N           |Y           |N                  |N               |N                  |2023/2024-05         |22/01/2024      |22/01/2024                  |w/c 22/01/2024       |24289               |147                       |\n",
      "|2024-03-16|#       |PM         |19b937d4-6c63-4348-a9fa-2ff0ec274db5|0.0       |0.0          |0.0            |0.0          |0.0          |0.0           |1.0      |0.0            |0.0           |0.0              |73ed72bc-efea-4cde-bf4c-3db6538453d9|59966036-db7a-4f85-abb9-ce3d79c20312|73ed72bc-efea-4cde-bf4c-3db6538453d9|20240316   |Academy 6            |XXXXXX                  |XXXXXX     |SECONDARY            |73ed72bc-efea-4cde-bf4c-3db6538453d9|              |         |Active                 |                |5      |73ed72bc-efea-4cde-bf4c-3db6538453d9|Lisa        |XXXXXX            |XXXXXX           |Shepherd   |XXXXXX          |MALE   |None      |2000-01-01       |73ed72bc-efea-4cde-bf4c-3db6538453d9|59966036-db7a-4f85-abb9-ce3d79c20312|8589936685|73ed72bc-efea-4cde-bf4c-3db6538453d9|White - English           |WENG               |False            |Ndonga             |True                  |True                    |False                          |False           |True                        |N              |False                              |None                                      |None              |None                      |SINGLE REGISTRATION  |31de0cca-9112-46a2-a1c9-8787a5f086ee|Y10            |10                  |2021-09-02 00:00:00.000000|nan              |1              |             |73ed72bc-efea-4cde-bf4c-3db6538453d9|59966036-db7a-4f85-abb9-ce3d79c20312|73ed72bc-efea-4cde-bf4c-3db6538453d9|20240316  |16/03/2024 |3                   |3                      |2024W11                |11                    |11                   |11                                   |11                                  |3                     |76                |45366           |198                     |76                   |16                 |7                           |March       |Mar                     |Saturday  |Sat                   |6                 |2023/2024      |7                     |29                         |Term 4        |2024           |2024-03-01 00:00:00 |2024-01-01 00:00:00|1                  |1                 |11                   |2024         |7             |3               |2024-07-01 00:00:00|2024Q03         |497             |20240316   |03/16/2024   |16/03/2024   |16/03/2024   |Mar 16 2024 |0               |N                  |N           |Y           |N           |N                  |N               |N                  |2023/2024-07         |11/03/2024      |11/03/2024                  |w/c 11/03/2024       |24291               |197                       |\n",
      "|2024-05-22|\\       |PM         |b902e954-9e93-4699-b3a8-ed87b27ae354|0.0       |1.0          |0.0            |0.0          |0.0          |0.0           |0.0      |1.0            |1.0           |0.0              |5ce8e936-d2c9-4073-ae9e-40c529fc4e88|6f56a2e0-766c-488b-a305-8e524a461538|5ce8e936-d2c9-4073-ae9e-40c529fc4e88|20240522   |Academy 2            |XXXXXX                  |XXXXXX     |SECONDARY            |5ce8e936-d2c9-4073-ae9e-40c529fc4e88|              |         |Active                 |                |1      |5ce8e936-d2c9-4073-ae9e-40c529fc4e88|Felicia     |XXXXXX            |XXXXXX           |Vega       |XXXXXX          |MALE   |None      |2000-01-01       |5ce8e936-d2c9-4073-ae9e-40c529fc4e88|6f56a2e0-766c-488b-a305-8e524a461538|4834      |5ce8e936-d2c9-4073-ae9e-40c529fc4e88|White - British           |WBRI               |False            |Corsican           |False                 |False                   |False                          |False           |False                       |None           |False                              |None                                      |None              |None                      |SINGLE REGISTRATION  |b14e8b40-e401-4d55-bdfa-64bdf398ee82|10             |10                  |2021-09-01 00:00:00.000000|NULL             |1              |             |5ce8e936-d2c9-4073-ae9e-40c529fc4e88|6f56a2e0-766c-488b-a305-8e524a461538|5ce8e936-d2c9-4073-ae9e-40c529fc4e88|20240522  |22/05/2024 |5                   |2                      |2024W21                |21                    |21                   |8                                    |8                                   |4                     |143               |45433           |265                     |52                   |22                 |4                           |May         |May                     |Wednesday |Wed                   |3                 |2023/2024      |9                     |39                         |Term 5        |2024           |2024-05-01 00:00:00 |2024-02-01 00:00:00|1                  |2                 |21                   |2024         |9             |3               |2024-09-01 00:00:00|2024Q03         |498             |20240522   |05/22/2024   |22/05/2024   |22/05/2024   |May 22 2024 |0               |N                  |Y           |N           |Y           |N                  |N               |N                  |2023/2024-09         |20/05/2024      |20/05/2024                  |w/c 20/05/2024       |24293               |264                       |\n",
      "|2024-05-26|#       |PM         |f7813dca-57f6-4307-8bdb-cd87acccbbe5|0.0       |0.0          |0.0            |0.0          |0.0          |0.0           |1.0      |0.0            |0.0           |0.0              |5ed661db-d767-4fd5-818d-91d7856bd3d9|f50af990-481d-497b-9d72-e5a7f988dac8|5ed661db-d767-4fd5-818d-91d7856bd3d9|20240526   |Academy 5            |XXXXXX                  |XXXXXX     |SECONDARY            |5ed661db-d767-4fd5-818d-91d7856bd3d9|              |         |Active                 |                |4      |5ed661db-d767-4fd5-818d-91d7856bd3d9|Felicia     |XXXXXX            |XXXXXX           |Vega       |XXXXXX          |MALE   |None      |2000-01-01       |5ed661db-d767-4fd5-818d-91d7856bd3d9|f50af990-481d-497b-9d72-e5a7f988dac8|10623     |5ed661db-d767-4fd5-818d-91d7856bd3d9|White - British           |WBRI               |False            |Turkish            |False                 |False                   |False                          |False           |False                       |K              |False                              |None                                      |None              |None                      |SINGLE REGISTRATION  |24be37da-c819-4766-9de9-868c3a518faf|11             |11                  |2020-09-02 00:00:00.000000|nan              |1              |             |5ed661db-d767-4fd5-818d-91d7856bd3d9|f50af990-481d-497b-9d72-e5a7f988dac8|5ed661db-d767-4fd5-818d-91d7856bd3d9|20240526  |26/05/2024 |5                   |2                      |2024W21                |21                    |22                   |8                                    |9                                   |5                     |147               |45437           |269                     |56                   |26                 |1                           |May         |May                     |Sunday    |Sun                   |7                 |2023/2024      |9                     |39                         |Term 5        |2024           |2024-05-01 00:00:00 |2024-02-01 00:00:00|1                  |2                 |22                   |2024         |9             |3               |2024-09-01 00:00:00|2024Q03         |498             |20240526   |05/26/2024   |26/05/2024   |26/05/2024   |May 26 2024 |0               |N                  |N           |Y           |N           |N                  |N               |N                  |2023/2024-09         |20/05/2024      |20/05/2024                  |w/c 20/05/2024       |24293               |268                       |\n",
      "|2024-06-29|#       |AM         |19ca62a2-a1e3-4922-be48-8462872291b8|0.0       |0.0          |0.0            |0.0          |0.0          |0.0           |1.0      |0.0            |0.0           |0.0              |5ce8e936-d2c9-4073-ae9e-40c529fc4e88|13fd1794-691a-4006-81a5-f03ee17600c5|5ce8e936-d2c9-4073-ae9e-40c529fc4e88|20240629   |Academy 2            |XXXXXX                  |XXXXXX     |SECONDARY            |5ce8e936-d2c9-4073-ae9e-40c529fc4e88|              |         |Active                 |                |1      |5ce8e936-d2c9-4073-ae9e-40c529fc4e88|Christopher |XXXXXX            |XXXXXX           |Miller     |XXXXXX          |MALE   |None      |2000-01-01       |5ce8e936-d2c9-4073-ae9e-40c529fc4e88|13fd1794-691a-4006-81a5-f03ee17600c5|871       |5ce8e936-d2c9-4073-ae9e-40c529fc4e88|White and Black African   |MWBA               |False            |Icelandic          |True                  |True                    |False                          |False           |False                       |None           |False                              |None                                      |None              |None                      |SINGLE REGISTRATION  |1cb351c1-4db8-4ec9-a13a-5134002c4809|13             |13                  |2018-09-03 00:00:00.000000|NULL             |1              |             |5ce8e936-d2c9-4073-ae9e-40c529fc4e88|13fd1794-691a-4006-81a5-f03ee17600c5|5ce8e936-d2c9-4073-ae9e-40c529fc4e88|20240629  |29/06/2024 |6                   |3                      |2024W26                |26                    |26                   |13                                   |13                                  |5                     |181               |45471           |303                     |90                   |29                 |7                           |June        |Jun                     |Saturday  |Sat                   |6                 |2023/2024      |10                    |44                         |Term 6        |2024           |2024-06-01 00:00:00 |2024-02-01 00:00:00|1                  |2                 |26                   |2024         |10            |4               |2024-10-01 00:00:00|2024Q04         |498             |20240629   |06/29/2024   |29/06/2024   |29/06/2024   |Jun 29 2024 |0               |N                  |N           |Y           |N           |N                  |N               |N                  |2023/2024-10         |24/06/2024      |24/06/2024                  |w/c 24/06/2024       |24294               |302                       |\n",
      "+----------+--------+-----------+------------------------------------+----------+-------------+---------------+-------------+-------------+--------------+---------+---------------+--------------+-----------------+------------------------------------+------------------------------------+------------------------------------+-----------+---------------------+------------------------+-----------+---------------------+------------------------------------+--------------+---------+-----------------------+----------------+-------+------------------------------------+------------+------------------+-----------------+-----------+----------------+-------+----------+-----------------+------------------------------------+------------------------------------+----------+------------------------------------+--------------------------+-------------------+-----------------+-------------------+----------------------+------------------------+-------------------------------+----------------+----------------------------+---------------+-----------------------------------+------------------------------------------+------------------+--------------------------+---------------------+------------------------------------+---------------+--------------------+--------------------------+-----------------+---------------+-------------+------------------------------------+------------------------------------+------------------------------------+----------+-----------+--------------------+-----------------------+-----------------------+----------------------+---------------------+-------------------------------------+------------------------------------+----------------------+------------------+----------------+------------------------+---------------------+-------------------+----------------------------+------------+------------------------+----------+----------------------+------------------+---------------+----------------------+---------------------------+--------------+---------------+--------------------+-------------------+-------------------+------------------+---------------------+-------------+--------------+----------------+-------------------+----------------+----------------+-----------+-------------+-------------+-------------+------------+----------------+-------------------+------------+------------+------------+-------------------+----------------+-------------------+---------------------+----------------+----------------------------+---------------------+--------------------+--------------------------+\n",
      "only showing top 20 rows\n",
      "\n"
     ]
    }
   ],
   "source": [
    "from pyspark.sql import functions as F\n",
    "\n",
    "# 1. Alias DataFrames to reference them in the join condition and in the column selection \n",
    "df_att_aliased = df_attendancesessions_spark.alias(\"att\")\n",
    "df_org_aliased = df_organisation_spark.alias(\"org\")\n",
    "df_stu_aliased = df_student_spark.alias(\"stu\")\n",
    "df_stex_aliased = df_studentextended_spark.alias(\"stex\")\n",
    "df_date_aliased = df_date_spark.alias(\"dd\")\n",
    "\n",
    "# 2. Join them explicitly\n",
    "df_joined = (\n",
    "    df_att_aliased\n",
    "    .join(df_org_aliased, df_att_aliased[\"organisationkey\"] == df_org_aliased[\"organisationkey\"], \"left\")\n",
    "    .join(df_stu_aliased, df_att_aliased[\"studentkey\"] == df_stu_aliased[\"studentkey\"], \"left\")\n",
    "    .join(df_stex_aliased, df_att_aliased[\"studentkey\"] == df_stex_aliased[\"studentkey\"], \"left\")\n",
    "    .join(df_date_aliased, df_att_aliased[\"datekey\"] == df_date_aliased[\"DateKey\"], \"left\") #join the df_attendancesessions_spark with the df_date_spark\n",
    ")\n",
    "\n",
    "# 3. Programmatically build a list of columns to select\n",
    "#    Each column is referenced by alias + column name, and renamed with a prefix\n",
    "att_cols = [F.col(f\"att.{c}\").alias(f\"att_{c}\") for c in df_attendancesessions_spark.columns]\n",
    "org_cols = [F.col(f\"org.{c}\").alias(f\"org_{c}\") for c in df_organisation_spark.columns]\n",
    "stu_cols = [F.col(f\"stu.{c}\").alias(f\"stu_{c}\") for c in df_student_spark.columns]\n",
    "stex_cols = [F.col(f\"stex.{c}\").alias(f\"stex_{c}\") for c in df_studentextended_spark.columns]\n",
    "date_cols = [F.col(f\"dd.{c}\").alias(f\"dd_{c}\") for c in df_date_spark.columns]\n",
    "\n",
    "# Combine all these column lists\n",
    "all_cols = att_cols + org_cols + stu_cols + stex_cols + date_cols\n",
    "\n",
    "# 4. Select everything into a new DataFrame, with prefixed column names\n",
    "df_joined_renamed = df_joined.select(*all_cols)\n",
    "\n",
    "df_joined_renamed.show(truncate=False)\n"
   ]
  },
  {
   "cell_type": "markdown",
   "metadata": {},
   "source": [
    "Check: First row of dates match in all columns 2022-01-03, so I will use this date to calculate the week number."
   ]
  },
  {
   "cell_type": "code",
   "execution_count": 20,
   "metadata": {},
   "outputs": [
    {
     "data": {
      "text/plain": [
       "[('att_Date', 'string'),\n",
       " ('att_Mark', 'string'),\n",
       " ('att_Session', 'string'),\n",
       " ('att_attendancesessionkey', 'string'),\n",
       " ('att_is_aea', 'double'),\n",
       " ('att_is_attend', 'double'),\n",
       " ('att_is_auth_abs', 'double'),\n",
       " ('att_is_late_L', 'double'),\n",
       " ('att_is_late_U', 'double'),\n",
       " ('att_is_missing', 'double'),\n",
       " ('att_is_nr', 'double'),\n",
       " ('att_is_possible', 'double'),\n",
       " ('att_is_present', 'double'),\n",
       " ('att_is_unauth_abs', 'double'),\n",
       " ('att_organisationkey', 'string'),\n",
       " ('att_studentkey', 'string'),\n",
       " ('att_partitionkey', 'string'),\n",
       " ('att_datekey', 'int'),\n",
       " ('org_Organisation_Name', 'string'),\n",
       " ('org_Establishment_Number', 'string'),\n",
       " ('org_LA_Code', 'string'),\n",
       " ('org_Organisation_Type', 'string'),\n",
       " ('org_organisationkey', 'string'),\n",
       " ('org_addresskey', 'string'),\n",
       " ('org_UKPRN', 'string'),\n",
       " ('org_Organisation_Status', 'string'),\n",
       " ('org_last_updated', 'string'),\n",
       " ('org_URN', 'bigint'),\n",
       " ('org_partitionkey', 'string'),\n",
       " ('stu_Forename', 'string'),\n",
       " ('stu_Legal_Forename', 'string'),\n",
       " ('stu_Legal_Surname', 'string'),\n",
       " ('stu_Surname', 'string'),\n",
       " ('stu_Middle_Names', 'string'),\n",
       " ('stu_Sex', 'string'),\n",
       " ('stu_Gender', 'string'),\n",
       " ('stu_Date_Of_Birth', 'string'),\n",
       " ('stu_organisationkey', 'string'),\n",
       " ('stu_studentkey', 'string'),\n",
       " ('stu_UPN', 'bigint'),\n",
       " ('stu_partitionkey', 'string'),\n",
       " ('stex_Ethnicity', 'string'),\n",
       " ('stex_Ethnicity_Code', 'string'),\n",
       " ('stex_Ever_In_Care', 'string'),\n",
       " ('stex_First_Language', 'string'),\n",
       " ('stex_Free_School_Meals', 'string'),\n",
       " ('stex_Free_School_Meals_6', 'string'),\n",
       " ('stex_Gifted_And_Talented_Status', 'string'),\n",
       " ('stex_In_LEA_Care', 'string'),\n",
       " ('stex_Pupil_Premium_Indicator', 'string'),\n",
       " ('stex_SEN_Status', 'string'),\n",
       " ('stex_English_As_Additional_Language', 'string'),\n",
       " ('stex_English_As_Additional_Language_Status', 'string'),\n",
       " ('stex_Child_In_Need', 'string'),\n",
       " ('stex_Child_Protection_Plan', 'string'),\n",
       " ('stex_Enrolment_Status', 'string'),\n",
       " ('stex_studentextendedkey', 'string'),\n",
       " ('stex_Year_Group', 'string'),\n",
       " ('stex_Current_NC_Year', 'string'),\n",
       " ('stex_Admission_Date', 'string'),\n",
       " ('stex_Leaving_Date', 'string'),\n",
       " ('stex_Is_Current', 'string'),\n",
       " ('stex_Postcode', 'string'),\n",
       " ('stex_organisationkey', 'string'),\n",
       " ('stex_studentkey', 'string'),\n",
       " ('stex_partitionkey', 'string'),\n",
       " ('dd_DateKey', 'int'),\n",
       " ('dd_FullDate', 'string'),\n",
       " ('dd_MonthNumberOfYear', 'int'),\n",
       " ('dd_MonthNumberOfQuarter', 'int'),\n",
       " ('dd_ISOYearAndWeekNumber', 'string'),\n",
       " ('dd_ISOWeekNumberOfYear', 'int'),\n",
       " ('dd_SSWeekNumberOfYear', 'int'),\n",
       " ('dd_ISOWeekNumberOfQuarter_454_Pattern', 'int'),\n",
       " ('dd_SSWeekNumberOfQuarter_454_Pattern', 'int'),\n",
       " ('dd_SSWeekNumberOfMonth', 'int'),\n",
       " ('dd_DayNumberOfYear', 'int'),\n",
       " ('dd_DaysSince1900', 'int'),\n",
       " ('dd_DayNumberOfFiscalYear', 'int'),\n",
       " ('dd_DayNumberOfQuarter', 'int'),\n",
       " ('dd_DayNumberOfMonth', 'int'),\n",
       " ('dd_DayNumberOfWeek_Sun_Start', 'int'),\n",
       " ('dd_MonthName', 'string'),\n",
       " ('dd_MonthNameAbbreviation', 'string'),\n",
       " ('dd_DayName', 'string'),\n",
       " ('dd_DayNameAbbreviation', 'string'),\n",
       " ('dd_DayNumberOfWeek', 'int'),\n",
       " ('dd_AcademicYear', 'string'),\n",
       " ('dd_AcademicMonthNumber', 'int'),\n",
       " ('dd_AcademicWeekNumberOfYear', 'int'),\n",
       " ('dd_TermSession', 'string'),\n",
       " ('dd_CalendarYear', 'int'),\n",
       " ('dd_CalendarYearMonth', 'timestamp'),\n",
       " ('dd_CalendarYearQtr', 'timestamp'),\n",
       " ('dd_CalendarSemester', 'int'),\n",
       " ('dd_CalendarQuarter', 'int'),\n",
       " ('dd_CalendarWeekNumber', 'int'),\n",
       " ('dd_FiscalYear', 'int'),\n",
       " ('dd_FiscalMonth', 'int'),\n",
       " ('dd_FiscalQuarter', 'int'),\n",
       " ('dd_FiscalYearMonth', 'timestamp'),\n",
       " ('dd_FiscalYearQtr', 'string'),\n",
       " ('dd_QuarterNumber', 'int'),\n",
       " ('dd_YYYYMMDD', 'int'),\n",
       " ('dd_MM/DD/YYYY', 'string'),\n",
       " ('dd_YYYY/MM/DD', 'string'),\n",
       " ('dd_YYYY-MM-DD', 'string'),\n",
       " ('dd_MonDDYYYY', 'string'),\n",
       " ('dd_IsCurrentYear', 'int'),\n",
       " ('dd_IsLastDayOfMonth', 'string'),\n",
       " ('dd_IsWeekday', 'string'),\n",
       " ('dd_IsWeekend', 'string'),\n",
       " ('dd_IsWorkday', 'string'),\n",
       " ('dd_IsFederalHoliday', 'string'),\n",
       " ('dd_IsBankHoliday', 'string'),\n",
       " ('dd_IsCompanyHoliday', 'string'),\n",
       " ('dd_AcademicYearPeriod', 'string'),\n",
       " ('dd_WeekStartDate', 'string'),\n",
       " ('dd_WeekCommencing DD/MM/YYYY', 'string'),\n",
       " ('dd_WeekCommencingName', 'string'),\n",
       " ('dd_Year Month Number', 'int'),\n",
       " ('dd_DayNumberofAcademicYear', 'int')]"
      ]
     },
     "execution_count": 20,
     "metadata": {},
     "output_type": "execute_result"
    }
   ],
   "source": [
    "#check the data types of the columns\n",
    "df_joined_renamed.dtypes "
   ]
  },
  {
   "cell_type": "code",
   "execution_count": 21,
   "metadata": {},
   "outputs": [
    {
     "name": "stdout",
     "output_type": "stream",
     "text": [
      "Total rows: 16311626\n"
     ]
    }
   ],
   "source": [
    "\n",
    "\n",
    "total_rows = df_joined_renamed.count()\n",
    "print(f\"Total rows: {total_rows}\")     "
   ]
  },
  {
   "cell_type": "code",
   "execution_count": 22,
   "metadata": {},
   "outputs": [
    {
     "name": "stdout",
     "output_type": "stream",
     "text": [
      "Number of columns: 122\n"
     ]
    }
   ],
   "source": [
    "column_count = len(df_joined_renamed.columns)\n",
    "print(f\"Number of columns: {column_count}\")\n"
   ]
  },
  {
   "cell_type": "markdown",
   "metadata": {},
   "source": [
    "\n",
    "The following is a list of columns that can potentially be useful when creating an attendance report. I have consulted the **Department for Education (DfE)** for definitions, as they use specific data fields to collect and manage information related to students and educational establishments. This can also be used to determine a suitable alias for each field. Below is an explanation of each field in the dataset:\n",
    "\n",
    "1. **student_sex**: Indicates the student's gender, typically recorded as 'M' for male or 'F' for female.  \n",
    "2. **student_forename**: The student's first name.  \n",
    "3. **organisation_type**: Specifies the type of educational establishment, such as 'Academy', 'Community School', 'Free School', etc.  \n",
    "4. **organisation_name**: The official name of the educational establishment.  \n",
    "5. **establishment_number**: A unique 4-digit number assigned to each educational establishment by the DfE. This number, combined with the local authority number, forms the DfE number used to identify schools.  \n",
    "6. **la_code**: The Local Authority code, a 3-digit number representing the local authority responsible for the educational establishment. This code, combined with the establishment number, forms the DfE number.  \n",
    "7. **attendance_date**: The specific date for which a student's attendance is recorded.  \n",
    "8. **mark**: The attendance code indicating a student's presence or type of absence for a particular session. The DfE provides a set of standardised attendance codes to describe pupil attendance and absence.  \n",
    "9. **session**: Denotes whether the attendance record pertains to the morning (AM) or afternoon (PM) session of the school day.  \n",
    "10. **is_aea**: Indicates whether the session is an Approved Educational Activity (AEA), meaning the student is off-site but engaged in supervised educational activities approved by the school.  \n",
    "11. **is_attend**: Specifies if the student attended the session.  \n",
    "12. **is_auth_abs**: Indicates if the student's absence for the session was authorised by the school.  \n",
    "13. **is_late_L**: Shows if the student arrived late to the session but before the register closed, typically marked with code 'L'.  \n",
    "14. **is_late_U**: Indicates if the student arrived after the register closed, usually marked with code 'U', which can denote an unauthorised absence.  \n",
    "15. **is_missing**: Denotes if the attendance data for the session is missing or not recorded.  \n",
    "16. **is_nr**: Indicates 'No Reason' provided for absence, showing that no explanation has been given for the student's absence.  \n",
    "17. **is_possible**: Specifies if the session was a possible attendance session for the student, meaning they were expected to attend.  \n",
    "18. **is_present**: Indicates if the student was present during the session.  \n",
    "19. **is_unauth_abs**: Shows if the student's absence was unauthorised.  \n",
    "20. **UPN**: Unique Pupil Number, a 13-character identifier assigned to each student in England to track their educational progress.  \n",
    "21. **academic_year**: The academic year to which the data pertains, typically spanning from September of one year to August of the next (e.g., 2024/2025).  \n",
    "22. **week_number**: The specific week of the academic year, often numbered from 1 onwards, starting from the beginning of the school year.  \n",
    "23. **term_session**: Indicates the term (e.g., Autumn, Spring, Summer) and the specific session within that term.  \n",
    "\n"
   ]
  },
  {
   "cell_type": "code",
   "execution_count": 23,
   "metadata": {},
   "outputs": [
    {
     "name": "stdout",
     "output_type": "stream",
     "text": [
      "+------+----------------+---------------+-------------+----------+-------+-----------+---------+--------------------+-------+---------------+-------------+--------------------+------+--------------+----+-------+--------------------------------+---------+-----------+----+-----------------+-------+---------+-----------+----------+-------------+---------------+------------+----+\n",
      "|gender|student_forename|student_surname|pupil_premium|year_group|nc_year|school_type|school   |establishment_number|la_code|attendance_date|academic_year|academic_week_number|term  |weekcommencing|mark|session|is_approved_educational_activity|is_attend|is_auth_abs|late|late_unauthorised|missing|no_reason|is_possible|is_present|is_unauth_abs|current_student|leaving_date|UPN |\n",
      "+------+----------------+---------------+-------------+----------+-------+-----------+---------+--------------------+-------+---------------+-------------+--------------------+------+--------------+----+-------+--------------------------------+---------+-----------+----+-----------------+-------+---------+-----------+----------+-------------+---------------+------------+----+\n",
      "|FEMALE|Theresa         |Hester         |False        |8         |8      |SECONDARY  |Academy 4|XXXXXX              |XXXXXX |2023-11-13     |2023/2024    |12                  |Term 2|w/c 13/11/2023|/   |AM     |0.0                             |1.0      |0.0        |0.0 |0.0              |0.0    |0.0      |1.0        |1.0       |0.0          |1              |NULL        |3579|\n",
      "|MALE  |Daniel          |Garcia         |False        |9         |9      |SECONDARY  |Academy 4|XXXXXX              |XXXXXX |2023-09-19     |2023/2024    |4                   |Term 1|w/c 18/09/2023|\\   |PM     |0.0                             |1.0      |0.0        |0.0 |0.0              |0.0    |0.0      |1.0        |1.0       |0.0          |1              |NULL        |4886|\n",
      "|MALE  |Alicia          |Fox            |True         |7         |7      |SECONDARY  |Academy 4|XXXXXX              |XXXXXX |2024-09-12     |2024/2025    |2                   |Term 1|w/c 09/09/2024|/   |AM     |0.0                             |1.0      |0.0        |0.0 |0.0              |0.0    |0.0      |1.0        |1.0       |0.0          |1              |NULL        |166 |\n",
      "|MALE  |David           |Martinez       |False        |8         |8      |SECONDARY  |Academy 4|XXXXXX              |XXXXXX |2024-08-11     |2024/2025    |50                  |Term 6|w/c 05/08/2024|#   |PM     |0.0                             |0.0      |0.0        |0.0 |0.0              |0.0    |1.0      |0.0        |0.0       |0.0          |1              |NULL        |1235|\n",
      "|MALE  |Stacy           |Avery          |False        |9         |9      |SECONDARY  |Academy 4|XXXXXX              |XXXXXX |2024-11-15     |2024/2025    |11                  |Term 2|w/c 11/11/2024|\\   |PM     |0.0                             |1.0      |0.0        |0.0 |0.0              |0.0    |0.0      |1.0        |1.0       |0.0          |1              |NULL        |9728|\n",
      "|FEMALE|Brett           |Williams       |True         |11        |11     |SECONDARY  |Academy 4|XXXXXX              |XXXXXX |2024-10-09     |2024/2025    |6                   |Term 1|w/c 07/10/2024|G   |PM     |0.0                             |0.0      |0.0        |0.0 |0.0              |0.0    |0.0      |1.0        |0.0       |1.0          |1              |NULL        |7267|\n",
      "|FEMALE|Brett           |Williams       |True         |11        |11     |SECONDARY  |Academy 4|XXXXXX              |XXXXXX |2024-09-29     |2024/2025    |4                   |Term 1|w/c 23/09/2024|#   |AM     |0.0                             |0.0      |0.0        |0.0 |0.0              |0.0    |1.0      |0.0        |0.0       |0.0          |1              |NULL        |7267|\n",
      "|FEMALE|Theresa         |Hester         |False        |8         |8      |SECONDARY  |Academy 4|XXXXXX              |XXXXXX |2024-08-21     |2024/2025    |52                  |Term 6|w/c 19/08/2024|#   |PM     |0.0                             |0.0      |0.0        |0.0 |0.0              |0.0    |1.0      |0.0        |0.0       |0.0          |1              |NULL        |3579|\n",
      "|MALE  |Stacy           |Avery          |False        |9         |9      |SECONDARY  |Academy 4|XXXXXX              |XXXXXX |2024-11-09     |2024/2025    |10                  |Term 2|w/c 04/11/2024|#   |PM     |0.0                             |0.0      |0.0        |0.0 |0.0              |0.0    |1.0      |0.0        |0.0       |0.0          |1              |NULL        |9728|\n",
      "|MALE  |Daniel          |Garcia         |False        |9         |9      |SECONDARY  |Academy 4|XXXXXX              |XXXXXX |2024-08-27     |2024/2025    |53                  |Term 6|w/c 26/08/2024|#   |PM     |0.0                             |0.0      |0.0        |0.0 |0.0              |0.0    |1.0      |0.0        |0.0       |0.0          |1              |NULL        |4886|\n",
      "|MALE  |Daniel          |Garcia         |False        |9         |9      |SECONDARY  |Academy 4|XXXXXX              |XXXXXX |2024-11-27     |2024/2025    |13                  |Term 2|w/c 25/11/2024|\\   |PM     |0.0                             |1.0      |0.0        |0.0 |0.0              |0.0    |0.0      |1.0        |1.0       |0.0          |1              |NULL        |4886|\n",
      "|FEMALE|Theresa         |Hester         |False        |8         |8      |SECONDARY  |Academy 4|XXXXXX              |XXXXXX |2024-11-05     |2024/2025    |10                  |Term 2|w/c 04/11/2024|\\   |PM     |0.0                             |1.0      |0.0        |0.0 |0.0              |0.0    |0.0      |1.0        |1.0       |0.0          |1              |NULL        |3579|\n",
      "|FEMALE|Brett           |Williams       |True         |11        |11     |SECONDARY  |Academy 4|XXXXXX              |XXXXXX |2024-10-20     |2024/2025    |7                   |Term 1|w/c 14/10/2024|#   |PM     |0.0                             |0.0      |0.0        |0.0 |0.0              |0.0    |1.0      |0.0        |0.0       |0.0          |1              |NULL        |7267|\n",
      "|MALE  |Daniel          |Garcia         |False        |9         |9      |SECONDARY  |Academy 4|XXXXXX              |XXXXXX |2024-12-01     |2024/2025    |13                  |Term 2|w/c 25/11/2024|#   |PM     |0.0                             |0.0      |0.0        |0.0 |0.0              |0.0    |1.0      |0.0        |0.0       |0.0          |1              |NULL        |4886|\n",
      "|FEMALE|Theresa         |Hester         |False        |8         |8      |SECONDARY  |Academy 4|XXXXXX              |XXXXXX |2024-12-05     |2024/2025    |14                  |Term 2|w/c 02/12/2024|\\   |PM     |0.0                             |1.0      |0.0        |0.0 |0.0              |0.0    |0.0      |1.0        |1.0       |0.0          |1              |NULL        |3579|\n",
      "|MALE  |Daniel          |Garcia         |False        |9         |9      |SECONDARY  |Academy 4|XXXXXX              |XXXXXX |2024-11-21     |2024/2025    |12                  |Term 2|w/c 18/11/2024|/   |AM     |0.0                             |1.0      |0.0        |0.0 |0.0              |0.0    |0.0      |1.0        |1.0       |0.0          |1              |NULL        |4886|\n",
      "|FEMALE|Theresa         |Hester         |False        |8         |8      |SECONDARY  |Academy 4|XXXXXX              |XXXXXX |2024-10-09     |2024/2025    |6                   |Term 1|w/c 07/10/2024|\\   |PM     |0.0                             |1.0      |0.0        |0.0 |0.0              |0.0    |0.0      |1.0        |1.0       |0.0          |1              |NULL        |3579|\n",
      "|MALE  |David           |Martinez       |False        |8         |8      |SECONDARY  |Academy 4|XXXXXX              |XXXXXX |2024-10-23     |2024/2025    |8                   |Term 1|w/c 21/10/2024|#   |PM     |0.0                             |0.0      |0.0        |0.0 |0.0              |0.0    |1.0      |0.0        |0.0       |0.0          |1              |NULL        |1235|\n",
      "|FEMALE|Theresa         |Hester         |False        |8         |8      |SECONDARY  |Academy 4|XXXXXX              |XXXXXX |2024-11-07     |2024/2025    |10                  |Term 2|w/c 04/11/2024|/   |AM     |0.0                             |1.0      |0.0        |0.0 |0.0              |0.0    |0.0      |1.0        |1.0       |0.0          |1              |NULL        |3579|\n",
      "|MALE  |David           |Martinez       |False        |8         |8      |SECONDARY  |Academy 4|XXXXXX              |XXXXXX |2024-12-04     |2024/2025    |14                  |Term 2|w/c 02/12/2024|\\   |PM     |0.0                             |1.0      |0.0        |0.0 |0.0              |0.0    |0.0      |1.0        |1.0       |0.0          |1              |NULL        |1235|\n",
      "+------+----------------+---------------+-------------+----------+-------+-----------+---------+--------------------+-------+---------------+-------------+--------------------+------+--------------+----+-------+--------------------------------+---------+-----------+----+-----------------+-------+---------+-----------+----------+-------------+---------------+------------+----+\n",
      "only showing top 20 rows\n",
      "\n"
     ]
    }
   ],
   "source": [
    "from pyspark.sql import functions as F\n",
    "\n",
    "df_selected = (\n",
    "    df_joined_renamed\n",
    "    .select(\n",
    "        # --- Student details & school info ---\n",
    "        F.col(\"stu_Sex\").alias(\"gender\"),\n",
    "        F.col(\"stu_Forename\").alias(\"student_forename\"),\n",
    "        F.col(\"stu_Surname\").alias(\"student_surname\"),\n",
    "        F.col(\"stex_Pupil_Premium_Indicator\").alias(\"pupil_premium\"),\n",
    "        F.col(\"stex_Year_Group\").alias(\"year_group\"),\n",
    "        F.col(\"stex_Current_NC_Year\").alias(\"nc_year\"),\n",
    "        F.col(\"org_Organisation_Type\").alias(\"school_type\"),\n",
    "        F.col(\"org_Organisation_Name\").alias(\"school\"),\n",
    "        F.col(\"org_Establishment_Number\").alias(\"establishment_number\"),\n",
    "        F.col(\"org_LA_Code\").alias(\"la_code\"),\n",
    "\n",
    "        # --- Dates ---\n",
    "        F.col(\"att_Date\").alias(\"attendance_date\"),\n",
    "        F.col(\"dd_AcademicYear\").alias(\"academic_year\"),\n",
    "        F.col(\"dd_AcademicWeekNumberOfYear\").alias(\"academic_week_number\"),\n",
    "        F.col(\"dd_TermSession\").alias(\"term\"),\n",
    "        # Replace below if \"weekcommencingdate\" doesn't exist. \n",
    "        # For example, use \"dd_WeekStartDate\" or \"dd_WeekCommencing DD/MM/YYYY\" from your schema.\n",
    "        F.col(\"dd_WeekCommencingName\").alias(\"weekcommencing\"),\n",
    "\n",
    "        # --- Attendance fields ---\n",
    "        F.col(\"att_Mark\").alias(\"mark\"),\n",
    "        F.col(\"att_Session\").alias(\"session\"),\n",
    "        # Use a valid alias for 'att_is_aea' (spaces in column names can cause issues)\n",
    "        F.col(\"att_is_aea\").alias(\"is_approved_educational_activity\"),\n",
    "        F.col(\"att_is_attend\").alias(\"is_attend\"),\n",
    "        F.col(\"att_is_auth_abs\").alias(\"is_auth_abs\"),\n",
    "        F.col(\"att_is_late_L\").alias(\"late\"),\n",
    "        F.col(\"att_is_late_U\").alias(\"late_unauthorised\"),\n",
    "        F.col(\"att_is_missing\").alias(\"missing\"),\n",
    "        F.col(\"att_is_nr\").alias(\"no_reason\"),\n",
    "        F.col(\"att_is_possible\").alias(\"is_possible\"),\n",
    "        F.col(\"att_is_present\").alias(\"is_present\"),\n",
    "        F.col(\"att_is_unauth_abs\").alias(\"is_unauth_abs\"),\n",
    "\n",
    "        # --- Current student info ---\n",
    "        F.col(\"stex_Is_Current\").alias(\"current_student\"),\n",
    "        F.col(\"stex_Leaving_Date\").alias(\"leaving_date\"),\n",
    "        F.col(\"stu_UPN\").alias(\"UPN\")\n",
    "    )\n",
    ")\n",
    "\n",
    "df_selected.show(truncate=False)\n"
   ]
  },
  {
   "cell_type": "markdown",
   "metadata": {},
   "source": [
    "#### 5. Inspect Distinct Values"
   ]
  },
  {
   "cell_type": "markdown",
   "metadata": {},
   "source": [
    "Begin by looking at year group as it is a key field needed in the summary table."
   ]
  },
  {
   "cell_type": "code",
   "execution_count": 24,
   "metadata": {},
   "outputs": [
    {
     "name": "stdout",
     "output_type": "stream",
     "text": [
      "+----------+\n",
      "|year_group|\n",
      "+----------+\n",
      "|         7|\n",
      "|        11|\n",
      "|         8|\n",
      "|         9|\n",
      "|        10|\n",
      "|        12|\n",
      "|        13|\n",
      "|         3|\n",
      "|         5|\n",
      "| Nursery 2|\n",
      "|         6|\n",
      "|         R|\n",
      "| Nursery 1|\n",
      "|         1|\n",
      "|         4|\n",
      "|         2|\n",
      "|   Year 13|\n",
      "|       Y10|\n",
      "|       Y08|\n",
      "|       Y07|\n",
      "+----------+\n",
      "only showing top 20 rows\n",
      "\n"
     ]
    }
   ],
   "source": [
    "df_selected.select(\"year_group\").distinct().show()"
   ]
  },
  {
   "cell_type": "markdown",
   "metadata": {},
   "source": [
    "Using these values with skew the data, as Y07, 7 point to the same year group. "
   ]
  },
  {
   "cell_type": "code",
   "execution_count": 25,
   "metadata": {},
   "outputs": [
    {
     "name": "stdout",
     "output_type": "stream",
     "text": [
      "Number of distinct values in 'year_group_tidy': 18\n",
      "+---------------+\n",
      "|year_group_tidy|\n",
      "+---------------+\n",
      "|Y10            |\n",
      "|Y12            |\n",
      "|Y11            |\n",
      "|Y13            |\n",
      "|Y8             |\n",
      "|Y7             |\n",
      "|Y9             |\n",
      "|Y6             |\n",
      "|Y2             |\n",
      "|Reception      |\n",
      "|Y4             |\n",
      "|Y3             |\n",
      "|Y1             |\n",
      "|N2             |\n",
      "|N1             |\n",
      "|Y5             |\n",
      "|Y14            |\n",
      "|NULL           |\n",
      "+---------------+\n",
      "\n"
     ]
    }
   ],
   "source": [
    "df_tidy = (\n",
    "    df_selected\n",
    "    .withColumn(\n",
    "        \"year_group_tidy\",\n",
    "        F.when(\n",
    "            F.col(\"year_group\").isin(\"Nursery 1\", \"Nursery 2\"),\n",
    "            F.regexp_replace(\"year_group\", \"Nursery \", \"N\")\n",
    "        )\n",
    "        .when(\n",
    "            F.col(\"year_group\") == \"R\",\n",
    "            F.lit(\"Reception\")\n",
    "        )\n",
    "        .when(\n",
    "            F.col(\"year_group\") == \"Year 13\",\n",
    "            F.lit(\"Y13\")\n",
    "        )\n",
    "        .when(\n",
    "            F.col(\"year_group\").rlike(\"^[0-9]+$\"),\n",
    "            F.concat(F.lit(\"Y\"), F.col(\"year_group\").cast(\"int\"))\n",
    "        )\n",
    "        .when(\n",
    "            F.col(\"year_group\").rlike(\"^Y[0-9]{1,2}$\"),\n",
    "            F.concat(F.lit(\"Y\"), F.regexp_replace(\"year_group\", \"^[Yy]\", \"\").cast(\"int\"))\n",
    "        )\n",
    "        .otherwise(F.col(\"year_group\"))\n",
    "    )\n",
    ")\n",
    "\n",
    "# Get distinct values\n",
    "distinct_vals = df_tidy.select(\"year_group_tidy\").distinct()\n",
    "count_distinct = distinct_vals.count()\n",
    "\n",
    "print(f\"Number of distinct values in 'year_group_tidy': {count_distinct}\")\n",
    "distinct_vals.show(truncate=False)\n"
   ]
  },
  {
   "cell_type": "code",
   "execution_count": 26,
   "metadata": {},
   "outputs": [
    {
     "name": "stdout",
     "output_type": "stream",
     "text": [
      "DataFrame has 16311626 rows and 1 columns.\n",
      "\n",
      "Column                             Null  EmptyStr  NA/NaNStr  NumericNaN  TotalMissing  %Missing\n",
      "----------------------------------------------------------------------\n",
      "year_group_tidy                   43632         0         0           0        43632      0.27%\n"
     ]
    }
   ],
   "source": [
    "show_df_missing_breakdown(df_tidy.select(\"year_group_tidy\"))"
   ]
  },
  {
   "cell_type": "code",
   "execution_count": 27,
   "metadata": {},
   "outputs": [
    {
     "name": "stdout",
     "output_type": "stream",
     "text": [
      "+---------------+-------+\n",
      "|year_group_tidy|  count|\n",
      "+---------------+-------+\n",
      "|            Y10|3986310|\n",
      "|           NULL|  43632|\n",
      "|            Y12| 789139|\n",
      "|            Y11|4008659|\n",
      "|            Y13| 811876|\n",
      "|             Y8|1919106|\n",
      "|             Y7| 581063|\n",
      "|             Y9|3226089|\n",
      "|             Y6| 188560|\n",
      "|             Y2| 104254|\n",
      "|      Reception|  35382|\n",
      "|             Y4| 160217|\n",
      "|             Y3| 154381|\n",
      "|             Y1|  80604|\n",
      "|             N2|  13913|\n",
      "|             N1|   1466|\n",
      "|             Y5| 197483|\n",
      "|            Y14|   9492|\n",
      "+---------------+-------+\n",
      "\n"
     ]
    }
   ],
   "source": [
    "#make a count of the number of students in each year group\n",
    "df_tidy.groupBy(\"year_group_tidy\").count().show()   "
   ]
  },
  {
   "cell_type": "code",
   "execution_count": 28,
   "metadata": {},
   "outputs": [
    {
     "name": "stdout",
     "output_type": "stream",
     "text": [
      "+-------+\n",
      "|nc_year|\n",
      "+-------+\n",
      "|      7|\n",
      "|     11|\n",
      "|      8|\n",
      "|      9|\n",
      "|     10|\n",
      "|     12|\n",
      "|     13|\n",
      "|      3|\n",
      "|      5|\n",
      "|      6|\n",
      "|      R|\n",
      "|      1|\n",
      "|     N2|\n",
      "|      4|\n",
      "|     N1|\n",
      "|      2|\n",
      "+-------+\n",
      "\n"
     ]
    }
   ],
   "source": [
    "df_selected.select(\"nc_year\").distinct().show()"
   ]
  },
  {
   "cell_type": "code",
   "execution_count": 29,
   "metadata": {},
   "outputs": [
    {
     "name": "stdout",
     "output_type": "stream",
     "text": [
      "+-------+-------+\n",
      "|nc_year|  count|\n",
      "+-------+-------+\n",
      "|      7| 588774|\n",
      "|     11|4017479|\n",
      "|      8|1924729|\n",
      "|      9|3235343|\n",
      "|     10|3994364|\n",
      "|     12| 789109|\n",
      "|     13| 824412|\n",
      "|      3| 154541|\n",
      "|      5| 197939|\n",
      "|      6| 188708|\n",
      "|      R|  35382|\n",
      "|      1|  80604|\n",
      "|     N2|  13989|\n",
      "|      4| 160533|\n",
      "|     N1|   1466|\n",
      "|      2| 104254|\n",
      "+-------+-------+\n",
      "\n"
     ]
    }
   ],
   "source": [
    "#count the number of students in each NC year\n",
    "df_selected.groupBy(\"nc_year\").count().show()"
   ]
  },
  {
   "cell_type": "code",
   "execution_count": 30,
   "metadata": {},
   "outputs": [
    {
     "name": "stdout",
     "output_type": "stream",
     "text": [
      "DataFrame has 16311626 rows and 1 columns.\n",
      "\n",
      "Column                             Null  EmptyStr  NA/NaNStr  NumericNaN  TotalMissing  %Missing\n",
      "----------------------------------------------------------------------\n",
      "nc_year                               0         0         0           0            0      0.00%\n"
     ]
    }
   ],
   "source": [
    "show_df_missing_breakdown(df_selected.select(\"nc_year\"))"
   ]
  },
  {
   "cell_type": "markdown",
   "metadata": {},
   "source": [
    "The **National Curriculum Year** is the most accurate representation of the year group, as it is based on the student's age. It is also less prone to errors, as it is not manually entered like the **year group** field. Additionally, there are no missing values in the **National Curriculum Year** field. Therefore, I will use this field instead of the **year group** field."
   ]
  },
  {
   "cell_type": "code",
   "execution_count": 31,
   "metadata": {},
   "outputs": [
    {
     "name": "stdout",
     "output_type": "stream",
     "text": [
      "Column                             Approx Distinct Count\n",
      "------------------------------------------------------------\n",
      "weekcommencing                     183\n",
      "leaving_date                       74\n",
      "academic_week_number               54\n",
      "mark                               49\n",
      "year_group                         31\n",
      "nc_year                            16\n",
      "school                             9\n",
      "term                               6\n",
      "academic_year                      5\n",
      "gender                             2\n",
      "pupil_premium                      2\n",
      "school_type                        2\n",
      "session                            2\n",
      "is_approved_educational_activity   2\n",
      "is_attend                          2\n",
      "is_auth_abs                        2\n",
      "late                               2\n",
      "late_unauthorised                  2\n",
      "missing                            2\n",
      "no_reason                          2\n",
      "\n",
      "All Column Approx Distinct Counts (showing top_n only):\n"
     ]
    },
    {
     "ename": "Py4JJavaError",
     "evalue": "An error occurred while calling o4093.showString.\n: org.apache.spark.SparkException: Job aborted due to stage failure: Task 0 in stage 138.0 failed 1 times, most recent failure: Lost task 0.0 in stage 138.0 (TID 303) (Saqib executor driver): java.net.SocketException: Connection reset\r\n\tat java.net.SocketInputStream.read(Unknown Source)\r\n\tat java.net.SocketInputStream.read(Unknown Source)\r\n\tat java.io.BufferedInputStream.fill(Unknown Source)\r\n\tat java.io.BufferedInputStream.read(Unknown Source)\r\n\tat java.io.DataInputStream.readInt(Unknown Source)\r\n\tat org.apache.spark.api.python.PythonRunner$$anon$3.read(PythonRunner.scala:774)\r\n\tat org.apache.spark.api.python.PythonRunner$$anon$3.read(PythonRunner.scala:766)\r\n\tat org.apache.spark.api.python.BasePythonRunner$ReaderIterator.hasNext(PythonRunner.scala:525)\r\n\tat org.apache.spark.InterruptibleIterator.hasNext(InterruptibleIterator.scala:37)\r\n\tat scala.collection.Iterator$$anon$11.hasNext(Iterator.scala:491)\r\n\tat scala.collection.Iterator$$anon$10.hasNext(Iterator.scala:460)\r\n\tat scala.collection.Iterator$$anon$10.hasNext(Iterator.scala:460)\r\n\tat org.apache.spark.sql.catalyst.expressions.GeneratedClass$GeneratedIteratorForCodegenStage1.processNext(Unknown Source)\r\n\tat org.apache.spark.sql.execution.BufferedRowIterator.hasNext(BufferedRowIterator.java:43)\r\n\tat org.apache.spark.sql.execution.WholeStageCodegenEvaluatorFactory$WholeStageCodegenPartitionEvaluator$$anon$1.hasNext(WholeStageCodegenEvaluatorFactory.scala:43)\r\n\tat org.apache.spark.sql.execution.SparkPlan.$anonfun$getByteArrayRdd$1(SparkPlan.scala:388)\r\n\tat org.apache.spark.rdd.RDD.$anonfun$mapPartitionsInternal$2(RDD.scala:893)\r\n\tat org.apache.spark.rdd.RDD.$anonfun$mapPartitionsInternal$2$adapted(RDD.scala:893)\r\n\tat org.apache.spark.rdd.MapPartitionsRDD.compute(MapPartitionsRDD.scala:52)\r\n\tat org.apache.spark.rdd.RDD.computeOrReadCheckpoint(RDD.scala:367)\r\n\tat org.apache.spark.rdd.RDD.iterator(RDD.scala:331)\r\n\tat org.apache.spark.scheduler.ResultTask.runTask(ResultTask.scala:93)\r\n\tat org.apache.spark.TaskContext.runTaskWithListeners(TaskContext.scala:166)\r\n\tat org.apache.spark.scheduler.Task.run(Task.scala:141)\r\n\tat org.apache.spark.executor.Executor$TaskRunner.$anonfun$run$4(Executor.scala:620)\r\n\tat org.apache.spark.util.SparkErrorUtils.tryWithSafeFinally(SparkErrorUtils.scala:64)\r\n\tat org.apache.spark.util.SparkErrorUtils.tryWithSafeFinally$(SparkErrorUtils.scala:61)\r\n\tat org.apache.spark.util.Utils$.tryWithSafeFinally(Utils.scala:94)\r\n\tat org.apache.spark.executor.Executor$TaskRunner.run(Executor.scala:623)\r\n\tat java.util.concurrent.ThreadPoolExecutor.runWorker(Unknown Source)\r\n\tat java.util.concurrent.ThreadPoolExecutor$Worker.run(Unknown Source)\r\n\tat java.lang.Thread.run(Unknown Source)\r\n\nDriver stacktrace:\r\n\tat org.apache.spark.scheduler.DAGScheduler.failJobAndIndependentStages(DAGScheduler.scala:2856)\r\n\tat org.apache.spark.scheduler.DAGScheduler.$anonfun$abortStage$2(DAGScheduler.scala:2792)\r\n\tat org.apache.spark.scheduler.DAGScheduler.$anonfun$abortStage$2$adapted(DAGScheduler.scala:2791)\r\n\tat scala.collection.mutable.ResizableArray.foreach(ResizableArray.scala:62)\r\n\tat scala.collection.mutable.ResizableArray.foreach$(ResizableArray.scala:55)\r\n\tat scala.collection.mutable.ArrayBuffer.foreach(ArrayBuffer.scala:49)\r\n\tat org.apache.spark.scheduler.DAGScheduler.abortStage(DAGScheduler.scala:2791)\r\n\tat org.apache.spark.scheduler.DAGScheduler.$anonfun$handleTaskSetFailed$1(DAGScheduler.scala:1247)\r\n\tat org.apache.spark.scheduler.DAGScheduler.$anonfun$handleTaskSetFailed$1$adapted(DAGScheduler.scala:1247)\r\n\tat scala.Option.foreach(Option.scala:407)\r\n\tat org.apache.spark.scheduler.DAGScheduler.handleTaskSetFailed(DAGScheduler.scala:1247)\r\n\tat org.apache.spark.scheduler.DAGSchedulerEventProcessLoop.doOnReceive(DAGScheduler.scala:3060)\r\n\tat org.apache.spark.scheduler.DAGSchedulerEventProcessLoop.onReceive(DAGScheduler.scala:2994)\r\n\tat org.apache.spark.scheduler.DAGSchedulerEventProcessLoop.onReceive(DAGScheduler.scala:2983)\r\n\tat org.apache.spark.util.EventLoop$$anon$1.run(EventLoop.scala:49)\r\n\tat org.apache.spark.scheduler.DAGScheduler.runJob(DAGScheduler.scala:989)\r\n\tat org.apache.spark.SparkContext.runJob(SparkContext.scala:2393)\r\n\tat org.apache.spark.SparkContext.runJob(SparkContext.scala:2414)\r\n\tat org.apache.spark.SparkContext.runJob(SparkContext.scala:2433)\r\n\tat org.apache.spark.sql.execution.SparkPlan.executeTake(SparkPlan.scala:530)\r\n\tat org.apache.spark.sql.execution.SparkPlan.executeTake(SparkPlan.scala:483)\r\n\tat org.apache.spark.sql.execution.CollectLimitExec.executeCollect(limit.scala:61)\r\n\tat org.apache.spark.sql.Dataset.collectFromPlan(Dataset.scala:4333)\r\n\tat org.apache.spark.sql.Dataset.$anonfun$head$1(Dataset.scala:3316)\r\n\tat org.apache.spark.sql.Dataset.$anonfun$withAction$2(Dataset.scala:4323)\r\n\tat org.apache.spark.sql.execution.QueryExecution$.withInternalError(QueryExecution.scala:546)\r\n\tat org.apache.spark.sql.Dataset.$anonfun$withAction$1(Dataset.scala:4321)\r\n\tat org.apache.spark.sql.execution.SQLExecution$.$anonfun$withNewExecutionId$6(SQLExecution.scala:125)\r\n\tat org.apache.spark.sql.execution.SQLExecution$.withSQLConfPropagated(SQLExecution.scala:201)\r\n\tat org.apache.spark.sql.execution.SQLExecution$.$anonfun$withNewExecutionId$1(SQLExecution.scala:108)\r\n\tat org.apache.spark.sql.SparkSession.withActive(SparkSession.scala:900)\r\n\tat org.apache.spark.sql.execution.SQLExecution$.withNewExecutionId(SQLExecution.scala:66)\r\n\tat org.apache.spark.sql.Dataset.withAction(Dataset.scala:4321)\r\n\tat org.apache.spark.sql.Dataset.head(Dataset.scala:3316)\r\n\tat org.apache.spark.sql.Dataset.take(Dataset.scala:3539)\r\n\tat org.apache.spark.sql.Dataset.getRows(Dataset.scala:280)\r\n\tat org.apache.spark.sql.Dataset.showString(Dataset.scala:315)\r\n\tat sun.reflect.NativeMethodAccessorImpl.invoke0(Native Method)\r\n\tat sun.reflect.NativeMethodAccessorImpl.invoke(Unknown Source)\r\n\tat sun.reflect.DelegatingMethodAccessorImpl.invoke(Unknown Source)\r\n\tat java.lang.reflect.Method.invoke(Unknown Source)\r\n\tat py4j.reflection.MethodInvoker.invoke(MethodInvoker.java:244)\r\n\tat py4j.reflection.ReflectionEngine.invoke(ReflectionEngine.java:374)\r\n\tat py4j.Gateway.invoke(Gateway.java:282)\r\n\tat py4j.commands.AbstractCommand.invokeMethod(AbstractCommand.java:132)\r\n\tat py4j.commands.CallCommand.execute(CallCommand.java:79)\r\n\tat py4j.ClientServerConnection.waitForCommands(ClientServerConnection.java:182)\r\n\tat py4j.ClientServerConnection.run(ClientServerConnection.java:106)\r\n\tat java.lang.Thread.run(Unknown Source)\r\nCaused by: java.net.SocketException: Connection reset\r\n\tat java.net.SocketInputStream.read(Unknown Source)\r\n\tat java.net.SocketInputStream.read(Unknown Source)\r\n\tat java.io.BufferedInputStream.fill(Unknown Source)\r\n\tat java.io.BufferedInputStream.read(Unknown Source)\r\n\tat java.io.DataInputStream.readInt(Unknown Source)\r\n\tat org.apache.spark.api.python.PythonRunner$$anon$3.read(PythonRunner.scala:774)\r\n\tat org.apache.spark.api.python.PythonRunner$$anon$3.read(PythonRunner.scala:766)\r\n\tat org.apache.spark.api.python.BasePythonRunner$ReaderIterator.hasNext(PythonRunner.scala:525)\r\n\tat org.apache.spark.InterruptibleIterator.hasNext(InterruptibleIterator.scala:37)\r\n\tat scala.collection.Iterator$$anon$11.hasNext(Iterator.scala:491)\r\n\tat scala.collection.Iterator$$anon$10.hasNext(Iterator.scala:460)\r\n\tat scala.collection.Iterator$$anon$10.hasNext(Iterator.scala:460)\r\n\tat org.apache.spark.sql.catalyst.expressions.GeneratedClass$GeneratedIteratorForCodegenStage1.processNext(Unknown Source)\r\n\tat org.apache.spark.sql.execution.BufferedRowIterator.hasNext(BufferedRowIterator.java:43)\r\n\tat org.apache.spark.sql.execution.WholeStageCodegenEvaluatorFactory$WholeStageCodegenPartitionEvaluator$$anon$1.hasNext(WholeStageCodegenEvaluatorFactory.scala:43)\r\n\tat org.apache.spark.sql.execution.SparkPlan.$anonfun$getByteArrayRdd$1(SparkPlan.scala:388)\r\n\tat org.apache.spark.rdd.RDD.$anonfun$mapPartitionsInternal$2(RDD.scala:893)\r\n\tat org.apache.spark.rdd.RDD.$anonfun$mapPartitionsInternal$2$adapted(RDD.scala:893)\r\n\tat org.apache.spark.rdd.MapPartitionsRDD.compute(MapPartitionsRDD.scala:52)\r\n\tat org.apache.spark.rdd.RDD.computeOrReadCheckpoint(RDD.scala:367)\r\n\tat org.apache.spark.rdd.RDD.iterator(RDD.scala:331)\r\n\tat org.apache.spark.scheduler.ResultTask.runTask(ResultTask.scala:93)\r\n\tat org.apache.spark.TaskContext.runTaskWithListeners(TaskContext.scala:166)\r\n\tat org.apache.spark.scheduler.Task.run(Task.scala:141)\r\n\tat org.apache.spark.executor.Executor$TaskRunner.$anonfun$run$4(Executor.scala:620)\r\n\tat org.apache.spark.util.SparkErrorUtils.tryWithSafeFinally(SparkErrorUtils.scala:64)\r\n\tat org.apache.spark.util.SparkErrorUtils.tryWithSafeFinally$(SparkErrorUtils.scala:61)\r\n\tat org.apache.spark.util.Utils$.tryWithSafeFinally(Utils.scala:94)\r\n\tat org.apache.spark.executor.Executor$TaskRunner.run(Executor.scala:623)\r\n\tat java.util.concurrent.ThreadPoolExecutor.runWorker(Unknown Source)\r\n\tat java.util.concurrent.ThreadPoolExecutor$Worker.run(Unknown Source)\r\n\t... 1 more\r\n",
     "output_type": "error",
     "traceback": [
      "\u001b[1;31m---------------------------------------------------------------------------\u001b[0m",
      "\u001b[1;31mPy4JJavaError\u001b[0m                             Traceback (most recent call last)",
      "Cell \u001b[1;32mIn[31], line 3\u001b[0m\n\u001b[0;32m      1\u001b[0m \u001b[38;5;66;03m# number of distinct values in the columns all except 'student_forename','student_surname', and 'UPN'\u001b[39;00m\n\u001b[1;32m----> 3\u001b[0m show_distinct_counts_approx(df_selected\u001b[38;5;241m.\u001b[39mdrop(\u001b[38;5;124m\"\u001b[39m\u001b[38;5;124mstudent_forename\u001b[39m\u001b[38;5;124m\"\u001b[39m, \u001b[38;5;124m\"\u001b[39m\u001b[38;5;124mattendance_date\u001b[39m\u001b[38;5;124m\"\u001b[39m, \u001b[38;5;124m\"\u001b[39m\u001b[38;5;124mstudent_surname\u001b[39m\u001b[38;5;124m\"\u001b[39m, \u001b[38;5;124m\"\u001b[39m\u001b[38;5;124mUPN\u001b[39m\u001b[38;5;124m\"\u001b[39m))\n",
      "Cell \u001b[1;32mIn[6], line 53\u001b[0m, in \u001b[0;36mshow_distinct_counts_approx\u001b[1;34m(df, top_n, rsd)\u001b[0m\n\u001b[0;32m     51\u001b[0m \u001b[38;5;66;03m# Show only the top_n rows, so we don't blow up memory\u001b[39;00m\n\u001b[0;32m     52\u001b[0m \u001b[38;5;28mprint\u001b[39m(\u001b[38;5;124m\"\u001b[39m\u001b[38;5;130;01m\\n\u001b[39;00m\u001b[38;5;124mAll Column Approx Distinct Counts (showing top_n only):\u001b[39m\u001b[38;5;124m\"\u001b[39m)\n\u001b[1;32m---> 53\u001b[0m df_approx_counts\u001b[38;5;241m.\u001b[39mlimit(top_n)\u001b[38;5;241m.\u001b[39mshow(truncate\u001b[38;5;241m=\u001b[39m\u001b[38;5;28;01mFalse\u001b[39;00m)\n",
      "File \u001b[1;32m~\\AppData\\Roaming\\Python\\Python311\\site-packages\\pyspark\\sql\\dataframe.py:947\u001b[0m, in \u001b[0;36mDataFrame.show\u001b[1;34m(self, n, truncate, vertical)\u001b[0m\n\u001b[0;32m    887\u001b[0m \u001b[38;5;28;01mdef\u001b[39;00m \u001b[38;5;21mshow\u001b[39m(\u001b[38;5;28mself\u001b[39m, n: \u001b[38;5;28mint\u001b[39m \u001b[38;5;241m=\u001b[39m \u001b[38;5;241m20\u001b[39m, truncate: Union[\u001b[38;5;28mbool\u001b[39m, \u001b[38;5;28mint\u001b[39m] \u001b[38;5;241m=\u001b[39m \u001b[38;5;28;01mTrue\u001b[39;00m, vertical: \u001b[38;5;28mbool\u001b[39m \u001b[38;5;241m=\u001b[39m \u001b[38;5;28;01mFalse\u001b[39;00m) \u001b[38;5;241m-\u001b[39m\u001b[38;5;241m>\u001b[39m \u001b[38;5;28;01mNone\u001b[39;00m:\n\u001b[0;32m    888\u001b[0m \u001b[38;5;250m    \u001b[39m\u001b[38;5;124;03m\"\"\"Prints the first ``n`` rows to the console.\u001b[39;00m\n\u001b[0;32m    889\u001b[0m \n\u001b[0;32m    890\u001b[0m \u001b[38;5;124;03m    .. versionadded:: 1.3.0\u001b[39;00m\n\u001b[1;32m   (...)\u001b[0m\n\u001b[0;32m    945\u001b[0m \u001b[38;5;124;03m    name | Bob\u001b[39;00m\n\u001b[0;32m    946\u001b[0m \u001b[38;5;124;03m    \"\"\"\u001b[39;00m\n\u001b[1;32m--> 947\u001b[0m     \u001b[38;5;28mprint\u001b[39m(\u001b[38;5;28mself\u001b[39m\u001b[38;5;241m.\u001b[39m_show_string(n, truncate, vertical))\n",
      "File \u001b[1;32m~\\AppData\\Roaming\\Python\\Python311\\site-packages\\pyspark\\sql\\dataframe.py:978\u001b[0m, in \u001b[0;36mDataFrame._show_string\u001b[1;34m(self, n, truncate, vertical)\u001b[0m\n\u001b[0;32m    969\u001b[0m \u001b[38;5;28;01mexcept\u001b[39;00m \u001b[38;5;167;01mValueError\u001b[39;00m:\n\u001b[0;32m    970\u001b[0m     \u001b[38;5;28;01mraise\u001b[39;00m PySparkTypeError(\n\u001b[0;32m    971\u001b[0m         error_class\u001b[38;5;241m=\u001b[39m\u001b[38;5;124m\"\u001b[39m\u001b[38;5;124mNOT_BOOL\u001b[39m\u001b[38;5;124m\"\u001b[39m,\n\u001b[0;32m    972\u001b[0m         message_parameters\u001b[38;5;241m=\u001b[39m{\n\u001b[1;32m   (...)\u001b[0m\n\u001b[0;32m    975\u001b[0m         },\n\u001b[0;32m    976\u001b[0m     )\n\u001b[1;32m--> 978\u001b[0m \u001b[38;5;28;01mreturn\u001b[39;00m \u001b[38;5;28mself\u001b[39m\u001b[38;5;241m.\u001b[39m_jdf\u001b[38;5;241m.\u001b[39mshowString(n, int_truncate, vertical)\n",
      "File \u001b[1;32m~\\AppData\\Roaming\\Python\\Python311\\site-packages\\py4j\\java_gateway.py:1322\u001b[0m, in \u001b[0;36mJavaMember.__call__\u001b[1;34m(self, *args)\u001b[0m\n\u001b[0;32m   1316\u001b[0m command \u001b[38;5;241m=\u001b[39m proto\u001b[38;5;241m.\u001b[39mCALL_COMMAND_NAME \u001b[38;5;241m+\u001b[39m\\\n\u001b[0;32m   1317\u001b[0m     \u001b[38;5;28mself\u001b[39m\u001b[38;5;241m.\u001b[39mcommand_header \u001b[38;5;241m+\u001b[39m\\\n\u001b[0;32m   1318\u001b[0m     args_command \u001b[38;5;241m+\u001b[39m\\\n\u001b[0;32m   1319\u001b[0m     proto\u001b[38;5;241m.\u001b[39mEND_COMMAND_PART\n\u001b[0;32m   1321\u001b[0m answer \u001b[38;5;241m=\u001b[39m \u001b[38;5;28mself\u001b[39m\u001b[38;5;241m.\u001b[39mgateway_client\u001b[38;5;241m.\u001b[39msend_command(command)\n\u001b[1;32m-> 1322\u001b[0m return_value \u001b[38;5;241m=\u001b[39m get_return_value(\n\u001b[0;32m   1323\u001b[0m     answer, \u001b[38;5;28mself\u001b[39m\u001b[38;5;241m.\u001b[39mgateway_client, \u001b[38;5;28mself\u001b[39m\u001b[38;5;241m.\u001b[39mtarget_id, \u001b[38;5;28mself\u001b[39m\u001b[38;5;241m.\u001b[39mname)\n\u001b[0;32m   1325\u001b[0m \u001b[38;5;28;01mfor\u001b[39;00m temp_arg \u001b[38;5;129;01min\u001b[39;00m temp_args:\n\u001b[0;32m   1326\u001b[0m     \u001b[38;5;28;01mif\u001b[39;00m \u001b[38;5;28mhasattr\u001b[39m(temp_arg, \u001b[38;5;124m\"\u001b[39m\u001b[38;5;124m_detach\u001b[39m\u001b[38;5;124m\"\u001b[39m):\n",
      "File \u001b[1;32m~\\AppData\\Roaming\\Python\\Python311\\site-packages\\pyspark\\errors\\exceptions\\captured.py:179\u001b[0m, in \u001b[0;36mcapture_sql_exception.<locals>.deco\u001b[1;34m(*a, **kw)\u001b[0m\n\u001b[0;32m    177\u001b[0m \u001b[38;5;28;01mdef\u001b[39;00m \u001b[38;5;21mdeco\u001b[39m(\u001b[38;5;241m*\u001b[39ma: Any, \u001b[38;5;241m*\u001b[39m\u001b[38;5;241m*\u001b[39mkw: Any) \u001b[38;5;241m-\u001b[39m\u001b[38;5;241m>\u001b[39m Any:\n\u001b[0;32m    178\u001b[0m     \u001b[38;5;28;01mtry\u001b[39;00m:\n\u001b[1;32m--> 179\u001b[0m         \u001b[38;5;28;01mreturn\u001b[39;00m f(\u001b[38;5;241m*\u001b[39ma, \u001b[38;5;241m*\u001b[39m\u001b[38;5;241m*\u001b[39mkw)\n\u001b[0;32m    180\u001b[0m     \u001b[38;5;28;01mexcept\u001b[39;00m Py4JJavaError \u001b[38;5;28;01mas\u001b[39;00m e:\n\u001b[0;32m    181\u001b[0m         converted \u001b[38;5;241m=\u001b[39m convert_exception(e\u001b[38;5;241m.\u001b[39mjava_exception)\n",
      "File \u001b[1;32m~\\AppData\\Roaming\\Python\\Python311\\site-packages\\py4j\\protocol.py:326\u001b[0m, in \u001b[0;36mget_return_value\u001b[1;34m(answer, gateway_client, target_id, name)\u001b[0m\n\u001b[0;32m    324\u001b[0m value \u001b[38;5;241m=\u001b[39m OUTPUT_CONVERTER[\u001b[38;5;28mtype\u001b[39m](answer[\u001b[38;5;241m2\u001b[39m:], gateway_client)\n\u001b[0;32m    325\u001b[0m \u001b[38;5;28;01mif\u001b[39;00m answer[\u001b[38;5;241m1\u001b[39m] \u001b[38;5;241m==\u001b[39m REFERENCE_TYPE:\n\u001b[1;32m--> 326\u001b[0m     \u001b[38;5;28;01mraise\u001b[39;00m Py4JJavaError(\n\u001b[0;32m    327\u001b[0m         \u001b[38;5;124m\"\u001b[39m\u001b[38;5;124mAn error occurred while calling \u001b[39m\u001b[38;5;132;01m{0}\u001b[39;00m\u001b[38;5;132;01m{1}\u001b[39;00m\u001b[38;5;132;01m{2}\u001b[39;00m\u001b[38;5;124m.\u001b[39m\u001b[38;5;130;01m\\n\u001b[39;00m\u001b[38;5;124m\"\u001b[39m\u001b[38;5;241m.\u001b[39m\n\u001b[0;32m    328\u001b[0m         \u001b[38;5;28mformat\u001b[39m(target_id, \u001b[38;5;124m\"\u001b[39m\u001b[38;5;124m.\u001b[39m\u001b[38;5;124m\"\u001b[39m, name), value)\n\u001b[0;32m    329\u001b[0m \u001b[38;5;28;01melse\u001b[39;00m:\n\u001b[0;32m    330\u001b[0m     \u001b[38;5;28;01mraise\u001b[39;00m Py4JError(\n\u001b[0;32m    331\u001b[0m         \u001b[38;5;124m\"\u001b[39m\u001b[38;5;124mAn error occurred while calling \u001b[39m\u001b[38;5;132;01m{0}\u001b[39;00m\u001b[38;5;132;01m{1}\u001b[39;00m\u001b[38;5;132;01m{2}\u001b[39;00m\u001b[38;5;124m. Trace:\u001b[39m\u001b[38;5;130;01m\\n\u001b[39;00m\u001b[38;5;132;01m{3}\u001b[39;00m\u001b[38;5;130;01m\\n\u001b[39;00m\u001b[38;5;124m\"\u001b[39m\u001b[38;5;241m.\u001b[39m\n\u001b[0;32m    332\u001b[0m         \u001b[38;5;28mformat\u001b[39m(target_id, \u001b[38;5;124m\"\u001b[39m\u001b[38;5;124m.\u001b[39m\u001b[38;5;124m\"\u001b[39m, name, value))\n",
      "\u001b[1;31mPy4JJavaError\u001b[0m: An error occurred while calling o4093.showString.\n: org.apache.spark.SparkException: Job aborted due to stage failure: Task 0 in stage 138.0 failed 1 times, most recent failure: Lost task 0.0 in stage 138.0 (TID 303) (Saqib executor driver): java.net.SocketException: Connection reset\r\n\tat java.net.SocketInputStream.read(Unknown Source)\r\n\tat java.net.SocketInputStream.read(Unknown Source)\r\n\tat java.io.BufferedInputStream.fill(Unknown Source)\r\n\tat java.io.BufferedInputStream.read(Unknown Source)\r\n\tat java.io.DataInputStream.readInt(Unknown Source)\r\n\tat org.apache.spark.api.python.PythonRunner$$anon$3.read(PythonRunner.scala:774)\r\n\tat org.apache.spark.api.python.PythonRunner$$anon$3.read(PythonRunner.scala:766)\r\n\tat org.apache.spark.api.python.BasePythonRunner$ReaderIterator.hasNext(PythonRunner.scala:525)\r\n\tat org.apache.spark.InterruptibleIterator.hasNext(InterruptibleIterator.scala:37)\r\n\tat scala.collection.Iterator$$anon$11.hasNext(Iterator.scala:491)\r\n\tat scala.collection.Iterator$$anon$10.hasNext(Iterator.scala:460)\r\n\tat scala.collection.Iterator$$anon$10.hasNext(Iterator.scala:460)\r\n\tat org.apache.spark.sql.catalyst.expressions.GeneratedClass$GeneratedIteratorForCodegenStage1.processNext(Unknown Source)\r\n\tat org.apache.spark.sql.execution.BufferedRowIterator.hasNext(BufferedRowIterator.java:43)\r\n\tat org.apache.spark.sql.execution.WholeStageCodegenEvaluatorFactory$WholeStageCodegenPartitionEvaluator$$anon$1.hasNext(WholeStageCodegenEvaluatorFactory.scala:43)\r\n\tat org.apache.spark.sql.execution.SparkPlan.$anonfun$getByteArrayRdd$1(SparkPlan.scala:388)\r\n\tat org.apache.spark.rdd.RDD.$anonfun$mapPartitionsInternal$2(RDD.scala:893)\r\n\tat org.apache.spark.rdd.RDD.$anonfun$mapPartitionsInternal$2$adapted(RDD.scala:893)\r\n\tat org.apache.spark.rdd.MapPartitionsRDD.compute(MapPartitionsRDD.scala:52)\r\n\tat org.apache.spark.rdd.RDD.computeOrReadCheckpoint(RDD.scala:367)\r\n\tat org.apache.spark.rdd.RDD.iterator(RDD.scala:331)\r\n\tat org.apache.spark.scheduler.ResultTask.runTask(ResultTask.scala:93)\r\n\tat org.apache.spark.TaskContext.runTaskWithListeners(TaskContext.scala:166)\r\n\tat org.apache.spark.scheduler.Task.run(Task.scala:141)\r\n\tat org.apache.spark.executor.Executor$TaskRunner.$anonfun$run$4(Executor.scala:620)\r\n\tat org.apache.spark.util.SparkErrorUtils.tryWithSafeFinally(SparkErrorUtils.scala:64)\r\n\tat org.apache.spark.util.SparkErrorUtils.tryWithSafeFinally$(SparkErrorUtils.scala:61)\r\n\tat org.apache.spark.util.Utils$.tryWithSafeFinally(Utils.scala:94)\r\n\tat org.apache.spark.executor.Executor$TaskRunner.run(Executor.scala:623)\r\n\tat java.util.concurrent.ThreadPoolExecutor.runWorker(Unknown Source)\r\n\tat java.util.concurrent.ThreadPoolExecutor$Worker.run(Unknown Source)\r\n\tat java.lang.Thread.run(Unknown Source)\r\n\nDriver stacktrace:\r\n\tat org.apache.spark.scheduler.DAGScheduler.failJobAndIndependentStages(DAGScheduler.scala:2856)\r\n\tat org.apache.spark.scheduler.DAGScheduler.$anonfun$abortStage$2(DAGScheduler.scala:2792)\r\n\tat org.apache.spark.scheduler.DAGScheduler.$anonfun$abortStage$2$adapted(DAGScheduler.scala:2791)\r\n\tat scala.collection.mutable.ResizableArray.foreach(ResizableArray.scala:62)\r\n\tat scala.collection.mutable.ResizableArray.foreach$(ResizableArray.scala:55)\r\n\tat scala.collection.mutable.ArrayBuffer.foreach(ArrayBuffer.scala:49)\r\n\tat org.apache.spark.scheduler.DAGScheduler.abortStage(DAGScheduler.scala:2791)\r\n\tat org.apache.spark.scheduler.DAGScheduler.$anonfun$handleTaskSetFailed$1(DAGScheduler.scala:1247)\r\n\tat org.apache.spark.scheduler.DAGScheduler.$anonfun$handleTaskSetFailed$1$adapted(DAGScheduler.scala:1247)\r\n\tat scala.Option.foreach(Option.scala:407)\r\n\tat org.apache.spark.scheduler.DAGScheduler.handleTaskSetFailed(DAGScheduler.scala:1247)\r\n\tat org.apache.spark.scheduler.DAGSchedulerEventProcessLoop.doOnReceive(DAGScheduler.scala:3060)\r\n\tat org.apache.spark.scheduler.DAGSchedulerEventProcessLoop.onReceive(DAGScheduler.scala:2994)\r\n\tat org.apache.spark.scheduler.DAGSchedulerEventProcessLoop.onReceive(DAGScheduler.scala:2983)\r\n\tat org.apache.spark.util.EventLoop$$anon$1.run(EventLoop.scala:49)\r\n\tat org.apache.spark.scheduler.DAGScheduler.runJob(DAGScheduler.scala:989)\r\n\tat org.apache.spark.SparkContext.runJob(SparkContext.scala:2393)\r\n\tat org.apache.spark.SparkContext.runJob(SparkContext.scala:2414)\r\n\tat org.apache.spark.SparkContext.runJob(SparkContext.scala:2433)\r\n\tat org.apache.spark.sql.execution.SparkPlan.executeTake(SparkPlan.scala:530)\r\n\tat org.apache.spark.sql.execution.SparkPlan.executeTake(SparkPlan.scala:483)\r\n\tat org.apache.spark.sql.execution.CollectLimitExec.executeCollect(limit.scala:61)\r\n\tat org.apache.spark.sql.Dataset.collectFromPlan(Dataset.scala:4333)\r\n\tat org.apache.spark.sql.Dataset.$anonfun$head$1(Dataset.scala:3316)\r\n\tat org.apache.spark.sql.Dataset.$anonfun$withAction$2(Dataset.scala:4323)\r\n\tat org.apache.spark.sql.execution.QueryExecution$.withInternalError(QueryExecution.scala:546)\r\n\tat org.apache.spark.sql.Dataset.$anonfun$withAction$1(Dataset.scala:4321)\r\n\tat org.apache.spark.sql.execution.SQLExecution$.$anonfun$withNewExecutionId$6(SQLExecution.scala:125)\r\n\tat org.apache.spark.sql.execution.SQLExecution$.withSQLConfPropagated(SQLExecution.scala:201)\r\n\tat org.apache.spark.sql.execution.SQLExecution$.$anonfun$withNewExecutionId$1(SQLExecution.scala:108)\r\n\tat org.apache.spark.sql.SparkSession.withActive(SparkSession.scala:900)\r\n\tat org.apache.spark.sql.execution.SQLExecution$.withNewExecutionId(SQLExecution.scala:66)\r\n\tat org.apache.spark.sql.Dataset.withAction(Dataset.scala:4321)\r\n\tat org.apache.spark.sql.Dataset.head(Dataset.scala:3316)\r\n\tat org.apache.spark.sql.Dataset.take(Dataset.scala:3539)\r\n\tat org.apache.spark.sql.Dataset.getRows(Dataset.scala:280)\r\n\tat org.apache.spark.sql.Dataset.showString(Dataset.scala:315)\r\n\tat sun.reflect.NativeMethodAccessorImpl.invoke0(Native Method)\r\n\tat sun.reflect.NativeMethodAccessorImpl.invoke(Unknown Source)\r\n\tat sun.reflect.DelegatingMethodAccessorImpl.invoke(Unknown Source)\r\n\tat java.lang.reflect.Method.invoke(Unknown Source)\r\n\tat py4j.reflection.MethodInvoker.invoke(MethodInvoker.java:244)\r\n\tat py4j.reflection.ReflectionEngine.invoke(ReflectionEngine.java:374)\r\n\tat py4j.Gateway.invoke(Gateway.java:282)\r\n\tat py4j.commands.AbstractCommand.invokeMethod(AbstractCommand.java:132)\r\n\tat py4j.commands.CallCommand.execute(CallCommand.java:79)\r\n\tat py4j.ClientServerConnection.waitForCommands(ClientServerConnection.java:182)\r\n\tat py4j.ClientServerConnection.run(ClientServerConnection.java:106)\r\n\tat java.lang.Thread.run(Unknown Source)\r\nCaused by: java.net.SocketException: Connection reset\r\n\tat java.net.SocketInputStream.read(Unknown Source)\r\n\tat java.net.SocketInputStream.read(Unknown Source)\r\n\tat java.io.BufferedInputStream.fill(Unknown Source)\r\n\tat java.io.BufferedInputStream.read(Unknown Source)\r\n\tat java.io.DataInputStream.readInt(Unknown Source)\r\n\tat org.apache.spark.api.python.PythonRunner$$anon$3.read(PythonRunner.scala:774)\r\n\tat org.apache.spark.api.python.PythonRunner$$anon$3.read(PythonRunner.scala:766)\r\n\tat org.apache.spark.api.python.BasePythonRunner$ReaderIterator.hasNext(PythonRunner.scala:525)\r\n\tat org.apache.spark.InterruptibleIterator.hasNext(InterruptibleIterator.scala:37)\r\n\tat scala.collection.Iterator$$anon$11.hasNext(Iterator.scala:491)\r\n\tat scala.collection.Iterator$$anon$10.hasNext(Iterator.scala:460)\r\n\tat scala.collection.Iterator$$anon$10.hasNext(Iterator.scala:460)\r\n\tat org.apache.spark.sql.catalyst.expressions.GeneratedClass$GeneratedIteratorForCodegenStage1.processNext(Unknown Source)\r\n\tat org.apache.spark.sql.execution.BufferedRowIterator.hasNext(BufferedRowIterator.java:43)\r\n\tat org.apache.spark.sql.execution.WholeStageCodegenEvaluatorFactory$WholeStageCodegenPartitionEvaluator$$anon$1.hasNext(WholeStageCodegenEvaluatorFactory.scala:43)\r\n\tat org.apache.spark.sql.execution.SparkPlan.$anonfun$getByteArrayRdd$1(SparkPlan.scala:388)\r\n\tat org.apache.spark.rdd.RDD.$anonfun$mapPartitionsInternal$2(RDD.scala:893)\r\n\tat org.apache.spark.rdd.RDD.$anonfun$mapPartitionsInternal$2$adapted(RDD.scala:893)\r\n\tat org.apache.spark.rdd.MapPartitionsRDD.compute(MapPartitionsRDD.scala:52)\r\n\tat org.apache.spark.rdd.RDD.computeOrReadCheckpoint(RDD.scala:367)\r\n\tat org.apache.spark.rdd.RDD.iterator(RDD.scala:331)\r\n\tat org.apache.spark.scheduler.ResultTask.runTask(ResultTask.scala:93)\r\n\tat org.apache.spark.TaskContext.runTaskWithListeners(TaskContext.scala:166)\r\n\tat org.apache.spark.scheduler.Task.run(Task.scala:141)\r\n\tat org.apache.spark.executor.Executor$TaskRunner.$anonfun$run$4(Executor.scala:620)\r\n\tat org.apache.spark.util.SparkErrorUtils.tryWithSafeFinally(SparkErrorUtils.scala:64)\r\n\tat org.apache.spark.util.SparkErrorUtils.tryWithSafeFinally$(SparkErrorUtils.scala:61)\r\n\tat org.apache.spark.util.Utils$.tryWithSafeFinally(Utils.scala:94)\r\n\tat org.apache.spark.executor.Executor$TaskRunner.run(Executor.scala:623)\r\n\tat java.util.concurrent.ThreadPoolExecutor.runWorker(Unknown Source)\r\n\tat java.util.concurrent.ThreadPoolExecutor$Worker.run(Unknown Source)\r\n\t... 1 more\r\n"
     ]
    }
   ],
   "source": [
    "# number of distinct values in the columns all except 'student_forename','student_surname', and 'UPN'\n",
    "\n",
    "show_distinct_counts_approx(df_selected.drop(\"student_forename\", \"attendance_date\", \"student_surname\", \"UPN\"))\n",
    "\n"
   ]
  },
  {
   "cell_type": "code",
   "execution_count": 33,
   "metadata": {},
   "outputs": [
    {
     "name": "stdout",
     "output_type": "stream",
     "text": [
      "+----+\n",
      "|mark|\n",
      "+----+\n",
      "|   K|\n",
      "| I01|\n",
      "| I02|\n",
      "|   E|\n",
      "|   B|\n",
      "|   Y|\n",
      "| X05|\n",
      "|   L|\n",
      "|   M|\n",
      "|   V|\n",
      "|   U|\n",
      "|   O|\n",
      "|   D|\n",
      "|  Y6|\n",
      "|   C|\n",
      "|   J|\n",
      "|   -|\n",
      "|   Z|\n",
      "| X06|\n",
      "|   /|\n",
      "+----+\n",
      "only showing top 20 rows\n",
      "\n",
      "+-------------+\n",
      "|academic_year|\n",
      "+-------------+\n",
      "|    2021/2022|\n",
      "|    2024/2025|\n",
      "|    2022/2023|\n",
      "|    2023/2024|\n",
      "|    2020/2021|\n",
      "+-------------+\n",
      "\n"
     ]
    }
   ],
   "source": [
    "#list the distinct values in the column 'mark'\n",
    "df_selected.select(\"mark\").distinct().show()\n",
    "df_selected.select(\"academic_year\").distinct().show()\n"
   ]
  },
  {
   "cell_type": "markdown",
   "metadata": {},
   "source": [
    "\n",
    "- The **Mark** category may require further investigation by the data analyst to identify rows where the attendance data is ambiguous.  \n",
    "- Additionally, the **weekcommencing** column contains 181 unique values, whereas the **academic_week_number** column contains 54 unique values. This discrepancy is expected, as the **academic_week_number** is based on the academic year and repeats across years, while **weekcommencing** is based on actual dates. The **weekcommencing** field may be more suitable for categorising the data based on week numbers.\n"
   ]
  },
  {
   "cell_type": "code",
   "execution_count": 34,
   "metadata": {},
   "outputs": [
    {
     "name": "stdout",
     "output_type": "stream",
     "text": [
      "+------+----------------+---------------+-------------+----------+-------+-----------+---------+--------------------+-------+---------------+-------------+--------------------+------+--------------+----+-------+--------------------------------+---------+-----------+----+-----------------+-------+---------+-----------+----------+-------------+---------------+------------+----+\n",
      "|gender|student_forename|student_surname|pupil_premium|year_group|nc_year|school_type|school   |establishment_number|la_code|attendance_date|academic_year|academic_week_number|term  |weekcommencing|mark|session|is_approved_educational_activity|is_attend|is_auth_abs|late|late_unauthorised|missing|no_reason|is_possible|is_present|is_unauth_abs|current_student|leaving_date|UPN |\n",
      "+------+----------------+---------------+-------------+----------+-------+-----------+---------+--------------------+-------+---------------+-------------+--------------------+------+--------------+----+-------+--------------------------------+---------+-----------+----+-----------------+-------+---------+-----------+----------+-------------+---------------+------------+----+\n",
      "|FEMALE|Theresa         |Hester         |False        |8         |8      |SECONDARY  |Academy 4|XXXXXX              |XXXXXX |2023-11-13     |2023/2024    |12                  |Term 2|w/c 13/11/2023|/   |AM     |0.0                             |1.0      |0.0        |0.0 |0.0              |0.0    |0.0      |1.0        |1.0       |0.0          |1              |NULL        |3579|\n",
      "|MALE  |Daniel          |Garcia         |False        |9         |9      |SECONDARY  |Academy 4|XXXXXX              |XXXXXX |2023-09-19     |2023/2024    |4                   |Term 1|w/c 18/09/2023|\\   |PM     |0.0                             |1.0      |0.0        |0.0 |0.0              |0.0    |0.0      |1.0        |1.0       |0.0          |1              |NULL        |4886|\n",
      "|MALE  |Alicia          |Fox            |True         |7         |7      |SECONDARY  |Academy 4|XXXXXX              |XXXXXX |2024-09-12     |2024/2025    |2                   |Term 1|w/c 09/09/2024|/   |AM     |0.0                             |1.0      |0.0        |0.0 |0.0              |0.0    |0.0      |1.0        |1.0       |0.0          |1              |NULL        |166 |\n",
      "|MALE  |David           |Martinez       |False        |8         |8      |SECONDARY  |Academy 4|XXXXXX              |XXXXXX |2024-08-11     |2024/2025    |50                  |Term 6|w/c 05/08/2024|#   |PM     |0.0                             |0.0      |0.0        |0.0 |0.0              |0.0    |1.0      |0.0        |0.0       |0.0          |1              |NULL        |1235|\n",
      "|MALE  |Stacy           |Avery          |False        |9         |9      |SECONDARY  |Academy 4|XXXXXX              |XXXXXX |2024-11-15     |2024/2025    |11                  |Term 2|w/c 11/11/2024|\\   |PM     |0.0                             |1.0      |0.0        |0.0 |0.0              |0.0    |0.0      |1.0        |1.0       |0.0          |1              |NULL        |9728|\n",
      "|FEMALE|Brett           |Williams       |True         |11        |11     |SECONDARY  |Academy 4|XXXXXX              |XXXXXX |2024-10-09     |2024/2025    |6                   |Term 1|w/c 07/10/2024|G   |PM     |0.0                             |0.0      |0.0        |0.0 |0.0              |0.0    |0.0      |1.0        |0.0       |1.0          |1              |NULL        |7267|\n",
      "|FEMALE|Brett           |Williams       |True         |11        |11     |SECONDARY  |Academy 4|XXXXXX              |XXXXXX |2024-09-29     |2024/2025    |4                   |Term 1|w/c 23/09/2024|#   |AM     |0.0                             |0.0      |0.0        |0.0 |0.0              |0.0    |1.0      |0.0        |0.0       |0.0          |1              |NULL        |7267|\n",
      "|FEMALE|Theresa         |Hester         |False        |8         |8      |SECONDARY  |Academy 4|XXXXXX              |XXXXXX |2024-08-21     |2024/2025    |52                  |Term 6|w/c 19/08/2024|#   |PM     |0.0                             |0.0      |0.0        |0.0 |0.0              |0.0    |1.0      |0.0        |0.0       |0.0          |1              |NULL        |3579|\n",
      "|MALE  |Stacy           |Avery          |False        |9         |9      |SECONDARY  |Academy 4|XXXXXX              |XXXXXX |2024-11-09     |2024/2025    |10                  |Term 2|w/c 04/11/2024|#   |PM     |0.0                             |0.0      |0.0        |0.0 |0.0              |0.0    |1.0      |0.0        |0.0       |0.0          |1              |NULL        |9728|\n",
      "|MALE  |Daniel          |Garcia         |False        |9         |9      |SECONDARY  |Academy 4|XXXXXX              |XXXXXX |2024-08-27     |2024/2025    |53                  |Term 6|w/c 26/08/2024|#   |PM     |0.0                             |0.0      |0.0        |0.0 |0.0              |0.0    |1.0      |0.0        |0.0       |0.0          |1              |NULL        |4886|\n",
      "|MALE  |Daniel          |Garcia         |False        |9         |9      |SECONDARY  |Academy 4|XXXXXX              |XXXXXX |2024-11-27     |2024/2025    |13                  |Term 2|w/c 25/11/2024|\\   |PM     |0.0                             |1.0      |0.0        |0.0 |0.0              |0.0    |0.0      |1.0        |1.0       |0.0          |1              |NULL        |4886|\n",
      "|FEMALE|Theresa         |Hester         |False        |8         |8      |SECONDARY  |Academy 4|XXXXXX              |XXXXXX |2024-11-05     |2024/2025    |10                  |Term 2|w/c 04/11/2024|\\   |PM     |0.0                             |1.0      |0.0        |0.0 |0.0              |0.0    |0.0      |1.0        |1.0       |0.0          |1              |NULL        |3579|\n",
      "|FEMALE|Brett           |Williams       |True         |11        |11     |SECONDARY  |Academy 4|XXXXXX              |XXXXXX |2024-10-20     |2024/2025    |7                   |Term 1|w/c 14/10/2024|#   |PM     |0.0                             |0.0      |0.0        |0.0 |0.0              |0.0    |1.0      |0.0        |0.0       |0.0          |1              |NULL        |7267|\n",
      "|MALE  |Daniel          |Garcia         |False        |9         |9      |SECONDARY  |Academy 4|XXXXXX              |XXXXXX |2024-12-01     |2024/2025    |13                  |Term 2|w/c 25/11/2024|#   |PM     |0.0                             |0.0      |0.0        |0.0 |0.0              |0.0    |1.0      |0.0        |0.0       |0.0          |1              |NULL        |4886|\n",
      "|FEMALE|Theresa         |Hester         |False        |8         |8      |SECONDARY  |Academy 4|XXXXXX              |XXXXXX |2024-12-05     |2024/2025    |14                  |Term 2|w/c 02/12/2024|\\   |PM     |0.0                             |1.0      |0.0        |0.0 |0.0              |0.0    |0.0      |1.0        |1.0       |0.0          |1              |NULL        |3579|\n",
      "|MALE  |Daniel          |Garcia         |False        |9         |9      |SECONDARY  |Academy 4|XXXXXX              |XXXXXX |2024-11-21     |2024/2025    |12                  |Term 2|w/c 18/11/2024|/   |AM     |0.0                             |1.0      |0.0        |0.0 |0.0              |0.0    |0.0      |1.0        |1.0       |0.0          |1              |NULL        |4886|\n",
      "|FEMALE|Theresa         |Hester         |False        |8         |8      |SECONDARY  |Academy 4|XXXXXX              |XXXXXX |2024-10-09     |2024/2025    |6                   |Term 1|w/c 07/10/2024|\\   |PM     |0.0                             |1.0      |0.0        |0.0 |0.0              |0.0    |0.0      |1.0        |1.0       |0.0          |1              |NULL        |3579|\n",
      "|MALE  |David           |Martinez       |False        |8         |8      |SECONDARY  |Academy 4|XXXXXX              |XXXXXX |2024-10-23     |2024/2025    |8                   |Term 1|w/c 21/10/2024|#   |PM     |0.0                             |0.0      |0.0        |0.0 |0.0              |0.0    |1.0      |0.0        |0.0       |0.0          |1              |NULL        |1235|\n",
      "|FEMALE|Theresa         |Hester         |False        |8         |8      |SECONDARY  |Academy 4|XXXXXX              |XXXXXX |2024-11-07     |2024/2025    |10                  |Term 2|w/c 04/11/2024|/   |AM     |0.0                             |1.0      |0.0        |0.0 |0.0              |0.0    |0.0      |1.0        |1.0       |0.0          |1              |NULL        |3579|\n",
      "|MALE  |David           |Martinez       |False        |8         |8      |SECONDARY  |Academy 4|XXXXXX              |XXXXXX |2024-12-04     |2024/2025    |14                  |Term 2|w/c 02/12/2024|\\   |PM     |0.0                             |1.0      |0.0        |0.0 |0.0              |0.0    |0.0      |1.0        |1.0       |0.0          |1              |NULL        |1235|\n",
      "+------+----------------+---------------+-------------+----------+-------+-----------+---------+--------------------+-------+---------------+-------------+--------------------+------+--------------+----+-------+--------------------------------+---------+-----------+----+-----------------+-------+---------+-----------+----------+-------------+---------------+------------+----+\n",
      "only showing top 20 rows\n",
      "\n"
     ]
    }
   ],
   "source": [
    "df_selected.show(truncate=False)"
   ]
  },
  {
   "cell_type": "markdown",
   "metadata": {},
   "source": [
    "#### 6. Rationale for Selecting Certain Columns:\n",
    "\n",
    "- **Names and UPN**: These are essential for identifying students and their attendance records, particularly if a report needs to deep dive into individual student attendance. They can also help identify students with chronic absenteeism or other attendance-related issues and ensure the quality of the data.  \n",
    "- **Year group**: This column is used to calculate the attendance percentage for each school on a weekly basis by year group.  \n",
    "- **Establishment name and number**: These are crucial for identifying the school and its location, which can be useful for comparing attendance rates across different schools or regions. Although this dataset anonymises these fields (indicated by XXXX), I am assuming they would be provided in a real-world scenario for more accurate analysis.  \n",
    "- **Attendance date, mark, and session**: These columns are essential for tracking student attendance on a daily basis and identifying patterns of absence or lateness. They will also be used later to create a unique identifier for each attendance record.  \n",
    "- **Detailed attendance status columns**:  \n",
    "  - **is_present**, **is_possible**, **is_auth_abs**, **is_unauth_abs**, **is_late_L**, **is_late_U**, **is_missing**, **is_nr**, and **is_aea**: These provide detailed information about the student’s attendance status, including whether the absence was authorised, unauthorised, or due to other reasons. This information can help identify trends in attendance and inform interventions to improve attendance rates.  \n",
    "- **Academic year, week number, and term_session**: These are necessary for aggregating attendance data over specific time periods (e.g., weekly, termly) and tracking trends across the academic year. This information can highlight seasonal patterns in attendance and guide targeted interventions.  \n",
    "- **Week commencing**: Provided in two formats to allow flexibility in reporting and analysis.\n",
    "\n"
   ]
  },
  {
   "cell_type": "markdown",
   "metadata": {},
   "source": [
    "#### 7. Data Integrity Check"
   ]
  },
  {
   "cell_type": "markdown",
   "metadata": {},
   "source": [
    "I create a unique identifier for each attendance record by concatenating the student_id (UPN), date, session (AM/PM) columns. This identifier will be used to check for duplicate records and ensure data integrity."
   ]
  },
  {
   "cell_type": "code",
   "execution_count": 35,
   "metadata": {},
   "outputs": [
    {
     "name": "stdout",
     "output_type": "stream",
     "text": [
      "+------+----------------+---------------+-------------+----------+-------+-----------+---------+--------------------+-------+---------------+-------------+--------------------+------+--------------+----+-------+--------------------------------+---------+-----------+----+-----------------+-------+---------+-----------+----------+-------------+---------------+------------+----+------------------+\n",
      "|gender|student_forename|student_surname|pupil_premium|year_group|nc_year|school_type|school   |establishment_number|la_code|attendance_date|academic_year|academic_week_number|term  |weekcommencing|mark|session|is_approved_educational_activity|is_attend|is_auth_abs|late|late_unauthorised|missing|no_reason|is_possible|is_present|is_unauth_abs|current_student|leaving_date|UPN |UPN_AttendanceDate|\n",
      "+------+----------------+---------------+-------------+----------+-------+-----------+---------+--------------------+-------+---------------+-------------+--------------------+------+--------------+----+-------+--------------------------------+---------+-----------+----+-----------------+-------+---------+-----------+----------+-------------+---------------+------------+----+------------------+\n",
      "|FEMALE|Theresa         |Hester         |False        |8         |8      |SECONDARY  |Academy 4|XXXXXX              |XXXXXX |2023-11-13     |2023/2024    |12                  |Term 2|w/c 13/11/2023|/   |AM     |0.0                             |1.0      |0.0        |0.0 |0.0              |0.0    |0.0      |1.0        |1.0       |0.0          |1              |NULL        |3579|3579_2023-11-13_AM|\n",
      "|MALE  |Daniel          |Garcia         |False        |9         |9      |SECONDARY  |Academy 4|XXXXXX              |XXXXXX |2023-09-19     |2023/2024    |4                   |Term 1|w/c 18/09/2023|\\   |PM     |0.0                             |1.0      |0.0        |0.0 |0.0              |0.0    |0.0      |1.0        |1.0       |0.0          |1              |NULL        |4886|4886_2023-09-19_PM|\n",
      "|MALE  |Alicia          |Fox            |True         |7         |7      |SECONDARY  |Academy 4|XXXXXX              |XXXXXX |2024-09-12     |2024/2025    |2                   |Term 1|w/c 09/09/2024|/   |AM     |0.0                             |1.0      |0.0        |0.0 |0.0              |0.0    |0.0      |1.0        |1.0       |0.0          |1              |NULL        |166 |166_2024-09-12_AM |\n",
      "|MALE  |David           |Martinez       |False        |8         |8      |SECONDARY  |Academy 4|XXXXXX              |XXXXXX |2024-08-11     |2024/2025    |50                  |Term 6|w/c 05/08/2024|#   |PM     |0.0                             |0.0      |0.0        |0.0 |0.0              |0.0    |1.0      |0.0        |0.0       |0.0          |1              |NULL        |1235|1235_2024-08-11_PM|\n",
      "|MALE  |Stacy           |Avery          |False        |9         |9      |SECONDARY  |Academy 4|XXXXXX              |XXXXXX |2024-11-15     |2024/2025    |11                  |Term 2|w/c 11/11/2024|\\   |PM     |0.0                             |1.0      |0.0        |0.0 |0.0              |0.0    |0.0      |1.0        |1.0       |0.0          |1              |NULL        |9728|9728_2024-11-15_PM|\n",
      "|FEMALE|Brett           |Williams       |True         |11        |11     |SECONDARY  |Academy 4|XXXXXX              |XXXXXX |2024-10-09     |2024/2025    |6                   |Term 1|w/c 07/10/2024|G   |PM     |0.0                             |0.0      |0.0        |0.0 |0.0              |0.0    |0.0      |1.0        |0.0       |1.0          |1              |NULL        |7267|7267_2024-10-09_PM|\n",
      "|FEMALE|Brett           |Williams       |True         |11        |11     |SECONDARY  |Academy 4|XXXXXX              |XXXXXX |2024-09-29     |2024/2025    |4                   |Term 1|w/c 23/09/2024|#   |AM     |0.0                             |0.0      |0.0        |0.0 |0.0              |0.0    |1.0      |0.0        |0.0       |0.0          |1              |NULL        |7267|7267_2024-09-29_AM|\n",
      "|FEMALE|Theresa         |Hester         |False        |8         |8      |SECONDARY  |Academy 4|XXXXXX              |XXXXXX |2024-08-21     |2024/2025    |52                  |Term 6|w/c 19/08/2024|#   |PM     |0.0                             |0.0      |0.0        |0.0 |0.0              |0.0    |1.0      |0.0        |0.0       |0.0          |1              |NULL        |3579|3579_2024-08-21_PM|\n",
      "|MALE  |Stacy           |Avery          |False        |9         |9      |SECONDARY  |Academy 4|XXXXXX              |XXXXXX |2024-11-09     |2024/2025    |10                  |Term 2|w/c 04/11/2024|#   |PM     |0.0                             |0.0      |0.0        |0.0 |0.0              |0.0    |1.0      |0.0        |0.0       |0.0          |1              |NULL        |9728|9728_2024-11-09_PM|\n",
      "|MALE  |Daniel          |Garcia         |False        |9         |9      |SECONDARY  |Academy 4|XXXXXX              |XXXXXX |2024-08-27     |2024/2025    |53                  |Term 6|w/c 26/08/2024|#   |PM     |0.0                             |0.0      |0.0        |0.0 |0.0              |0.0    |1.0      |0.0        |0.0       |0.0          |1              |NULL        |4886|4886_2024-08-27_PM|\n",
      "|MALE  |Daniel          |Garcia         |False        |9         |9      |SECONDARY  |Academy 4|XXXXXX              |XXXXXX |2024-11-27     |2024/2025    |13                  |Term 2|w/c 25/11/2024|\\   |PM     |0.0                             |1.0      |0.0        |0.0 |0.0              |0.0    |0.0      |1.0        |1.0       |0.0          |1              |NULL        |4886|4886_2024-11-27_PM|\n",
      "|FEMALE|Theresa         |Hester         |False        |8         |8      |SECONDARY  |Academy 4|XXXXXX              |XXXXXX |2024-11-05     |2024/2025    |10                  |Term 2|w/c 04/11/2024|\\   |PM     |0.0                             |1.0      |0.0        |0.0 |0.0              |0.0    |0.0      |1.0        |1.0       |0.0          |1              |NULL        |3579|3579_2024-11-05_PM|\n",
      "|FEMALE|Brett           |Williams       |True         |11        |11     |SECONDARY  |Academy 4|XXXXXX              |XXXXXX |2024-10-20     |2024/2025    |7                   |Term 1|w/c 14/10/2024|#   |PM     |0.0                             |0.0      |0.0        |0.0 |0.0              |0.0    |1.0      |0.0        |0.0       |0.0          |1              |NULL        |7267|7267_2024-10-20_PM|\n",
      "|MALE  |Daniel          |Garcia         |False        |9         |9      |SECONDARY  |Academy 4|XXXXXX              |XXXXXX |2024-12-01     |2024/2025    |13                  |Term 2|w/c 25/11/2024|#   |PM     |0.0                             |0.0      |0.0        |0.0 |0.0              |0.0    |1.0      |0.0        |0.0       |0.0          |1              |NULL        |4886|4886_2024-12-01_PM|\n",
      "|FEMALE|Theresa         |Hester         |False        |8         |8      |SECONDARY  |Academy 4|XXXXXX              |XXXXXX |2024-12-05     |2024/2025    |14                  |Term 2|w/c 02/12/2024|\\   |PM     |0.0                             |1.0      |0.0        |0.0 |0.0              |0.0    |0.0      |1.0        |1.0       |0.0          |1              |NULL        |3579|3579_2024-12-05_PM|\n",
      "|MALE  |Daniel          |Garcia         |False        |9         |9      |SECONDARY  |Academy 4|XXXXXX              |XXXXXX |2024-11-21     |2024/2025    |12                  |Term 2|w/c 18/11/2024|/   |AM     |0.0                             |1.0      |0.0        |0.0 |0.0              |0.0    |0.0      |1.0        |1.0       |0.0          |1              |NULL        |4886|4886_2024-11-21_AM|\n",
      "|FEMALE|Theresa         |Hester         |False        |8         |8      |SECONDARY  |Academy 4|XXXXXX              |XXXXXX |2024-10-09     |2024/2025    |6                   |Term 1|w/c 07/10/2024|\\   |PM     |0.0                             |1.0      |0.0        |0.0 |0.0              |0.0    |0.0      |1.0        |1.0       |0.0          |1              |NULL        |3579|3579_2024-10-09_PM|\n",
      "|MALE  |David           |Martinez       |False        |8         |8      |SECONDARY  |Academy 4|XXXXXX              |XXXXXX |2024-10-23     |2024/2025    |8                   |Term 1|w/c 21/10/2024|#   |PM     |0.0                             |0.0      |0.0        |0.0 |0.0              |0.0    |1.0      |0.0        |0.0       |0.0          |1              |NULL        |1235|1235_2024-10-23_PM|\n",
      "|FEMALE|Theresa         |Hester         |False        |8         |8      |SECONDARY  |Academy 4|XXXXXX              |XXXXXX |2024-11-07     |2024/2025    |10                  |Term 2|w/c 04/11/2024|/   |AM     |0.0                             |1.0      |0.0        |0.0 |0.0              |0.0    |0.0      |1.0        |1.0       |0.0          |1              |NULL        |3579|3579_2024-11-07_AM|\n",
      "|MALE  |David           |Martinez       |False        |8         |8      |SECONDARY  |Academy 4|XXXXXX              |XXXXXX |2024-12-04     |2024/2025    |14                  |Term 2|w/c 02/12/2024|\\   |PM     |0.0                             |1.0      |0.0        |0.0 |0.0              |0.0    |0.0      |1.0        |1.0       |0.0          |1              |NULL        |1235|1235_2024-12-04_PM|\n",
      "+------+----------------+---------------+-------------+----------+-------+-----------+---------+--------------------+-------+---------------+-------------+--------------------+------+--------------+----+-------+--------------------------------+---------+-----------+----+-----------------+-------+---------+-----------+----------+-------------+---------------+------------+----+------------------+\n",
      "only showing top 20 rows\n",
      "\n"
     ]
    }
   ],
   "source": [
    "\n",
    "\n",
    "# 1. Create a new field by concatenating UPN and attendance_date and session (AM/PM) with an underscore separator   \n",
    "#this will be used to identify the unique attendance record for each student per day per session    \n",
    "df_with_combined = df_selected.withColumn(\n",
    "    \"UPN_AttendanceDate\",\n",
    "    F.concat_ws(\"_\", F.col(\"UPN\"), F.col(\"attendance_date\"), F.col(\"session\"))\n",
    ")\n",
    "\n",
    "\n",
    "# 2. Group by this new field and filter for count == 1 (i.e. unique)\n",
    "df_valid = (\n",
    "    df_with_combined\n",
    "    .groupBy(\"UPN_AttendanceDate\")\n",
    "    .count()\n",
    "    .filter(F.col(\"count\") == 1) #each student can have only one attendance per day per session AM or PM\n",
    ")\n",
    "\n",
    "# 3. Group by this new field and filter for count > 1 (i.e. duplicates)\n",
    "df_invalid = (\n",
    "    df_with_combined\n",
    "    .groupBy(\"UPN_AttendanceDate\")\n",
    "    .count()\n",
    "    .filter(F.col(\"count\") > 1)\n",
    ")\n",
    "\n",
    "\n",
    "df_with_combined.show(truncate=False)\n"
   ]
  },
  {
   "cell_type": "code",
   "execution_count": 36,
   "metadata": {},
   "outputs": [
    {
     "name": "stdout",
     "output_type": "stream",
     "text": [
      "+------------------+-----+\n",
      "|UPN_AttendanceDate|count|\n",
      "+------------------+-----+\n",
      "|5798_2024-08-27_PM|2    |\n",
      "|1052_2024-08-09_AM|2    |\n",
      "|4878_2024-09-14_AM|2    |\n",
      "|8152_2022-07-21_PM|2    |\n",
      "|8152_2022-09-18_PM|2    |\n",
      "|8152_2023-12-25_PM|2    |\n",
      "|8152_2022-11-27_PM|2    |\n",
      "|8152_2022-07-02_AM|2    |\n",
      "|8152_2022-07-22_PM|2    |\n",
      "|8152_2024-04-07_AM|2    |\n",
      "|2584_2024-10-04_PM|2    |\n",
      "|9403_2024-08-14_PM|2    |\n",
      "|5008_2022-07-12_AM|2    |\n",
      "|5008_2022-07-27_AM|2    |\n",
      "|5008_2022-05-21_AM|2    |\n",
      "|5008_2022-04-18_AM|2    |\n",
      "|3924_2024-08-26_AM|2    |\n",
      "|2899_2024-09-08_AM|2    |\n",
      "|3898_2024-07-07_PM|2    |\n",
      "|3898_2024-06-25_PM|2    |\n",
      "+------------------+-----+\n",
      "only showing top 20 rows\n",
      "\n"
     ]
    }
   ],
   "source": [
    "df_invalid.show(truncate=False)"
   ]
  },
  {
   "cell_type": "code",
   "execution_count": 37,
   "metadata": {},
   "outputs": [
    {
     "name": "stdout",
     "output_type": "stream",
     "text": [
      "Total rows with original df: 16311626\n",
      "Total rows with selected data df: 16311626\n",
      "Total rows valid data: 15983332\n",
      "Total rows invalid data: 164114\n"
     ]
    }
   ],
   "source": [
    "print(f\"Total rows with original df: {df_joined_renamed.count()}\") \n",
    "\n",
    "print(f\"Total rows with selected data df: {df_selected.count()}\") \n",
    "\n",
    "print(f\"Total rows valid data: {df_valid.count()}\")\n",
    "\n",
    "print(f\"Total rows invalid data: {df_invalid.count()}\")"
   ]
  },
  {
   "cell_type": "markdown",
   "metadata": {},
   "source": [
    "So there are 164114 duplicate rows. I will label these as invalid for the data analyst.\n",
    "So as to not prevent any data leakage and to be able to filter easily, I will add a column called 'status' and 'count' and label each row with either valid if it occurs once, and if more than once then 'invalid' "
   ]
  },
  {
   "cell_type": "code",
   "execution_count": 38,
   "metadata": {},
   "outputs": [
    {
     "name": "stdout",
     "output_type": "stream",
     "text": [
      "+------------------------+------+----------------+---------------+-------------+----------+-------+-----------+---------+--------------------+-------+---------------+-------------+--------------------+------+--------------+----+-------+--------------------------------+---------+-----------+----+-----------------+-------+---------+-----------+----------+-------------+---------------+------------+----------+-----+-------+\n",
      "|UPN_AttendanceDate      |gender|student_forename|student_surname|pupil_premium|year_group|nc_year|school_type|school   |establishment_number|la_code|attendance_date|academic_year|academic_week_number|term  |weekcommencing|mark|session|is_approved_educational_activity|is_attend|is_auth_abs|late|late_unauthorised|missing|no_reason|is_possible|is_present|is_unauth_abs|current_student|leaving_date|UPN       |count|status |\n",
      "+------------------------+------+----------------+---------------+-------------+----------+-------+-----------+---------+--------------------+-------+---------------+-------------+--------------------+------+--------------+----+-------+--------------------------------+---------+-----------+----+-----------------+-------+---------+-----------+----------+-------------+---------------+------------+----------+-----+-------+\n",
      "|10623_2023-08-21_PM     |MALE  |Felicia         |Vega           |False        |11        |11     |SECONDARY  |Academy 5|XXXXXX              |XXXXXX |2023-08-21     |2023/2024    |52                  |Term 6|w/c 21/08/2023|#   |PM     |0.0                             |0.0      |0.0        |0.0 |0.0              |0.0    |1.0      |0.0        |0.0       |0.0          |1              |nan         |10623     |1    |valid  |\n",
      "|10888_2024-11-24_PM     |MALE  |James           |Harris         |False        |Y11       |11     |SECONDARY  |Academy 3|XXXXXX              |XXXXXX |2024-11-24     |2024/2025    |12                  |Term 2|w/c 18/11/2024|#   |PM     |0.0                             |0.0      |0.0        |0.0 |0.0              |0.0    |1.0      |0.0        |0.0       |0.0          |1              |NULL        |10888     |1    |valid  |\n",
      "|1279_2024-09-08_AM      |MALE  |Austin          |Johnson        |False        |9         |9      |SECONDARY  |Academy 5|XXXXXX              |XXXXXX |2024-09-08     |2024/2025    |1                   |Term 1|w/c 02/09/2024|#   |AM     |0.0                             |0.0      |0.0        |0.0 |0.0              |0.0    |1.0      |0.0        |0.0       |0.0          |1              |nan         |1279      |1    |valid  |\n",
      "|2433_2023-07-22_AM      |FEMALE|Kenneth         |Evans          |False        |11        |11     |ALL THROUGH|Academy 9|XXXXXX              |XXXXXX |2023-07-22     |2022/2023    |47                  |Term 6|w/c 17/07/2023|#   |AM     |0.0                             |0.0      |0.0        |0.0 |0.0              |0.0    |1.0      |0.0        |0.0       |0.0          |1              |NULL        |2433      |1    |valid  |\n",
      "|3416_2024-09-08_AM      |FEMALE|Jennifer        |Dawson         |False        |9         |9      |SECONDARY  |Academy 5|XXXXXX              |XXXXXX |2024-09-08     |2024/2025    |1                   |Term 1|w/c 02/09/2024|#   |AM     |0.0                             |0.0      |0.0        |0.0 |0.0              |0.0    |1.0      |0.0        |0.0       |0.0          |1              |nan         |3416      |1    |valid  |\n",
      "|4523_2024-06-22_PM      |FEMALE|Heather         |Steele         |True         |10        |10     |SECONDARY  |Academy 2|XXXXXX              |XXXXXX |2024-06-22     |2023/2024    |43                  |Term 6|w/c 17/06/2024|#   |PM     |0.0                             |0.0      |0.0        |0.0 |0.0              |0.0    |1.0      |0.0        |0.0       |0.0          |1              |NULL        |4523      |1    |valid  |\n",
      "|5833_2023-12-30_PM      |MALE  |Audrey          |Berry          |True         |10        |10     |ALL THROUGH|Academy 9|XXXXXX              |XXXXXX |2023-12-30     |2023/2024    |18                  |Term 2|w/c 25/12/2023|#   |PM     |0.0                             |0.0      |0.0        |0.0 |0.0              |0.0    |1.0      |0.0        |0.0       |0.0          |1              |NULL        |5833      |1    |valid  |\n",
      "|6680_2024-04-17_PM      |FEMALE|Julie           |Garner         |False        |8         |8      |ALL THROUGH|Academy 9|XXXXXX              |XXXXXX |2024-04-17     |2023/2024    |34                  |Term 5|w/c 15/04/2024|I   |PM     |0.0                             |0.0      |1.0        |0.0 |0.0              |0.0    |0.0      |1.0        |0.0       |0.0          |1              |NULL        |6680      |1    |valid  |\n",
      "|7706_2024-11-18_AM      |MALE  |Joseph          |Baker          |False        |Y09       |9      |SECONDARY  |Academy 3|XXXXXX              |XXXXXX |2024-11-18     |2024/2025    |12                  |Term 2|w/c 18/11/2024|/   |AM     |0.0                             |1.0      |0.0        |0.0 |0.0              |0.0    |0.0      |1.0        |1.0       |0.0          |1              |NULL        |7706      |1    |valid  |\n",
      "|8589937817_2023-05-30_AM|FEMALE|Timothy         |Castillo       |False        |Y10       |10     |SECONDARY  |Academy 6|XXXXXX              |XXXXXX |2023-05-30     |2022/2023    |40                  |Term 5|w/c 29/05/2023|#   |AM     |0.0                             |0.0      |0.0        |0.0 |0.0              |0.0    |1.0      |0.0        |0.0       |0.0          |1              |nan         |8589937817|1    |valid  |\n",
      "|8589938741_2022-08-09_PM|FEMALE|Alec            |Smith          |True         |11        |11     |SECONDARY  |Academy 4|XXXXXX              |XXXXXX |2022-08-09     |2022/2023    |50                  |Term 6|w/c 08/08/2022|#   |PM     |0.0                             |0.0      |0.0        |0.0 |0.0              |0.0    |1.0      |0.0        |0.0       |0.0          |1              |NULL        |8589938741|1    |valid  |\n",
      "|8589939203_2022-05-27_PM|FEMALE|Maria           |Gallegos       |True         |11        |11     |SECONDARY  |Academy 4|XXXXXX              |XXXXXX |2022-05-27     |2021/2022    |39                  |Term 5|w/c 23/05/2022|\\   |PM     |0.0                             |1.0      |0.0        |0.0 |0.0              |0.0    |0.0      |1.0        |1.0       |0.0          |1              |NULL        |8589939203|2    |invalid|\n",
      "|8589940349_2023-11-05_AM|MALE  |Jennifer        |Ramsey         |False        |9         |9      |SECONDARY  |Academy 2|XXXXXX              |XXXXXX |2023-11-05     |2023/2024    |10                  |Term 2|w/c 30/10/2023|#   |AM     |0.0                             |0.0      |0.0        |0.0 |0.0              |0.0    |1.0      |0.0        |0.0       |0.0          |1              |NULL        |8589940349|1    |valid  |\n",
      "|871_2022-07-17_PM       |MALE  |Christopher     |Miller         |False        |13        |13     |SECONDARY  |Academy 2|XXXXXX              |XXXXXX |2022-07-17     |2021/2022    |46                  |Term 6|w/c 11/07/2022|#   |PM     |0.0                             |0.0      |0.0        |0.0 |0.0              |0.0    |1.0      |0.0        |0.0       |0.0          |1              |NULL        |871       |1    |valid  |\n",
      "|9509_2024-09-30_PM      |MALE  |Robin           |Rocha          |True         |9         |9      |SECONDARY  |Academy 5|XXXXXX              |XXXXXX |2024-09-30     |2024/2025    |5                   |Term 1|w/c 30/09/2024|\\   |PM     |0.0                             |1.0      |0.0        |0.0 |0.0              |0.0    |0.0      |1.0        |1.0       |0.0          |1              |nan         |9509      |1    |valid  |\n",
      "|9728_2024-11-15_PM      |MALE  |Stacy           |Avery          |False        |9         |9      |SECONDARY  |Academy 4|XXXXXX              |XXXXXX |2024-11-15     |2024/2025    |11                  |Term 2|w/c 11/11/2024|\\   |PM     |0.0                             |1.0      |0.0        |0.0 |0.0              |0.0    |0.0      |1.0        |1.0       |0.0          |1              |NULL        |9728      |1    |valid  |\n",
      "|10888_2024-09-30_PM     |MALE  |James           |Harris         |False        |Y11       |11     |SECONDARY  |Academy 3|XXXXXX              |XXXXXX |2024-09-30     |2024/2025    |5                   |Term 1|w/c 30/09/2024|\\   |PM     |0.0                             |1.0      |0.0        |0.0 |0.0              |0.0    |0.0      |1.0        |1.0       |0.0          |1              |NULL        |10888     |1    |valid  |\n",
      "|1697_2023-10-10_PM      |FEMALE|Jose            |Baker          |False        |11        |11     |SECONDARY  |Academy 5|XXXXXX              |XXXXXX |2023-10-10     |2023/2024    |7                   |Term 1|w/c 09/10/2023|\\   |PM     |0.0                             |1.0      |0.0        |0.0 |0.0              |0.0    |0.0      |1.0        |1.0       |0.0          |1              |nan         |1697      |1    |valid  |\n",
      "|2563_2023-06-02_PM      |FEMALE|Rebecca         |Mckee          |False        |11        |11     |SECONDARY  |Academy 1|XXXXXX              |XXXXXX |2023-06-02     |2022/2023    |40                  |Term 6|w/c 29/05/2023|#   |PM     |0.0                             |0.0      |0.0        |0.0 |0.0              |0.0    |1.0      |0.0        |0.0       |0.0          |1              |NULL        |2563      |1    |valid  |\n",
      "|29_2024-07-27_PM        |FEMALE|Shirley         |Duffy          |True         |8         |8      |ALL THROUGH|Academy 9|XXXXXX              |XXXXXX |2024-07-27     |2023/2024    |48                  |Term 6|w/c 22/07/2024|#   |PM     |0.0                             |0.0      |0.0        |0.0 |0.0              |0.0    |1.0      |0.0        |0.0       |0.0          |1              |NULL        |29        |1    |valid  |\n",
      "+------------------------+------+----------------+---------------+-------------+----------+-------+-----------+---------+--------------------+-------+---------------+-------------+--------------------+------+--------------+----+-------+--------------------------------+---------+-----------+----+-----------------+-------+---------+-----------+----------+-------------+---------------+------------+----------+-----+-------+\n",
      "only showing top 20 rows\n",
      "\n"
     ]
    }
   ],
   "source": [
    "\n",
    "\n",
    "# 1. Aggregate all keys with their counts\n",
    "df_counts = (\n",
    "    df_with_combined\n",
    "    .groupBy(\"UPN_AttendanceDate\")\n",
    "    .agg(F.count(\"*\").alias(\"count\"))\n",
    "    .withColumn(\n",
    "        \"status\", \n",
    "        F.when(F.col(\"count\") == 1, \"valid\").otherwise(\"invalid\")\n",
    "    )\n",
    ")\n",
    "\n",
    "# 2. Join back to original rows to get the full data plus the status\n",
    "df_with_status = (\n",
    "    df_with_combined.alias(\"a\")\n",
    "    .join(df_counts.alias(\"b\"), on=\"UPN_AttendanceDate\", how=\"left\")\n",
    "    .select(\"a.*\", \"b.count\", \"b.status\")\n",
    ")\n",
    "\n",
    "df_with_status.show(truncate=False)\n"
   ]
  },
  {
   "cell_type": "code",
   "execution_count": 39,
   "metadata": {},
   "outputs": [],
   "source": [
    "# the valid and invalid rows can be filtered as below and called upon as needed\n",
    "df_validf_rows = df_with_status.filter(\"status == 'valid'\")\n",
    "df_invalidf_rows = df_with_status.filter(\"status == 'invalid'\")\n"
   ]
  },
  {
   "cell_type": "code",
   "execution_count": 40,
   "metadata": {},
   "outputs": [
    {
     "name": "stdout",
     "output_type": "stream",
     "text": [
      "Total rows valid data: 15983332\n",
      "Total rows invalid data: 328294\n"
     ]
    }
   ],
   "source": [
    "#cound the number of rows in the df_valid_rows\n",
    "print(f\"Total rows valid data: {df_validf_rows.count()}\")\n",
    "\n",
    "#cound the number of rows in the df_invalid_rows\n",
    "print(f\"Total rows invalid data: {df_invalidf_rows.count()}\")"
   ]
  },
  {
   "cell_type": "markdown",
   "metadata": {},
   "source": [
    "The invalid data is approximately twice that of the previous count, as now it is counting each instance where as before it was counting the grouping of the data."
   ]
  },
  {
   "cell_type": "markdown",
   "metadata": {},
   "source": [
    "#### 8. Summary Table"
   ]
  },
  {
   "cell_type": "markdown",
   "metadata": {},
   "source": [
    "\n",
    "\n",
    "Going forward, I will use the following to filter rows based on their status:\n",
    "\n",
    "- `df_valid = df[df['status'] == 'valid']` to filter out the valid rows.\n",
    "- `df_invalid_rows = df[df['status'] == 'invalid']` to filter out the invalid rows, which can be used to investigate duplicates further if needed.\n",
    "\n",
    "I will create an initial summary table that contains the attendance percentage for each school on a weekly basis by the **Year Group** of the student. The table will include the following columns:\n",
    "\n",
    "- **School**: The name of the school.  \n",
    "- **week_number**: The specific week based on the week commencing date.  \n",
    "- **year_group**: The year group of the student based on the National Curriculum Year.  \n",
    "- **attendance_percentage**: The percentage of attendance for the school in the specified week and year group.  \n",
    "\n",
    "The summary will be sorted based on the school name, week number, and year group as per the data analyst's request.\n",
    "\n",
    "I will then print summary statistics for this data, including the **mean**, **median**, **minimum**, **maximum**, and **standard deviation** of the attendance percentage across all schools, weeks, and year groups.\n",
    "\n",
    "Finally, I will write the summary table to `fact_AttendanceSummary` in **Parquet** format for further analysis and reporting by the Data Analyst.\n",
    "\n"
   ]
  },
  {
   "cell_type": "code",
   "execution_count": 41,
   "metadata": {},
   "outputs": [],
   "source": [
    "df_summary = (\n",
    "    df_validf_rows\n",
    "    .groupBy(\"school\",  \"nc_year\", \"weekcommencing\")\n",
    "    .agg(\n",
    "        F.round(\n",
    "            (F.sum(\"is_attend\") / F.sum(\"is_possible\") * 100), 1\n",
    "        ).alias(\"attendance_percentage\")\n",
    "    )\n",
    ")\n",
    "\n",
    "#df_summary.limit(20).show(truncate=False)"
   ]
  },
  {
   "cell_type": "code",
   "execution_count": 42,
   "metadata": {},
   "outputs": [
    {
     "name": "stdout",
     "output_type": "stream",
     "text": [
      "+---------+-------+--------------+---------------------+\n",
      "|school   |nc_year|weekcommencing|attendance_percentage|\n",
      "+---------+-------+--------------+---------------------+\n",
      "|Academy 8|13     |w/c 04/09/2023|99.4                 |\n",
      "|Academy 7|13     |w/c 28/02/2022|98.2                 |\n",
      "|Academy 9|3      |w/c 28/11/2022|93.1                 |\n",
      "|Academy 8|11     |w/c 21/03/2022|93.8                 |\n",
      "|Academy 8|11     |w/c 15/04/2024|92.9                 |\n",
      "|Academy 7|9      |w/c 21/08/2023|NULL                 |\n",
      "|Academy 2|13     |w/c 04/03/2024|95.9                 |\n",
      "|Academy 3|8      |w/c 16/10/2023|96.3                 |\n",
      "|Academy 8|11     |w/c 01/08/2022|NULL                 |\n",
      "|Academy 4|9      |w/c 15/05/2023|92.7                 |\n",
      "|Academy 7|7      |w/c 18/11/2024|92.7                 |\n",
      "|Academy 5|13     |w/c 20/02/2023|97.2                 |\n",
      "|Academy 5|13     |w/c 11/03/2024|93.6                 |\n",
      "|Academy 4|13     |w/c 15/11/2021|94.2                 |\n",
      "|Academy 9|9      |w/c 12/09/2022|96.2                 |\n",
      "|Academy 5|10     |w/c 25/03/2024|93.1                 |\n",
      "|Academy 9|11     |w/c 28/08/2023|NULL                 |\n",
      "|Academy 9|11     |w/c 25/03/2024|84.9                 |\n",
      "|Academy 9|11     |w/c 25/07/2022|82.4                 |\n",
      "|Academy 9|11     |w/c 12/08/2024|NULL                 |\n",
      "+---------+-------+--------------+---------------------+\n",
      "only showing top 20 rows\n",
      "\n"
     ]
    }
   ],
   "source": [
    "df_summary.show(truncate=False)"
   ]
  },
  {
   "cell_type": "code",
   "execution_count": 43,
   "metadata": {},
   "outputs": [
    {
     "name": "stdout",
     "output_type": "stream",
     "text": [
      "+---------+-------+--------------+---------------------+\n",
      "|school   |nc_year|weekcommencing|attendance_percentage|\n",
      "+---------+-------+--------------+---------------------+\n",
      "|Academy 8|13     |w/c 04/09/2023|99.4                 |\n",
      "|Academy 7|13     |w/c 28/02/2022|98.2                 |\n",
      "|Academy 9|3      |w/c 28/11/2022|93.1                 |\n",
      "|Academy 8|11     |w/c 21/03/2022|93.8                 |\n",
      "|Academy 8|11     |w/c 15/04/2024|92.9                 |\n",
      "|Academy 7|9      |w/c 21/08/2023|NULL                 |\n",
      "|Academy 2|13     |w/c 04/03/2024|95.9                 |\n",
      "|Academy 3|8      |w/c 16/10/2023|96.3                 |\n",
      "|Academy 8|11     |w/c 01/08/2022|NULL                 |\n",
      "|Academy 4|9      |w/c 15/05/2023|92.7                 |\n",
      "|Academy 7|7      |w/c 18/11/2024|92.7                 |\n",
      "|Academy 5|13     |w/c 20/02/2023|97.2                 |\n",
      "|Academy 5|13     |w/c 11/03/2024|93.6                 |\n",
      "|Academy 4|13     |w/c 15/11/2021|94.2                 |\n",
      "|Academy 9|9      |w/c 12/09/2022|96.2                 |\n",
      "|Academy 5|10     |w/c 25/03/2024|93.1                 |\n",
      "|Academy 9|11     |w/c 28/08/2023|NULL                 |\n",
      "|Academy 9|11     |w/c 25/03/2024|84.9                 |\n",
      "|Academy 9|11     |w/c 25/07/2022|82.4                 |\n",
      "|Academy 9|11     |w/c 12/08/2024|NULL                 |\n",
      "+---------+-------+--------------+---------------------+\n",
      "\n"
     ]
    }
   ],
   "source": [
    "df_summary.limit(20).show(truncate=False)"
   ]
  },
  {
   "cell_type": "markdown",
   "metadata": {},
   "source": [
    "#### 9. Null Values to be Investigated Further \n",
    "\n",
    "As expected, a number of NULL values are present in the data. For the attention of the data analyst, I will quantify the number of NULL values in the attendance percentage column and provide this information in the summary statistics.\n"
   ]
  },
  {
   "cell_type": "code",
   "execution_count": 44,
   "metadata": {},
   "outputs": [
    {
     "name": "stdout",
     "output_type": "stream",
     "text": [
      "Number of rows with at least one NULL value: 2233\n"
     ]
    }
   ],
   "source": [
    "\n",
    "\n",
    "cols = df_summary.columns\n",
    "\n",
    "# Build a filter condition: (col1 IS NULL) OR (col2 IS NULL) OR ...\n",
    "null_condition = reduce(lambda acc, c: acc | F.col(c).isNull(), cols, F.lit(False))\n",
    "\n",
    "# Filter rows where any column is null\n",
    "num_rows_with_null = df_summary.filter(null_condition).count()\n",
    "\n",
    "print(f\"Number of rows with at least one NULL value: {num_rows_with_null}\")"
   ]
  },
  {
   "cell_type": "markdown",
   "metadata": {},
   "source": [
    "I will create a table to show the number of null values in the attendance columns. This will help to identify any patterns or trends in the missing data and inform data cleaning and imputation strategies."
   ]
  },
  {
   "cell_type": "code",
   "execution_count": 45,
   "metadata": {},
   "outputs": [
    {
     "name": "stdout",
     "output_type": "stream",
     "text": [
      "DataFrame has 8697 rows and 4 columns.\n",
      "\n",
      "Column                             Null  EmptyStr  NA/NaNStr  NumericNaN  TotalMissing  %Missing\n",
      "----------------------------------------------------------------------\n",
      "school                                0         0         0           0            0      0.00%\n",
      "nc_year                               0         0         0           0            0      0.00%\n",
      "weekcommencing                        0         0         0           0            0      0.00%\n",
      "attendance_percentage              2233         0         0           0         2233     25.68%\n"
     ]
    }
   ],
   "source": [
    "show_df_missing_breakdown(df_summary)"
   ]
  },
  {
   "cell_type": "code",
   "execution_count": 46,
   "metadata": {},
   "outputs": [
    {
     "name": "stdout",
     "output_type": "stream",
     "text": [
      "+---------+-------+--------------+---------------------+-------------+---------------+\n",
      "|school   |nc_year|weekcommencing|attendance_percentage|sum_is_attend|sum_is_possible|\n",
      "+---------+-------+--------------+---------------------+-------------+---------------+\n",
      "|Academy 7|9      |w/c 21/08/2023|NULL                 |0.0          |0.0            |\n",
      "|Academy 8|11     |w/c 01/08/2022|NULL                 |0.0          |0.0            |\n",
      "|Academy 9|11     |w/c 28/08/2023|NULL                 |0.0          |0.0            |\n",
      "|Academy 9|11     |w/c 12/08/2024|NULL                 |0.0          |0.0            |\n",
      "|Academy 1|10     |w/c 12/02/2024|NULL                 |0.0          |0.0            |\n",
      "|Academy 6|11     |w/c 07/08/2023|NULL                 |0.0          |0.0            |\n",
      "|Academy 9|5      |w/c 01/04/2024|NULL                 |0.0          |0.0            |\n",
      "|Academy 6|10     |w/c 27/12/2021|NULL                 |0.0          |0.0            |\n",
      "|Academy 8|11     |w/c 23/08/2021|NULL                 |0.0          |0.0            |\n",
      "|Academy 9|N2     |w/c 26/08/2024|NULL                 |0.0          |0.0            |\n",
      "|Academy 2|12     |w/c 04/04/2022|NULL                 |0.0          |0.0            |\n",
      "|Academy 7|13     |w/c 22/07/2024|NULL                 |0.0          |0.0            |\n",
      "|Academy 9|10     |w/c 25/12/2023|NULL                 |0.0          |0.0            |\n",
      "|Academy 7|11     |w/c 22/08/2022|NULL                 |0.0          |0.0            |\n",
      "|Academy 4|11     |w/c 23/10/2023|NULL                 |0.0          |0.0            |\n",
      "|Academy 3|11     |w/c 24/07/2023|NULL                 |0.0          |0.0            |\n",
      "|Academy 9|13     |w/c 29/07/2024|NULL                 |0.0          |0.0            |\n",
      "|Academy 4|10     |w/c 10/04/2023|NULL                 |0.0          |0.0            |\n",
      "|Academy 9|2      |w/c 25/12/2023|NULL                 |0.0          |0.0            |\n",
      "|Academy 9|13     |w/c 30/08/2021|NULL                 |0.0          |0.0            |\n",
      "+---------+-------+--------------+---------------------+-------------+---------------+\n",
      "only showing top 20 rows\n",
      "\n"
     ]
    }
   ],
   "source": [
    "\n",
    "# 1) From df_selected, group by the same columns used in df_summary\n",
    "df_sums = (\n",
    "    df_validf_rows\n",
    "        .groupBy(\"school\",  \"nc_year\", \"weekcommencing\")\n",
    "        .agg(\n",
    "            F.sum(\"is_attend\").alias(\"sum_is_attend\"),\n",
    "            F.sum(\"is_possible\").alias(\"sum_is_possible\")\n",
    "        )\n",
    ")\n",
    "\n",
    "\n",
    "# 2) Filter df_summary for rows where attendance_percentage is NULL\n",
    "df_summary_nulls = df_summary.filter(F.col(\"attendance_percentage\").isNull())\n",
    "\n",
    "# 3) Join df_summary_nulls with df_sums to see actual sums for those groups\n",
    "df_null_sums = (\n",
    "    df_summary_nulls.alias(\"summ\")\n",
    "    .join(\n",
    "        df_sums.alias(\"sums\"),\n",
    "        on=[\"school\", \"nc_year\", \"weekcommencing\"],\n",
    "        how=\"left\"\n",
    "    )\n",
    "    .select(\n",
    "        \"summ.school\",\n",
    "        \"summ.nc_year\",\n",
    "        \"summ.weekcommencing\",\n",
    "        \"summ.attendance_percentage\",   # should be NULL\n",
    "        \"sums.sum_is_attend\",\n",
    "        \"sums.sum_is_possible\"\n",
    "    )\n",
    ")\n",
    "\n",
    "df_null_sums.show(truncate=False)\n"
   ]
  },
  {
   "cell_type": "markdown",
   "metadata": {},
   "source": [
    "To drill down further I can use the df_validf_rows dataframe to investigate the missing data further. This contains only the valid rows before any summary data frame, so I can see if there is a pattern in the missing data."
   ]
  },
  {
   "cell_type": "code",
   "execution_count": 47,
   "metadata": {},
   "outputs": [
    {
     "name": "stdout",
     "output_type": "stream",
     "text": [
      "+-------------------+------+----------------+---------------+-------------+----------+-------+-----------+---------+--------------------+-------+---------------+-------------+--------------------+------+--------------+----+-------+--------------------------------+---------+-----------+----+-----------------+-------+---------+-----------+----------+-------------+---------------+------------+-----+-----+------+\n",
      "| UPN_AttendanceDate|gender|student_forename|student_surname|pupil_premium|year_group|nc_year|school_type|   school|establishment_number|la_code|attendance_date|academic_year|academic_week_number|  term|weekcommencing|mark|session|is_approved_educational_activity|is_attend|is_auth_abs|late|late_unauthorised|missing|no_reason|is_possible|is_present|is_unauth_abs|current_student|leaving_date|  UPN|count|status|\n",
      "+-------------------+------+----------------+---------------+-------------+----------+-------+-----------+---------+--------------------+-------+---------------+-------------+--------------------+------+--------------+----+-------+--------------------------------+---------+-----------+----+-----------------+-------+---------+-----------+----------+-------------+---------------+------------+-----+-----+------+\n",
      "|10011_2023-08-26_PM|FEMALE|            John|          Allen|        False|         9|      9|  SECONDARY|Academy 7|              XXXXXX| XXXXXX|     2023-08-26|    2023/2024|                  52|Term 6|w/c 21/08/2023|   #|     PM|                             0.0|      0.0|        0.0| 0.0|              0.0|    0.0|      1.0|        0.0|       0.0|          0.0|              1|         nan|10011|    1| valid|\n",
      "| 7190_2023-08-23_PM|  MALE|           Sally|          Stark|         True|         9|      9|  SECONDARY|Academy 7|              XXXXXX| XXXXXX|     2023-08-23|    2023/2024|                  52|Term 6|w/c 21/08/2023|   #|     PM|                             0.0|      0.0|        0.0| 0.0|              0.0|    0.0|      1.0|        0.0|       0.0|          0.0|              1|         nan| 7190|    1| valid|\n",
      "|10185_2023-08-26_AM|FEMALE|         Patrick|           Cruz|         True|         9|      9|  SECONDARY|Academy 7|              XXXXXX| XXXXXX|     2023-08-26|    2023/2024|                  52|Term 6|w/c 21/08/2023|   #|     AM|                             0.0|      0.0|        0.0| 0.0|              0.0|    0.0|      1.0|        0.0|       0.0|          0.0|              1|         nan|10185|    1| valid|\n",
      "| 4891_2023-08-25_PM|  MALE|           Holly|          Lyons|        False|         9|      9|  SECONDARY|Academy 7|              XXXXXX| XXXXXX|     2023-08-25|    2023/2024|                  52|Term 6|w/c 21/08/2023|   #|     PM|                             0.0|      0.0|        0.0| 0.0|              0.0|    0.0|      1.0|        0.0|       0.0|          0.0|              1|         nan| 4891|    1| valid|\n",
      "| 4679_2023-08-27_AM|FEMALE|          Robert|         Fisher|        False|         9|      9|  SECONDARY|Academy 7|              XXXXXX| XXXXXX|     2023-08-27|    2023/2024|                  52|Term 6|w/c 21/08/2023|   #|     AM|                             0.0|      0.0|        0.0| 0.0|              0.0|    0.0|      1.0|        0.0|       0.0|          0.0|              1|         nan| 4679|    1| valid|\n",
      "| 1095_2023-08-24_PM|FEMALE|           Kelly|         Carter|         True|         9|      9|  SECONDARY|Academy 7|              XXXXXX| XXXXXX|     2023-08-24|    2023/2024|                  52|Term 6|w/c 21/08/2023|   #|     PM|                             0.0|      0.0|        0.0| 0.0|              0.0|    0.0|      1.0|        0.0|       0.0|          0.0|              1|         nan| 1095|    1| valid|\n",
      "| 6024_2023-08-21_AM|FEMALE|       Christina|        Gilbert|        False|         9|      9|  SECONDARY|Academy 7|              XXXXXX| XXXXXX|     2023-08-21|    2023/2024|                  52|Term 6|w/c 21/08/2023|   #|     AM|                             0.0|      0.0|        0.0| 0.0|              0.0|    0.0|      1.0|        0.0|       0.0|          0.0|              1|         nan| 6024|    1| valid|\n",
      "| 7117_2023-08-24_AM|  MALE|       Gabriella|         Sutton|        False|         9|      9|  SECONDARY|Academy 7|              XXXXXX| XXXXXX|     2023-08-24|    2023/2024|                  52|Term 6|w/c 21/08/2023|   #|     AM|                             0.0|      0.0|        0.0| 0.0|              0.0|    0.0|      1.0|        0.0|       0.0|          0.0|              1|         nan| 7117|    1| valid|\n",
      "|  270_2023-08-24_AM|  MALE|         Michael|     Richardson|        False|         9|      9|  SECONDARY|Academy 7|              XXXXXX| XXXXXX|     2023-08-24|    2023/2024|                  52|Term 6|w/c 21/08/2023|   #|     AM|                             0.0|      0.0|        0.0| 0.0|              0.0|    0.0|      1.0|        0.0|       0.0|          0.0|              1|         nan|  270|    1| valid|\n",
      "| 4506_2023-08-25_AM|FEMALE|        Danielle|         Bowman|         True|         9|      9|  SECONDARY|Academy 7|              XXXXXX| XXXXXX|     2023-08-25|    2023/2024|                  52|Term 6|w/c 21/08/2023|   #|     AM|                             0.0|      0.0|        0.0| 0.0|              0.0|    0.0|      1.0|        0.0|       0.0|          0.0|              1|         nan| 4506|    1| valid|\n",
      "| 4891_2023-08-26_AM|  MALE|           Holly|          Lyons|        False|         9|      9|  SECONDARY|Academy 7|              XXXXXX| XXXXXX|     2023-08-26|    2023/2024|                  52|Term 6|w/c 21/08/2023|   #|     AM|                             0.0|      0.0|        0.0| 0.0|              0.0|    0.0|      1.0|        0.0|       0.0|          0.0|              1|         nan| 4891|    1| valid|\n",
      "| 9558_2023-08-24_PM|  MALE|          Hector|          White|        False|         9|      9|  SECONDARY|Academy 7|              XXXXXX| XXXXXX|     2023-08-24|    2023/2024|                  52|Term 6|w/c 21/08/2023|   #|     PM|                             0.0|      0.0|        0.0| 0.0|              0.0|    0.0|      1.0|        0.0|       0.0|          0.0|              1|         nan| 9558|    1| valid|\n",
      "| 4789_2023-08-21_PM|FEMALE|         Kristin|           Cobb|        False|         9|      9|  SECONDARY|Academy 7|              XXXXXX| XXXXXX|     2023-08-21|    2023/2024|                  52|Term 6|w/c 21/08/2023|   #|     PM|                             0.0|      0.0|        0.0| 0.0|              0.0|    0.0|      1.0|        0.0|       0.0|          0.0|              1|         nan| 4789|    1| valid|\n",
      "| 1100_2023-08-24_AM|  MALE|            Jean|      Zimmerman|        False|         9|      9|  SECONDARY|Academy 7|              XXXXXX| XXXXXX|     2023-08-24|    2023/2024|                  52|Term 6|w/c 21/08/2023|   #|     AM|                             0.0|      0.0|        0.0| 0.0|              0.0|    0.0|      1.0|        0.0|       0.0|          0.0|              1|         nan| 1100|    1| valid|\n",
      "| 8003_2023-08-26_AM|FEMALE|          Johnny|           King|         True|         9|      9|  SECONDARY|Academy 7|              XXXXXX| XXXXXX|     2023-08-26|    2023/2024|                  52|Term 6|w/c 21/08/2023|   #|     AM|                             0.0|      0.0|        0.0| 0.0|              0.0|    0.0|      1.0|        0.0|       0.0|          0.0|              1|         nan| 8003|    1| valid|\n",
      "| 8533_2023-08-23_PM|  MALE|           Kevin|         Torres|         True|         9|      9|  SECONDARY|Academy 7|              XXXXXX| XXXXXX|     2023-08-23|    2023/2024|                  52|Term 6|w/c 21/08/2023|   #|     PM|                             0.0|      0.0|        0.0| 0.0|              0.0|    0.0|      1.0|        0.0|       0.0|          0.0|              1|         nan| 8533|    1| valid|\n",
      "| 1095_2023-08-25_AM|FEMALE|           Kelly|         Carter|         True|         9|      9|  SECONDARY|Academy 7|              XXXXXX| XXXXXX|     2023-08-25|    2023/2024|                  52|Term 6|w/c 21/08/2023|   #|     AM|                             0.0|      0.0|        0.0| 0.0|              0.0|    0.0|      1.0|        0.0|       0.0|          0.0|              1|         nan| 1095|    1| valid|\n",
      "|  270_2023-08-23_PM|  MALE|         Michael|     Richardson|        False|         9|      9|  SECONDARY|Academy 7|              XXXXXX| XXXXXX|     2023-08-23|    2023/2024|                  52|Term 6|w/c 21/08/2023|   #|     PM|                             0.0|      0.0|        0.0| 0.0|              0.0|    0.0|      1.0|        0.0|       0.0|          0.0|              1|         nan|  270|    1| valid|\n",
      "| 9577_2023-08-22_AM|  MALE|         Anthony|        Johnson|        False|         9|      9|  SECONDARY|Academy 7|              XXXXXX| XXXXXX|     2023-08-22|    2023/2024|                  52|Term 6|w/c 21/08/2023|   #|     AM|                             0.0|      0.0|        0.0| 0.0|              0.0|    0.0|      1.0|        0.0|       0.0|          0.0|              1|         nan| 9577|    1| valid|\n",
      "| 4762_2023-08-24_PM|  MALE|          Joshua|           Hill|        False|         9|      9|  SECONDARY|Academy 7|              XXXXXX| XXXXXX|     2023-08-24|    2023/2024|                  52|Term 6|w/c 21/08/2023|   #|     PM|                             0.0|      0.0|        0.0| 0.0|              0.0|    0.0|      1.0|        0.0|       0.0|          0.0|              1|         nan| 4762|    1| valid|\n",
      "+-------------------+------+----------------+---------------+-------------+----------+-------+-----------+---------+--------------------+-------+---------------+-------------+--------------------+------+--------------+----+-------+--------------------------------+---------+-----------+----+-----------------+-------+---------+-----------+----------+-------------+---------------+------------+-----+-----+------+\n",
      "only showing top 20 rows\n",
      "\n"
     ]
    }
   ],
   "source": [
    "df_validf_rows.filter(\n",
    "  (F.col(\"school\") == \"Academy 7\") &\n",
    "  (F.col(\"nc_year\") == \"9\") & \n",
    "  (F.col(\"weekcommencing\") == \"w/c 21/08/2023\")\n",
    "\n",
    ").show()\n"
   ]
  },
  {
   "cell_type": "markdown",
   "metadata": {},
   "source": [
    "\n",
    "The symbol for Mark = # often indicates school closure but will need further clarification. This results in the data fields is_present and is_possible both equating to zero, although the no_reason column is 1 while unauthorised absence is 0. To avoid introducing bias, I have retained these values in the dataset; the data analyst can investigate further and make adjustments as needed.\n",
    "\n",
    "I will conclude by sorting the summary data frame by school name, week number, and year group, and writing the summary table to fact_AttendanceSummary in Parquet format for further analysis and reporting by the Data Analyst.\n",
    "\n",
    "The summary table also includes the academic year, which, although not explicitly listed in the task brief, has been added to provide more context to the data."
   ]
  },
  {
   "cell_type": "markdown",
   "metadata": {},
   "source": [
    "#### 10. Write the Summary Table to Parquet\n"
   ]
  },
  {
   "cell_type": "code",
   "execution_count": 48,
   "metadata": {},
   "outputs": [
    {
     "name": "stdout",
     "output_type": "stream",
     "text": [
      "+---------+-------+--------------+---------------------+\n",
      "|school   |nc_year|weekcommencing|attendance_percentage|\n",
      "+---------+-------+--------------+---------------------+\n",
      "|Academy 9|11     |w/c 25/03/2024|37.5                 |\n",
      "|Academy 9|11     |w/c 12/08/2024|NULL                 |\n",
      "|Academy 8|11     |w/c 21/03/2022|100.0                |\n",
      "|Academy 8|11     |w/c 01/08/2022|NULL                 |\n",
      "|Academy 3|12     |w/c 26/02/2024|100.0                |\n",
      "|Academy 9|12     |w/c 23/05/2022|75.0                 |\n",
      "|Academy 4|9      |w/c 15/05/2023|60.0                 |\n",
      "|Academy 3|13     |w/c 17/01/2022|88.5                 |\n",
      "|Academy 9|8      |w/c 22/05/2023|73.3                 |\n",
      "|Academy 9|12     |w/c 12/09/2022|100.0                |\n",
      "|Academy 4|11     |w/c 19/09/2022|83.9                 |\n",
      "|Academy 2|12     |w/c 20/02/2023|90.0                 |\n",
      "|Academy 6|10     |w/c 24/04/2023|43.8                 |\n",
      "|Academy 5|13     |w/c 11/03/2024|100.0                |\n",
      "|Academy 9|9      |w/c 12/09/2022|90.0                 |\n",
      "|Academy 3|8      |w/c 16/10/2023|NULL                 |\n",
      "|Academy 9|N2     |w/c 26/08/2024|NULL                 |\n",
      "|Academy 5|13     |w/c 20/02/2023|92.6                 |\n",
      "|Academy 9|8      |w/c 08/01/2024|100.0                |\n",
      "|Academy 4|10     |w/c 25/04/2022|60.0                 |\n",
      "+---------+-------+--------------+---------------------+\n",
      "\n"
     ]
    }
   ],
   "source": [
    "\n",
    "df_summary = (\n",
    "    df_invalidf_rows\n",
    "    \n",
    "    # 1) Group and aggregate\n",
    "    .groupBy(\"school\", \"nc_year\", \"weekcommencing\")\n",
    "    .agg(\n",
    "        F.round(\n",
    "            (F.sum(\"is_attend\") / F.sum(\"is_possible\") * 100), 1\n",
    "        ).alias(\"attendance_percentage\")\n",
    "    )\n",
    "    \n",
    "\n",
    ")\n",
    "\n",
    "df_summary.limit(20).show(truncate=False)\n",
    "\n"
   ]
  },
  {
   "cell_type": "code",
   "execution_count": 49,
   "metadata": {},
   "outputs": [
    {
     "name": "stdout",
     "output_type": "stream",
     "text": [
      "+-------+---------------------+\n",
      "|summary|attendance_percentage|\n",
      "+-------+---------------------+\n",
      "|  count|               2677.0|\n",
      "|   mean|                 78.0|\n",
      "| stddev|                 29.4|\n",
      "|    min|                  0.0|\n",
      "|    max|                100.0|\n",
      "+-------+---------------------+\n",
      "\n"
     ]
    }
   ],
   "source": [
    "# Basic statistics for the attendance_percentage column\n",
    "\n",
    "from pyspark.sql.functions import round\n",
    "\n",
    "df_summary.describe(\"attendance_percentage\") \\\n",
    "    .select(\"summary\", round(\"attendance_percentage\", 1).alias(\"attendance_percentage\")) \\\n",
    "    .show()\n"
   ]
  },
  {
   "cell_type": "code",
   "execution_count": 50,
   "metadata": {},
   "outputs": [],
   "source": [
    "#conver df_summary to pandas \n",
    "df_summary_pandas = df_summary.toPandas()\n",
    "\n",
    "#convert pandas to parquet  \n",
    "df_summary_pandas.to_parquet('data/df_summary_pandas.parquet')\n",
    "\n"
   ]
  },
  {
   "cell_type": "code",
   "execution_count": 51,
   "metadata": {},
   "outputs": [],
   "source": [
    "#chceck if the file is created\n",
    "df_summary_loaded = spark.read.parquet(\"data/df_summary_pandas.parquet\")\n"
   ]
  },
  {
   "cell_type": "code",
   "execution_count": 52,
   "metadata": {},
   "outputs": [
    {
     "name": "stdout",
     "output_type": "stream",
     "text": [
      "+---------+-------+--------------+---------------------+\n",
      "|school   |nc_year|weekcommencing|attendance_percentage|\n",
      "+---------+-------+--------------+---------------------+\n",
      "|Academy 9|11     |w/c 25/03/2024|37.5                 |\n",
      "|Academy 9|11     |w/c 12/08/2024|NULL                 |\n",
      "|Academy 8|11     |w/c 21/03/2022|100.0                |\n",
      "|Academy 8|11     |w/c 01/08/2022|NULL                 |\n",
      "|Academy 3|12     |w/c 26/02/2024|100.0                |\n",
      "|Academy 9|12     |w/c 23/05/2022|75.0                 |\n",
      "|Academy 4|9      |w/c 15/05/2023|60.0                 |\n",
      "|Academy 3|13     |w/c 17/01/2022|88.5                 |\n",
      "|Academy 9|8      |w/c 22/05/2023|73.3                 |\n",
      "|Academy 9|12     |w/c 12/09/2022|100.0                |\n",
      "|Academy 4|11     |w/c 19/09/2022|83.9                 |\n",
      "|Academy 2|12     |w/c 20/02/2023|90.0                 |\n",
      "|Academy 6|10     |w/c 24/04/2023|43.8                 |\n",
      "|Academy 5|13     |w/c 11/03/2024|100.0                |\n",
      "|Academy 9|9      |w/c 12/09/2022|90.0                 |\n",
      "|Academy 3|8      |w/c 16/10/2023|NULL                 |\n",
      "|Academy 9|N2     |w/c 26/08/2024|NULL                 |\n",
      "|Academy 5|13     |w/c 20/02/2023|92.6                 |\n",
      "|Academy 9|8      |w/c 08/01/2024|100.0                |\n",
      "|Academy 4|10     |w/c 25/04/2022|60.0                 |\n",
      "+---------+-------+--------------+---------------------+\n",
      "only showing top 20 rows\n",
      "\n"
     ]
    }
   ],
   "source": [
    "df_summary_loaded.show(truncate=False)"
   ]
  },
  {
   "cell_type": "markdown",
   "metadata": {},
   "source": [
    "#### 11. Notes for the Data Analyst\n",
    "\n",
    "The data has been cleaned and quality-assured to the best of my ability. I have identified and labelled duplicate records as invalid and provided a summary of the missing values in the attendance percentage column. For cases where attendance percentage = 0, the denominator and numerator for the field are often both 0; you may wish to examine how the attendance mark is recorded in the data, as this may provide further insights into the reasons for absence.\n",
    "\n",
    "The summary table contains the attendance percentage for each school on a weekly basis by the year group of the student, sorted by school name, week number, and year group. I used the National Curriculum Year as the year group field for consistency and accuracy over school groupings. I also used the week commencing as the basis for the week number to ensure alignment with the academic year, thereby reducing the need for an additional field.\n",
    "\n",
    "The summary statistics include the mean, median, minimum, maximum, and standard deviation of the attendance percentage across all schools, weeks, and year groups. The data has been written to fact_AttendanceSummary in Parquet format for further analysis and reporting. Please let me know if you require any additional information or further analysis."
   ]
  }
 ],
 "metadata": {
  "kernelspec": {
   "display_name": "base",
   "language": "python",
   "name": "python3"
  },
  "language_info": {
   "codemirror_mode": {
    "name": "ipython",
    "version": 3
   },
   "file_extension": ".py",
   "mimetype": "text/x-python",
   "name": "python",
   "nbconvert_exporter": "python",
   "pygments_lexer": "ipython3",
   "version": "3.11.7"
  }
 },
 "nbformat": 4,
 "nbformat_minor": 2
}
